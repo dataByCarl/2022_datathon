{
  "nbformat": 4,
  "nbformat_minor": 0,
  "metadata": {
    "colab": {
      "name": "ElderNet-CareMgt.ipynb",
      "provenance": []
    },
    "kernelspec": {
      "name": "python3",
      "display_name": "Python 3"
    },
    "language_info": {
      "name": "python"
    }
  },
  "cells": [
    {
      "cell_type": "markdown",
      "source": [
        "2022 Datathon with ElderNet\n",
        "<p>Review of Care Management data"
      ],
      "metadata": {
        "id": "I8XgZ8f4pqOY"
      }
    },
    {
      "cell_type": "code",
      "execution_count": 1,
      "metadata": {
        "id": "uANFMEeippQK"
      },
      "outputs": [],
      "source": [
        "import pandas as pd\n",
        "import numpy as np\n",
        "import matplotlib.pyplot as plt\n",
        "import seaborn as sns\n",
        "%matplotlib inline"
      ]
    },
    {
      "cell_type": "code",
      "source": [
        "from google.colab import drive\n",
        "drive.mount('/content/gdrive')"
      ],
      "metadata": {
        "colab": {
          "base_uri": "https://localhost:8080/"
        },
        "id": "LWSvGKMlqF9K",
        "outputId": "f043da1e-4596-439f-e499-c24fe1ab01fe"
      },
      "execution_count": 3,
      "outputs": [
        {
          "output_type": "stream",
          "name": "stdout",
          "text": [
            "Mounted at /content/gdrive\n"
          ]
        }
      ]
    },
    {
      "cell_type": "code",
      "source": [
        "ls /content/gdrive/MyDrive/dataPhilly_ElderNet"
      ],
      "metadata": {
        "colab": {
          "base_uri": "https://localhost:8080/"
        },
        "id": "H-dtwObMqJdZ",
        "outputId": "34de3f05-2f42-42f1-c8c2-97918ddb8949"
      },
      "execution_count": 5,
      "outputs": [
        {
          "output_type": "stream",
          "name": "stdout",
          "text": [
            "care_management.csv  combined.csv     volsvc_flat.csv\n",
            "caremgt_flat.csv     donations.csv    volunteer_services.csv\n",
            "Client_data2.csv     pantry.csv\n",
            "clientinfo_flat.csv  pantry_flat.csv\n"
          ]
        }
      ]
    },
    {
      "cell_type": "code",
      "source": [
        "caremgt=pd.read_csv('/content/gdrive/MyDrive/dataPhilly_ElderNet/care_management.csv',parse_dates=['assistance_date'])\n",
        "clientinfo=pd.read_csv('/content/gdrive/MyDrive/dataPhilly_ElderNet/Client_data2.csv')\n"
      ],
      "metadata": {
        "id": "D85S--EMq68T"
      },
      "execution_count": 6,
      "outputs": []
    },
    {
      "cell_type": "code",
      "source": [
        "# Convert DateTime to Date\n",
        "caremgt['assistance_date']=pd.to_datetime(caremgt['assistance_date']).dt.date\n",
        "clientinfo['assistance_date']=pd.to_datetime(caremgt['assistance_date']).dt.date\n"
      ],
      "metadata": {
        "id": "k_S1ExibSiXO"
      },
      "execution_count": 7,
      "outputs": []
    },
    {
      "cell_type": "markdown",
      "source": [
        "***Care Management***\n"
      ],
      "metadata": {
        "id": "k360LXRgCrVo"
      }
    },
    {
      "cell_type": "code",
      "source": [
        "caremgt.head(3)"
      ],
      "metadata": {
        "colab": {
          "base_uri": "https://localhost:8080/",
          "height": 260
        },
        "id": "wJK5eY6lrSUf",
        "outputId": "96557bb5-12c8-4fa9-e404-eaf93b3d9ff0"
      },
      "execution_count": 8,
      "outputs": [
        {
          "output_type": "execute_result",
          "data": {
            "text/plain": [
              "   anon_ID assistance_date                        assistance_category  amount  \\\n",
              "0      531      2019-01-01  Remote Contact with client (phone, email)     2.0   \n",
              "1      531      2019-01-02  Remote Contact with client (phone, email)     2.0   \n",
              "2      581      2019-01-02  Remote Contact with client (phone, email)    14.0   \n",
              "\n",
              "      unit CommType Party InitiatedBy Benefit_1 Assistance_1 Benefit_2  \\\n",
              "0  Minutes      NaN   NaN         NaN       NaN          NaN       NaN   \n",
              "1  Minutes      NaN   NaN         NaN       NaN          NaN       NaN   \n",
              "2  Minutes      NaN   NaN         NaN       NaN          NaN       NaN   \n",
              "\n",
              "  Assistance_2 Benefit_3 Assistance_3  \n",
              "0          NaN       NaN          NaN  \n",
              "1          NaN       NaN          NaN  \n",
              "2          NaN       NaN          NaN  "
            ],
            "text/html": [
              "\n",
              "  <div id=\"df-06606e86-3551-4d21-9748-eea95b8c26a1\">\n",
              "    <div class=\"colab-df-container\">\n",
              "      <div>\n",
              "<style scoped>\n",
              "    .dataframe tbody tr th:only-of-type {\n",
              "        vertical-align: middle;\n",
              "    }\n",
              "\n",
              "    .dataframe tbody tr th {\n",
              "        vertical-align: top;\n",
              "    }\n",
              "\n",
              "    .dataframe thead th {\n",
              "        text-align: right;\n",
              "    }\n",
              "</style>\n",
              "<table border=\"1\" class=\"dataframe\">\n",
              "  <thead>\n",
              "    <tr style=\"text-align: right;\">\n",
              "      <th></th>\n",
              "      <th>anon_ID</th>\n",
              "      <th>assistance_date</th>\n",
              "      <th>assistance_category</th>\n",
              "      <th>amount</th>\n",
              "      <th>unit</th>\n",
              "      <th>CommType</th>\n",
              "      <th>Party</th>\n",
              "      <th>InitiatedBy</th>\n",
              "      <th>Benefit_1</th>\n",
              "      <th>Assistance_1</th>\n",
              "      <th>Benefit_2</th>\n",
              "      <th>Assistance_2</th>\n",
              "      <th>Benefit_3</th>\n",
              "      <th>Assistance_3</th>\n",
              "    </tr>\n",
              "  </thead>\n",
              "  <tbody>\n",
              "    <tr>\n",
              "      <th>0</th>\n",
              "      <td>531</td>\n",
              "      <td>2019-01-01</td>\n",
              "      <td>Remote Contact with client (phone, email)</td>\n",
              "      <td>2.0</td>\n",
              "      <td>Minutes</td>\n",
              "      <td>NaN</td>\n",
              "      <td>NaN</td>\n",
              "      <td>NaN</td>\n",
              "      <td>NaN</td>\n",
              "      <td>NaN</td>\n",
              "      <td>NaN</td>\n",
              "      <td>NaN</td>\n",
              "      <td>NaN</td>\n",
              "      <td>NaN</td>\n",
              "    </tr>\n",
              "    <tr>\n",
              "      <th>1</th>\n",
              "      <td>531</td>\n",
              "      <td>2019-01-02</td>\n",
              "      <td>Remote Contact with client (phone, email)</td>\n",
              "      <td>2.0</td>\n",
              "      <td>Minutes</td>\n",
              "      <td>NaN</td>\n",
              "      <td>NaN</td>\n",
              "      <td>NaN</td>\n",
              "      <td>NaN</td>\n",
              "      <td>NaN</td>\n",
              "      <td>NaN</td>\n",
              "      <td>NaN</td>\n",
              "      <td>NaN</td>\n",
              "      <td>NaN</td>\n",
              "    </tr>\n",
              "    <tr>\n",
              "      <th>2</th>\n",
              "      <td>581</td>\n",
              "      <td>2019-01-02</td>\n",
              "      <td>Remote Contact with client (phone, email)</td>\n",
              "      <td>14.0</td>\n",
              "      <td>Minutes</td>\n",
              "      <td>NaN</td>\n",
              "      <td>NaN</td>\n",
              "      <td>NaN</td>\n",
              "      <td>NaN</td>\n",
              "      <td>NaN</td>\n",
              "      <td>NaN</td>\n",
              "      <td>NaN</td>\n",
              "      <td>NaN</td>\n",
              "      <td>NaN</td>\n",
              "    </tr>\n",
              "  </tbody>\n",
              "</table>\n",
              "</div>\n",
              "      <button class=\"colab-df-convert\" onclick=\"convertToInteractive('df-06606e86-3551-4d21-9748-eea95b8c26a1')\"\n",
              "              title=\"Convert this dataframe to an interactive table.\"\n",
              "              style=\"display:none;\">\n",
              "        \n",
              "  <svg xmlns=\"http://www.w3.org/2000/svg\" height=\"24px\"viewBox=\"0 0 24 24\"\n",
              "       width=\"24px\">\n",
              "    <path d=\"M0 0h24v24H0V0z\" fill=\"none\"/>\n",
              "    <path d=\"M18.56 5.44l.94 2.06.94-2.06 2.06-.94-2.06-.94-.94-2.06-.94 2.06-2.06.94zm-11 1L8.5 8.5l.94-2.06 2.06-.94-2.06-.94L8.5 2.5l-.94 2.06-2.06.94zm10 10l.94 2.06.94-2.06 2.06-.94-2.06-.94-.94-2.06-.94 2.06-2.06.94z\"/><path d=\"M17.41 7.96l-1.37-1.37c-.4-.4-.92-.59-1.43-.59-.52 0-1.04.2-1.43.59L10.3 9.45l-7.72 7.72c-.78.78-.78 2.05 0 2.83L4 21.41c.39.39.9.59 1.41.59.51 0 1.02-.2 1.41-.59l7.78-7.78 2.81-2.81c.8-.78.8-2.07 0-2.86zM5.41 20L4 18.59l7.72-7.72 1.47 1.35L5.41 20z\"/>\n",
              "  </svg>\n",
              "      </button>\n",
              "      \n",
              "  <style>\n",
              "    .colab-df-container {\n",
              "      display:flex;\n",
              "      flex-wrap:wrap;\n",
              "      gap: 12px;\n",
              "    }\n",
              "\n",
              "    .colab-df-convert {\n",
              "      background-color: #E8F0FE;\n",
              "      border: none;\n",
              "      border-radius: 50%;\n",
              "      cursor: pointer;\n",
              "      display: none;\n",
              "      fill: #1967D2;\n",
              "      height: 32px;\n",
              "      padding: 0 0 0 0;\n",
              "      width: 32px;\n",
              "    }\n",
              "\n",
              "    .colab-df-convert:hover {\n",
              "      background-color: #E2EBFA;\n",
              "      box-shadow: 0px 1px 2px rgba(60, 64, 67, 0.3), 0px 1px 3px 1px rgba(60, 64, 67, 0.15);\n",
              "      fill: #174EA6;\n",
              "    }\n",
              "\n",
              "    [theme=dark] .colab-df-convert {\n",
              "      background-color: #3B4455;\n",
              "      fill: #D2E3FC;\n",
              "    }\n",
              "\n",
              "    [theme=dark] .colab-df-convert:hover {\n",
              "      background-color: #434B5C;\n",
              "      box-shadow: 0px 1px 3px 1px rgba(0, 0, 0, 0.15);\n",
              "      filter: drop-shadow(0px 1px 2px rgba(0, 0, 0, 0.3));\n",
              "      fill: #FFFFFF;\n",
              "    }\n",
              "  </style>\n",
              "\n",
              "      <script>\n",
              "        const buttonEl =\n",
              "          document.querySelector('#df-06606e86-3551-4d21-9748-eea95b8c26a1 button.colab-df-convert');\n",
              "        buttonEl.style.display =\n",
              "          google.colab.kernel.accessAllowed ? 'block' : 'none';\n",
              "\n",
              "        async function convertToInteractive(key) {\n",
              "          const element = document.querySelector('#df-06606e86-3551-4d21-9748-eea95b8c26a1');\n",
              "          const dataTable =\n",
              "            await google.colab.kernel.invokeFunction('convertToInteractive',\n",
              "                                                     [key], {});\n",
              "          if (!dataTable) return;\n",
              "\n",
              "          const docLinkHtml = 'Like what you see? Visit the ' +\n",
              "            '<a target=\"_blank\" href=https://colab.research.google.com/notebooks/data_table.ipynb>data table notebook</a>'\n",
              "            + ' to learn more about interactive tables.';\n",
              "          element.innerHTML = '';\n",
              "          dataTable['output_type'] = 'display_data';\n",
              "          await google.colab.output.renderOutput(dataTable, element);\n",
              "          const docLink = document.createElement('div');\n",
              "          docLink.innerHTML = docLinkHtml;\n",
              "          element.appendChild(docLink);\n",
              "        }\n",
              "      </script>\n",
              "    </div>\n",
              "  </div>\n",
              "  "
            ]
          },
          "metadata": {},
          "execution_count": 8
        }
      ]
    },
    {
      "cell_type": "code",
      "source": [
        "# Check for nulls\n",
        "caremgt.isnull().sum()"
      ],
      "metadata": {
        "id": "VRc1JUG9Xho6",
        "colab": {
          "base_uri": "https://localhost:8080/"
        },
        "outputId": "e24325d3-8616-47f6-a746-a4937dcd9380"
      },
      "execution_count": 9,
      "outputs": [
        {
          "output_type": "execute_result",
          "data": {
            "text/plain": [
              "anon_ID                    0\n",
              "assistance_date            0\n",
              "assistance_category        0\n",
              "amount                     0\n",
              "unit                       0\n",
              "CommType                7819\n",
              "Party                   7812\n",
              "InitiatedBy             7842\n",
              "Benefit_1               8427\n",
              "Assistance_1            8361\n",
              "Benefit_2              11896\n",
              "Assistance_2           11899\n",
              "Benefit_3              12403\n",
              "Assistance_3           12404\n",
              "dtype: int64"
            ]
          },
          "metadata": {},
          "execution_count": 9
        }
      ]
    },
    {
      "cell_type": "markdown",
      "source": [
        "**Questions**:\n",
        "1) Should we drop Benefit_1/Assistance_1/2..3 due to high number of missing values, or use subset?"
      ],
      "metadata": {
        "id": "fWak3AH8HuuN"
      }
    },
    {
      "cell_type": "code",
      "source": [
        "# Drop the columns with Benefit & Assistance\n",
        "caremgt=caremgt.drop('Benefit_1',axis=1)\n",
        "caremgt=caremgt.drop('Assistance_1',axis=1)\n",
        "caremgt=caremgt.drop('Benefit_2',axis=1)\n",
        "caremgt=caremgt.drop('Assistance_2',axis=1)\n",
        "caremgt=caremgt.drop('Benefit_3',axis=1)\n",
        "caremgt=caremgt.drop('Assistance_3',axis=1)"
      ],
      "metadata": {
        "id": "jAf3DRjtjsVX"
      },
      "execution_count": 10,
      "outputs": []
    },
    {
      "cell_type": "code",
      "source": [
        "caremgt=caremgt.drop('InitiatedBy',axis=1)\n",
        "caremgt=caremgt.drop('CommType',axis=1)\n",
        "caremgt=caremgt.drop('Party',axis=1)"
      ],
      "metadata": {
        "id": "vOeuaXoXkFqd"
      },
      "execution_count": 11,
      "outputs": []
    },
    {
      "cell_type": "code",
      "source": [
        "caremgt.info()"
      ],
      "metadata": {
        "colab": {
          "base_uri": "https://localhost:8080/"
        },
        "id": "8YDVZz-esI5K",
        "outputId": "7184cd4e-02f8-400c-905d-e4e1f95f6bdd"
      },
      "execution_count": 12,
      "outputs": [
        {
          "output_type": "stream",
          "name": "stdout",
          "text": [
            "<class 'pandas.core.frame.DataFrame'>\n",
            "RangeIndex: 12487 entries, 0 to 12486\n",
            "Data columns (total 5 columns):\n",
            " #   Column               Non-Null Count  Dtype  \n",
            "---  ------               --------------  -----  \n",
            " 0   anon_ID              12487 non-null  int64  \n",
            " 1   assistance_date      12487 non-null  object \n",
            " 2   assistance_category  12487 non-null  object \n",
            " 3   amount               12487 non-null  float64\n",
            " 4   unit                 12487 non-null  object \n",
            "dtypes: float64(1), int64(1), object(3)\n",
            "memory usage: 487.9+ KB\n"
          ]
        }
      ]
    },
    {
      "cell_type": "code",
      "source": [
        "caremgt['anon_ID']=caremgt['anon_ID'].astype(str)\n",
        "caremgt.describe().transpose()"
      ],
      "metadata": {
        "colab": {
          "base_uri": "https://localhost:8080/",
          "height": 81
        },
        "id": "i_R7rEtKfUzp",
        "outputId": "4bf9f2ab-ec42-4ece-df26-e4c87305a8ff"
      },
      "execution_count": 13,
      "outputs": [
        {
          "output_type": "execute_result",
          "data": {
            "text/plain": [
              "          count      mean        std  min  25%  50%  75%    max\n",
              "amount  12487.0  7.381176  13.594129  1.0  1.0  2.0  7.0  183.0"
            ],
            "text/html": [
              "\n",
              "  <div id=\"df-9c7b91bd-2008-48fb-bd9d-ed351186438b\">\n",
              "    <div class=\"colab-df-container\">\n",
              "      <div>\n",
              "<style scoped>\n",
              "    .dataframe tbody tr th:only-of-type {\n",
              "        vertical-align: middle;\n",
              "    }\n",
              "\n",
              "    .dataframe tbody tr th {\n",
              "        vertical-align: top;\n",
              "    }\n",
              "\n",
              "    .dataframe thead th {\n",
              "        text-align: right;\n",
              "    }\n",
              "</style>\n",
              "<table border=\"1\" class=\"dataframe\">\n",
              "  <thead>\n",
              "    <tr style=\"text-align: right;\">\n",
              "      <th></th>\n",
              "      <th>count</th>\n",
              "      <th>mean</th>\n",
              "      <th>std</th>\n",
              "      <th>min</th>\n",
              "      <th>25%</th>\n",
              "      <th>50%</th>\n",
              "      <th>75%</th>\n",
              "      <th>max</th>\n",
              "    </tr>\n",
              "  </thead>\n",
              "  <tbody>\n",
              "    <tr>\n",
              "      <th>amount</th>\n",
              "      <td>12487.0</td>\n",
              "      <td>7.381176</td>\n",
              "      <td>13.594129</td>\n",
              "      <td>1.0</td>\n",
              "      <td>1.0</td>\n",
              "      <td>2.0</td>\n",
              "      <td>7.0</td>\n",
              "      <td>183.0</td>\n",
              "    </tr>\n",
              "  </tbody>\n",
              "</table>\n",
              "</div>\n",
              "      <button class=\"colab-df-convert\" onclick=\"convertToInteractive('df-9c7b91bd-2008-48fb-bd9d-ed351186438b')\"\n",
              "              title=\"Convert this dataframe to an interactive table.\"\n",
              "              style=\"display:none;\">\n",
              "        \n",
              "  <svg xmlns=\"http://www.w3.org/2000/svg\" height=\"24px\"viewBox=\"0 0 24 24\"\n",
              "       width=\"24px\">\n",
              "    <path d=\"M0 0h24v24H0V0z\" fill=\"none\"/>\n",
              "    <path d=\"M18.56 5.44l.94 2.06.94-2.06 2.06-.94-2.06-.94-.94-2.06-.94 2.06-2.06.94zm-11 1L8.5 8.5l.94-2.06 2.06-.94-2.06-.94L8.5 2.5l-.94 2.06-2.06.94zm10 10l.94 2.06.94-2.06 2.06-.94-2.06-.94-.94-2.06-.94 2.06-2.06.94z\"/><path d=\"M17.41 7.96l-1.37-1.37c-.4-.4-.92-.59-1.43-.59-.52 0-1.04.2-1.43.59L10.3 9.45l-7.72 7.72c-.78.78-.78 2.05 0 2.83L4 21.41c.39.39.9.59 1.41.59.51 0 1.02-.2 1.41-.59l7.78-7.78 2.81-2.81c.8-.78.8-2.07 0-2.86zM5.41 20L4 18.59l7.72-7.72 1.47 1.35L5.41 20z\"/>\n",
              "  </svg>\n",
              "      </button>\n",
              "      \n",
              "  <style>\n",
              "    .colab-df-container {\n",
              "      display:flex;\n",
              "      flex-wrap:wrap;\n",
              "      gap: 12px;\n",
              "    }\n",
              "\n",
              "    .colab-df-convert {\n",
              "      background-color: #E8F0FE;\n",
              "      border: none;\n",
              "      border-radius: 50%;\n",
              "      cursor: pointer;\n",
              "      display: none;\n",
              "      fill: #1967D2;\n",
              "      height: 32px;\n",
              "      padding: 0 0 0 0;\n",
              "      width: 32px;\n",
              "    }\n",
              "\n",
              "    .colab-df-convert:hover {\n",
              "      background-color: #E2EBFA;\n",
              "      box-shadow: 0px 1px 2px rgba(60, 64, 67, 0.3), 0px 1px 3px 1px rgba(60, 64, 67, 0.15);\n",
              "      fill: #174EA6;\n",
              "    }\n",
              "\n",
              "    [theme=dark] .colab-df-convert {\n",
              "      background-color: #3B4455;\n",
              "      fill: #D2E3FC;\n",
              "    }\n",
              "\n",
              "    [theme=dark] .colab-df-convert:hover {\n",
              "      background-color: #434B5C;\n",
              "      box-shadow: 0px 1px 3px 1px rgba(0, 0, 0, 0.15);\n",
              "      filter: drop-shadow(0px 1px 2px rgba(0, 0, 0, 0.3));\n",
              "      fill: #FFFFFF;\n",
              "    }\n",
              "  </style>\n",
              "\n",
              "      <script>\n",
              "        const buttonEl =\n",
              "          document.querySelector('#df-9c7b91bd-2008-48fb-bd9d-ed351186438b button.colab-df-convert');\n",
              "        buttonEl.style.display =\n",
              "          google.colab.kernel.accessAllowed ? 'block' : 'none';\n",
              "\n",
              "        async function convertToInteractive(key) {\n",
              "          const element = document.querySelector('#df-9c7b91bd-2008-48fb-bd9d-ed351186438b');\n",
              "          const dataTable =\n",
              "            await google.colab.kernel.invokeFunction('convertToInteractive',\n",
              "                                                     [key], {});\n",
              "          if (!dataTable) return;\n",
              "\n",
              "          const docLinkHtml = 'Like what you see? Visit the ' +\n",
              "            '<a target=\"_blank\" href=https://colab.research.google.com/notebooks/data_table.ipynb>data table notebook</a>'\n",
              "            + ' to learn more about interactive tables.';\n",
              "          element.innerHTML = '';\n",
              "          dataTable['output_type'] = 'display_data';\n",
              "          await google.colab.output.renderOutput(dataTable, element);\n",
              "          const docLink = document.createElement('div');\n",
              "          docLink.innerHTML = docLinkHtml;\n",
              "          element.appendChild(docLink);\n",
              "        }\n",
              "      </script>\n",
              "    </div>\n",
              "  </div>\n",
              "  "
            ]
          },
          "metadata": {},
          "execution_count": 13
        }
      ]
    },
    {
      "cell_type": "code",
      "source": [
        "# How many types of Amount Unit\n",
        "caremgt['unit'].unique()"
      ],
      "metadata": {
        "colab": {
          "base_uri": "https://localhost:8080/"
        },
        "id": "Nrtek8KLUi_U",
        "outputId": "57130131-cedb-4cd3-85dc-256f89e5aeec"
      },
      "execution_count": 14,
      "outputs": [
        {
          "output_type": "execute_result",
          "data": {
            "text/plain": [
              "array(['Minutes', 'Dollars', 'Pounds'], dtype=object)"
            ]
          },
          "metadata": {},
          "execution_count": 14
        }
      ]
    },
    {
      "cell_type": "code",
      "source": [
        "# Need to separate into columns per unit type\n",
        "# While not strictly needed for adding, will make it simpler to explain.\n",
        "careMinutes_L=[]\n",
        "careDollars_L=[]\n",
        "carePounds_L=[]\n",
        "\n",
        "\n",
        "for ind in caremgt.index:\n",
        "  if (caremgt['unit'][ind] == 'Minutes'):\n",
        "    careMinutes_L.append(caremgt['amount'][ind])\n",
        "    careDollars_L.append('0')\n",
        "    carePounds_L.append('0')\n",
        "  elif (caremgt['unit'][ind] == 'Dollars'):\n",
        "    careMinutes_L.append('0')\n",
        "    careDollars_L.append(caremgt['amount'][ind])\n",
        "    carePounds_L.append('0')\n",
        "  elif (caremgt['unit'][ind] == 'Pounds'):\n",
        "    careMinutes_L.append('0')\n",
        "    careDollars_L.append('0')\n",
        "    carePounds_L.append(caremgt['amount'][ind])\n",
        "  else:\n",
        "    careMinutes_L.append('0')\n",
        "    careDollars_L.append('0')\n",
        "    carePounds_L.append('0')\n",
        "\n",
        "# Append new category/unit columns\n",
        "caremgt['careMinutes']=pd.DataFrame(careMinutes_L).astype(float)\n",
        "caremgt['careDollars']=pd.DataFrame(careDollars_L).astype(float)\n",
        "caremgt['carePounds']=pd.DataFrame(carePounds_L).astype(float)"
      ],
      "metadata": {
        "id": "O7YdTCmeAN_Y"
      },
      "execution_count": 15,
      "outputs": []
    },
    {
      "cell_type": "code",
      "source": [
        "caremgt.info()"
      ],
      "metadata": {
        "colab": {
          "base_uri": "https://localhost:8080/"
        },
        "id": "RK0pdJ0InLtk",
        "outputId": "f02dfd94-a2d0-415d-f68c-e67cf6f3d099"
      },
      "execution_count": 16,
      "outputs": [
        {
          "output_type": "stream",
          "name": "stdout",
          "text": [
            "<class 'pandas.core.frame.DataFrame'>\n",
            "RangeIndex: 12487 entries, 0 to 12486\n",
            "Data columns (total 8 columns):\n",
            " #   Column               Non-Null Count  Dtype  \n",
            "---  ------               --------------  -----  \n",
            " 0   anon_ID              12487 non-null  object \n",
            " 1   assistance_date      12487 non-null  object \n",
            " 2   assistance_category  12487 non-null  object \n",
            " 3   amount               12487 non-null  float64\n",
            " 4   unit                 12487 non-null  object \n",
            " 5   careMinutes          12487 non-null  float64\n",
            " 6   careDollars          12487 non-null  float64\n",
            " 7   carePounds           12487 non-null  float64\n",
            "dtypes: float64(4), object(4)\n",
            "memory usage: 780.6+ KB\n"
          ]
        }
      ]
    },
    {
      "cell_type": "code",
      "source": [
        "# convert assistance_date \"object\" to \"date\" format\n",
        "#caremgt['assistance_date']=pd.to_datetime(caremgt['assistance_date']).dt.date\n",
        "\n",
        "\n",
        "# Append a column 'first_assist' based on minimum date per anon_ID\n",
        "first_assist=caremgt.groupby(['anon_ID'])['assistance_date'].min()\n",
        "cm_min_df=pd.DataFrame(first_assist)\n",
        "cm_min_df.rename(columns={'assistance_date':'care_first_assist'},inplace=True)\n",
        "cm_min_df['care_first_assist']=pd.to_datetime(cm_min_df['care_first_assist']).dt.date\n",
        "caremgt=pd.merge(caremgt,cm_min_df, on=['anon_ID'])\n",
        "\n",
        "# Append a column 'last_assist'\n",
        "last_assist=caremgt.groupby(['anon_ID'])['assistance_date'].max()\n",
        "cm_max_df=pd.DataFrame(last_assist)\n",
        "cm_max_df.rename(columns={'assistance_date':'care_last_assist'},inplace=True)\n",
        "cm_max_df['care_last_assist']=pd.to_datetime(cm_max_df['care_last_assist']).dt.date\n",
        "caremgt=pd.merge(caremgt,cm_max_df, on=['anon_ID'])\n",
        "\n",
        "# durationOfAssist = lastAssist - firstAssist\n",
        "caremgt['careDuration'] =caremgt['care_last_assist'] - caremgt['care_first_assist']"
      ],
      "metadata": {
        "id": "XlmEASmY-XzX"
      },
      "execution_count": 17,
      "outputs": []
    },
    {
      "cell_type": "code",
      "source": [
        "caremgt.tail(5)"
      ],
      "metadata": {
        "id": "hz21m5PpSUgS",
        "colab": {
          "base_uri": "https://localhost:8080/",
          "height": 305
        },
        "outputId": "9fd3d5af-9ab0-4386-b43f-6ae4c7d0e45b"
      },
      "execution_count": 18,
      "outputs": [
        {
          "output_type": "execute_result",
          "data": {
            "text/plain": [
              "      anon_ID assistance_date                        assistance_category  \\\n",
              "12482     443      2021-09-02                  Remote Contact w/o client   \n",
              "12483     443      2021-09-02  Remote Contact with client (phone, email)   \n",
              "12484     182      2021-08-26                                  Community   \n",
              "12485     411      2021-08-31                            ElderNet Office   \n",
              "12486     197      2021-09-07  Remote Contact with client (phone, email)   \n",
              "\n",
              "       amount     unit  careMinutes  careDollars  carePounds  \\\n",
              "12482     3.0  Minutes          3.0          0.0         0.0   \n",
              "12483     1.0  Minutes          1.0          0.0         0.0   \n",
              "12484    10.0  Minutes         10.0          0.0         0.0   \n",
              "12485     6.0  Minutes          6.0          0.0         0.0   \n",
              "12486     3.0  Minutes          3.0          0.0         0.0   \n",
              "\n",
              "      care_first_assist care_last_assist careDuration  \n",
              "12482        2021-08-24       2021-09-02       9 days  \n",
              "12483        2021-08-24       2021-09-02       9 days  \n",
              "12484        2021-08-26       2021-08-26       0 days  \n",
              "12485        2021-08-31       2021-08-31       0 days  \n",
              "12486        2021-09-07       2021-09-07       0 days  "
            ],
            "text/html": [
              "\n",
              "  <div id=\"df-46aeccab-3a37-4a1b-8f1e-7574b2d0db24\">\n",
              "    <div class=\"colab-df-container\">\n",
              "      <div>\n",
              "<style scoped>\n",
              "    .dataframe tbody tr th:only-of-type {\n",
              "        vertical-align: middle;\n",
              "    }\n",
              "\n",
              "    .dataframe tbody tr th {\n",
              "        vertical-align: top;\n",
              "    }\n",
              "\n",
              "    .dataframe thead th {\n",
              "        text-align: right;\n",
              "    }\n",
              "</style>\n",
              "<table border=\"1\" class=\"dataframe\">\n",
              "  <thead>\n",
              "    <tr style=\"text-align: right;\">\n",
              "      <th></th>\n",
              "      <th>anon_ID</th>\n",
              "      <th>assistance_date</th>\n",
              "      <th>assistance_category</th>\n",
              "      <th>amount</th>\n",
              "      <th>unit</th>\n",
              "      <th>careMinutes</th>\n",
              "      <th>careDollars</th>\n",
              "      <th>carePounds</th>\n",
              "      <th>care_first_assist</th>\n",
              "      <th>care_last_assist</th>\n",
              "      <th>careDuration</th>\n",
              "    </tr>\n",
              "  </thead>\n",
              "  <tbody>\n",
              "    <tr>\n",
              "      <th>12482</th>\n",
              "      <td>443</td>\n",
              "      <td>2021-09-02</td>\n",
              "      <td>Remote Contact w/o client</td>\n",
              "      <td>3.0</td>\n",
              "      <td>Minutes</td>\n",
              "      <td>3.0</td>\n",
              "      <td>0.0</td>\n",
              "      <td>0.0</td>\n",
              "      <td>2021-08-24</td>\n",
              "      <td>2021-09-02</td>\n",
              "      <td>9 days</td>\n",
              "    </tr>\n",
              "    <tr>\n",
              "      <th>12483</th>\n",
              "      <td>443</td>\n",
              "      <td>2021-09-02</td>\n",
              "      <td>Remote Contact with client (phone, email)</td>\n",
              "      <td>1.0</td>\n",
              "      <td>Minutes</td>\n",
              "      <td>1.0</td>\n",
              "      <td>0.0</td>\n",
              "      <td>0.0</td>\n",
              "      <td>2021-08-24</td>\n",
              "      <td>2021-09-02</td>\n",
              "      <td>9 days</td>\n",
              "    </tr>\n",
              "    <tr>\n",
              "      <th>12484</th>\n",
              "      <td>182</td>\n",
              "      <td>2021-08-26</td>\n",
              "      <td>Community</td>\n",
              "      <td>10.0</td>\n",
              "      <td>Minutes</td>\n",
              "      <td>10.0</td>\n",
              "      <td>0.0</td>\n",
              "      <td>0.0</td>\n",
              "      <td>2021-08-26</td>\n",
              "      <td>2021-08-26</td>\n",
              "      <td>0 days</td>\n",
              "    </tr>\n",
              "    <tr>\n",
              "      <th>12485</th>\n",
              "      <td>411</td>\n",
              "      <td>2021-08-31</td>\n",
              "      <td>ElderNet Office</td>\n",
              "      <td>6.0</td>\n",
              "      <td>Minutes</td>\n",
              "      <td>6.0</td>\n",
              "      <td>0.0</td>\n",
              "      <td>0.0</td>\n",
              "      <td>2021-08-31</td>\n",
              "      <td>2021-08-31</td>\n",
              "      <td>0 days</td>\n",
              "    </tr>\n",
              "    <tr>\n",
              "      <th>12486</th>\n",
              "      <td>197</td>\n",
              "      <td>2021-09-07</td>\n",
              "      <td>Remote Contact with client (phone, email)</td>\n",
              "      <td>3.0</td>\n",
              "      <td>Minutes</td>\n",
              "      <td>3.0</td>\n",
              "      <td>0.0</td>\n",
              "      <td>0.0</td>\n",
              "      <td>2021-09-07</td>\n",
              "      <td>2021-09-07</td>\n",
              "      <td>0 days</td>\n",
              "    </tr>\n",
              "  </tbody>\n",
              "</table>\n",
              "</div>\n",
              "      <button class=\"colab-df-convert\" onclick=\"convertToInteractive('df-46aeccab-3a37-4a1b-8f1e-7574b2d0db24')\"\n",
              "              title=\"Convert this dataframe to an interactive table.\"\n",
              "              style=\"display:none;\">\n",
              "        \n",
              "  <svg xmlns=\"http://www.w3.org/2000/svg\" height=\"24px\"viewBox=\"0 0 24 24\"\n",
              "       width=\"24px\">\n",
              "    <path d=\"M0 0h24v24H0V0z\" fill=\"none\"/>\n",
              "    <path d=\"M18.56 5.44l.94 2.06.94-2.06 2.06-.94-2.06-.94-.94-2.06-.94 2.06-2.06.94zm-11 1L8.5 8.5l.94-2.06 2.06-.94-2.06-.94L8.5 2.5l-.94 2.06-2.06.94zm10 10l.94 2.06.94-2.06 2.06-.94-2.06-.94-.94-2.06-.94 2.06-2.06.94z\"/><path d=\"M17.41 7.96l-1.37-1.37c-.4-.4-.92-.59-1.43-.59-.52 0-1.04.2-1.43.59L10.3 9.45l-7.72 7.72c-.78.78-.78 2.05 0 2.83L4 21.41c.39.39.9.59 1.41.59.51 0 1.02-.2 1.41-.59l7.78-7.78 2.81-2.81c.8-.78.8-2.07 0-2.86zM5.41 20L4 18.59l7.72-7.72 1.47 1.35L5.41 20z\"/>\n",
              "  </svg>\n",
              "      </button>\n",
              "      \n",
              "  <style>\n",
              "    .colab-df-container {\n",
              "      display:flex;\n",
              "      flex-wrap:wrap;\n",
              "      gap: 12px;\n",
              "    }\n",
              "\n",
              "    .colab-df-convert {\n",
              "      background-color: #E8F0FE;\n",
              "      border: none;\n",
              "      border-radius: 50%;\n",
              "      cursor: pointer;\n",
              "      display: none;\n",
              "      fill: #1967D2;\n",
              "      height: 32px;\n",
              "      padding: 0 0 0 0;\n",
              "      width: 32px;\n",
              "    }\n",
              "\n",
              "    .colab-df-convert:hover {\n",
              "      background-color: #E2EBFA;\n",
              "      box-shadow: 0px 1px 2px rgba(60, 64, 67, 0.3), 0px 1px 3px 1px rgba(60, 64, 67, 0.15);\n",
              "      fill: #174EA6;\n",
              "    }\n",
              "\n",
              "    [theme=dark] .colab-df-convert {\n",
              "      background-color: #3B4455;\n",
              "      fill: #D2E3FC;\n",
              "    }\n",
              "\n",
              "    [theme=dark] .colab-df-convert:hover {\n",
              "      background-color: #434B5C;\n",
              "      box-shadow: 0px 1px 3px 1px rgba(0, 0, 0, 0.15);\n",
              "      filter: drop-shadow(0px 1px 2px rgba(0, 0, 0, 0.3));\n",
              "      fill: #FFFFFF;\n",
              "    }\n",
              "  </style>\n",
              "\n",
              "      <script>\n",
              "        const buttonEl =\n",
              "          document.querySelector('#df-46aeccab-3a37-4a1b-8f1e-7574b2d0db24 button.colab-df-convert');\n",
              "        buttonEl.style.display =\n",
              "          google.colab.kernel.accessAllowed ? 'block' : 'none';\n",
              "\n",
              "        async function convertToInteractive(key) {\n",
              "          const element = document.querySelector('#df-46aeccab-3a37-4a1b-8f1e-7574b2d0db24');\n",
              "          const dataTable =\n",
              "            await google.colab.kernel.invokeFunction('convertToInteractive',\n",
              "                                                     [key], {});\n",
              "          if (!dataTable) return;\n",
              "\n",
              "          const docLinkHtml = 'Like what you see? Visit the ' +\n",
              "            '<a target=\"_blank\" href=https://colab.research.google.com/notebooks/data_table.ipynb>data table notebook</a>'\n",
              "            + ' to learn more about interactive tables.';\n",
              "          element.innerHTML = '';\n",
              "          dataTable['output_type'] = 'display_data';\n",
              "          await google.colab.output.renderOutput(dataTable, element);\n",
              "          const docLink = document.createElement('div');\n",
              "          docLink.innerHTML = docLinkHtml;\n",
              "          element.appendChild(docLink);\n",
              "        }\n",
              "      </script>\n",
              "    </div>\n",
              "  </div>\n",
              "  "
            ]
          },
          "metadata": {},
          "execution_count": 18
        }
      ]
    },
    {
      "cell_type": "code",
      "source": [
        "# Append countOfAssists (total count, not subdivided by type)\n",
        "countOfAssists=caremgt.groupby(['anon_ID'])['assistance_date'].count()\n",
        "countOfAssists_df=pd.DataFrame(countOfAssists)\n",
        "countOfAssists_df.rename(columns={'assistance_date':'countOfAssists'},inplace=True)\n",
        "caremgt=pd.merge(caremgt,countOfAssists_df, on=['anon_ID'])"
      ],
      "metadata": {
        "id": "PQ9pns3BMXMr"
      },
      "execution_count": 19,
      "outputs": []
    },
    {
      "cell_type": "code",
      "source": [
        "# Calculate: sumOfMinutes, sumOfPounds, sumOfDollars\n",
        "# We'll then aggregate this per person\n",
        "sumOfMinutes=caremgt.groupby(['anon_ID'])['careMinutes'].sum()\n",
        "sumOfDollars=caremgt.groupby(['anon_ID'])['careDollars'].sum()\n",
        "sumOfPounds=caremgt.groupby(['anon_ID'])['carePounds'].sum()\n",
        "\n",
        "sumOfMinutes_df=pd.DataFrame(sumOfMinutes)\n",
        "sumOfDollars_df=pd.DataFrame(sumOfDollars)\n",
        "sumOfPounds_df=pd.DataFrame(sumOfPounds)\n",
        "\n",
        "sumOfMinutes_df.rename(columns={'careMinutes':'sumOfCareMinutes'},inplace=True)\n",
        "sumOfDollars_df.rename(columns={'careDollars':'sumOfCareDollars'},inplace=True)\n",
        "sumOfPounds_df.rename(columns={'carePounds':'sumOfCarePounds'},inplace=True)\n",
        "\n",
        "caremgt=pd.merge(caremgt,sumOfMinutes_df, on=['anon_ID'])\n",
        "caremgt=pd.merge(caremgt,sumOfDollars_df, on=['anon_ID'])\n",
        "caremgt=pd.merge(caremgt,sumOfPounds_df, on=['anon_ID'])"
      ],
      "metadata": {
        "id": "cdfSUwSTMXU4"
      },
      "execution_count": 20,
      "outputs": []
    },
    {
      "cell_type": "markdown",
      "source": [
        "Q. Should we look at counts by category over time?"
      ],
      "metadata": {
        "id": "rvjjjBYBwu1K"
      }
    },
    {
      "cell_type": "code",
      "source": [
        "# Drop duplicate rows (flatten)\n",
        "caremgt.drop_duplicates(subset='anon_ID',inplace=True)"
      ],
      "metadata": {
        "id": "jXDxr_KwODuC"
      },
      "execution_count": null,
      "outputs": []
    },
    {
      "cell_type": "code",
      "source": [
        "# Drop careMinutes, careDollars and carePounds now they are rolled up in sum\n",
        "caremgt=caremgt.drop('careMinutes',axis=1)\n",
        "caremgt=caremgt.drop('careDollars',axis=1)\n",
        "caremgt=caremgt.drop('carePounds',axis=1)"
      ],
      "metadata": {
        "id": "QfOXLtyWpeIJ"
      },
      "execution_count": null,
      "outputs": []
    },
    {
      "cell_type": "code",
      "source": [
        "# Drop columns: assistance_date, amount, unit\n",
        "caremgt=caremgt.drop('assistance_date',axis=1)\n",
        "caremgt=caremgt.drop('amount',axis=1)\n",
        "caremgt=caremgt.drop('unit',axis=1)\n",
        "\n",
        "# We didn't transpose minutes into column per category, so this column doesn't curently make sense in summed view\n",
        "caremgt=caremgt.drop('assistance_category',axis=1)\n"
      ],
      "metadata": {
        "id": "gpmNMblgVhkU"
      },
      "execution_count": 21,
      "outputs": []
    },
    {
      "cell_type": "code",
      "source": [
        "#caremgt.sort_values('anon_ID',inplace=True)\n",
        "\n"
      ],
      "metadata": {
        "id": "HEfXEorPHKi7"
      },
      "execution_count": null,
      "outputs": []
    },
    {
      "cell_type": "code",
      "source": [
        "caremgt.head(3)"
      ],
      "metadata": {
        "colab": {
          "base_uri": "https://localhost:8080/",
          "height": 143
        },
        "id": "Gl_xeYBFNh7o",
        "outputId": "7d4b2953-3760-41f7-a917-125846d5347d"
      },
      "execution_count": null,
      "outputs": [
        {
          "output_type": "execute_result",
          "data": {
            "text/html": [
              "\n",
              "  <div id=\"df-8d067fca-7c32-4607-8b68-44db942f369e\">\n",
              "    <div class=\"colab-df-container\">\n",
              "      <div>\n",
              "<style scoped>\n",
              "    .dataframe tbody tr th:only-of-type {\n",
              "        vertical-align: middle;\n",
              "    }\n",
              "\n",
              "    .dataframe tbody tr th {\n",
              "        vertical-align: top;\n",
              "    }\n",
              "\n",
              "    .dataframe thead th {\n",
              "        text-align: right;\n",
              "    }\n",
              "</style>\n",
              "<table border=\"1\" class=\"dataframe\">\n",
              "  <thead>\n",
              "    <tr style=\"text-align: right;\">\n",
              "      <th></th>\n",
              "      <th>anon_ID</th>\n",
              "      <th>care_first_assist</th>\n",
              "      <th>care_last_assist</th>\n",
              "      <th>careDuration</th>\n",
              "      <th>countOfAssists</th>\n",
              "      <th>sumOfCareMinutes</th>\n",
              "      <th>sumOfCareDollars</th>\n",
              "      <th>sumOfCarePounds</th>\n",
              "    </tr>\n",
              "  </thead>\n",
              "  <tbody>\n",
              "    <tr>\n",
              "      <th>0</th>\n",
              "      <td>531</td>\n",
              "      <td>2019-01-01</td>\n",
              "      <td>2020-04-13</td>\n",
              "      <td>468 days</td>\n",
              "      <td>135</td>\n",
              "      <td>489.0</td>\n",
              "      <td>0.0</td>\n",
              "      <td>0.0</td>\n",
              "    </tr>\n",
              "    <tr>\n",
              "      <th>135</th>\n",
              "      <td>581</td>\n",
              "      <td>2019-01-02</td>\n",
              "      <td>2021-02-26</td>\n",
              "      <td>786 days</td>\n",
              "      <td>11</td>\n",
              "      <td>58.0</td>\n",
              "      <td>0.0</td>\n",
              "      <td>0.0</td>\n",
              "    </tr>\n",
              "    <tr>\n",
              "      <th>146</th>\n",
              "      <td>337</td>\n",
              "      <td>2019-01-02</td>\n",
              "      <td>2021-08-31</td>\n",
              "      <td>972 days</td>\n",
              "      <td>271</td>\n",
              "      <td>1298.0</td>\n",
              "      <td>0.0</td>\n",
              "      <td>0.0</td>\n",
              "    </tr>\n",
              "  </tbody>\n",
              "</table>\n",
              "</div>\n",
              "      <button class=\"colab-df-convert\" onclick=\"convertToInteractive('df-8d067fca-7c32-4607-8b68-44db942f369e')\"\n",
              "              title=\"Convert this dataframe to an interactive table.\"\n",
              "              style=\"display:none;\">\n",
              "        \n",
              "  <svg xmlns=\"http://www.w3.org/2000/svg\" height=\"24px\"viewBox=\"0 0 24 24\"\n",
              "       width=\"24px\">\n",
              "    <path d=\"M0 0h24v24H0V0z\" fill=\"none\"/>\n",
              "    <path d=\"M18.56 5.44l.94 2.06.94-2.06 2.06-.94-2.06-.94-.94-2.06-.94 2.06-2.06.94zm-11 1L8.5 8.5l.94-2.06 2.06-.94-2.06-.94L8.5 2.5l-.94 2.06-2.06.94zm10 10l.94 2.06.94-2.06 2.06-.94-2.06-.94-.94-2.06-.94 2.06-2.06.94z\"/><path d=\"M17.41 7.96l-1.37-1.37c-.4-.4-.92-.59-1.43-.59-.52 0-1.04.2-1.43.59L10.3 9.45l-7.72 7.72c-.78.78-.78 2.05 0 2.83L4 21.41c.39.39.9.59 1.41.59.51 0 1.02-.2 1.41-.59l7.78-7.78 2.81-2.81c.8-.78.8-2.07 0-2.86zM5.41 20L4 18.59l7.72-7.72 1.47 1.35L5.41 20z\"/>\n",
              "  </svg>\n",
              "      </button>\n",
              "      \n",
              "  <style>\n",
              "    .colab-df-container {\n",
              "      display:flex;\n",
              "      flex-wrap:wrap;\n",
              "      gap: 12px;\n",
              "    }\n",
              "\n",
              "    .colab-df-convert {\n",
              "      background-color: #E8F0FE;\n",
              "      border: none;\n",
              "      border-radius: 50%;\n",
              "      cursor: pointer;\n",
              "      display: none;\n",
              "      fill: #1967D2;\n",
              "      height: 32px;\n",
              "      padding: 0 0 0 0;\n",
              "      width: 32px;\n",
              "    }\n",
              "\n",
              "    .colab-df-convert:hover {\n",
              "      background-color: #E2EBFA;\n",
              "      box-shadow: 0px 1px 2px rgba(60, 64, 67, 0.3), 0px 1px 3px 1px rgba(60, 64, 67, 0.15);\n",
              "      fill: #174EA6;\n",
              "    }\n",
              "\n",
              "    [theme=dark] .colab-df-convert {\n",
              "      background-color: #3B4455;\n",
              "      fill: #D2E3FC;\n",
              "    }\n",
              "\n",
              "    [theme=dark] .colab-df-convert:hover {\n",
              "      background-color: #434B5C;\n",
              "      box-shadow: 0px 1px 3px 1px rgba(0, 0, 0, 0.15);\n",
              "      filter: drop-shadow(0px 1px 2px rgba(0, 0, 0, 0.3));\n",
              "      fill: #FFFFFF;\n",
              "    }\n",
              "  </style>\n",
              "\n",
              "      <script>\n",
              "        const buttonEl =\n",
              "          document.querySelector('#df-8d067fca-7c32-4607-8b68-44db942f369e button.colab-df-convert');\n",
              "        buttonEl.style.display =\n",
              "          google.colab.kernel.accessAllowed ? 'block' : 'none';\n",
              "\n",
              "        async function convertToInteractive(key) {\n",
              "          const element = document.querySelector('#df-8d067fca-7c32-4607-8b68-44db942f369e');\n",
              "          const dataTable =\n",
              "            await google.colab.kernel.invokeFunction('convertToInteractive',\n",
              "                                                     [key], {});\n",
              "          if (!dataTable) return;\n",
              "\n",
              "          const docLinkHtml = 'Like what you see? Visit the ' +\n",
              "            '<a target=\"_blank\" href=https://colab.research.google.com/notebooks/data_table.ipynb>data table notebook</a>'\n",
              "            + ' to learn more about interactive tables.';\n",
              "          element.innerHTML = '';\n",
              "          dataTable['output_type'] = 'display_data';\n",
              "          await google.colab.output.renderOutput(dataTable, element);\n",
              "          const docLink = document.createElement('div');\n",
              "          docLink.innerHTML = docLinkHtml;\n",
              "          element.appendChild(docLink);\n",
              "        }\n",
              "      </script>\n",
              "    </div>\n",
              "  </div>\n",
              "  "
            ],
            "text/plain": [
              "     anon_ID care_first_assist  ... sumOfCareDollars sumOfCarePounds\n",
              "0        531        2019-01-01  ...              0.0             0.0\n",
              "135      581        2019-01-02  ...              0.0             0.0\n",
              "146      337        2019-01-02  ...              0.0             0.0\n",
              "\n",
              "[3 rows x 8 columns]"
            ]
          },
          "metadata": {},
          "execution_count": 20
        }
      ]
    },
    {
      "cell_type": "code",
      "source": [
        "caremgt.groupby(['countOfAssists'])['anon_ID'].count()"
      ],
      "metadata": {
        "colab": {
          "base_uri": "https://localhost:8080/"
        },
        "id": "4KBkBeMQ4b8U",
        "outputId": "738d097b-ef55-478d-b3f5-ac45740b0656"
      },
      "execution_count": 22,
      "outputs": [
        {
          "output_type": "execute_result",
          "data": {
            "text/plain": [
              "countOfAssists\n",
              "1       98\n",
              "2      118\n",
              "3      108\n",
              "4      112\n",
              "5      100\n",
              "      ... \n",
              "249    498\n",
              "271    271\n",
              "306    306\n",
              "338    338\n",
              "371    371\n",
              "Name: anon_ID, Length: 96, dtype: int64"
            ]
          },
          "metadata": {},
          "execution_count": 22
        }
      ]
    },
    {
      "cell_type": "code",
      "source": [
        "care_count_df=pd.DataFrame(caremgt.groupby(['countOfAssists'])['anon_ID'].count())\n",
        "care_count_df.rename(columns={'anon_ID':'numberOfIDs'},inplace=True)"
      ],
      "metadata": {
        "id": "fa-02nAQqbVG"
      },
      "execution_count": 23,
      "outputs": []
    },
    {
      "cell_type": "code",
      "source": [
        "care_count_df.head(10).sort_values('numberOfIDs',ascending=False)"
      ],
      "metadata": {
        "colab": {
          "base_uri": "https://localhost:8080/",
          "height": 395
        },
        "id": "eOGYEIxOrKmd",
        "outputId": "8e432f1c-39d0-46ad-afaa-538aebe6f3db"
      },
      "execution_count": 31,
      "outputs": [
        {
          "output_type": "execute_result",
          "data": {
            "text/plain": [
              "                numberOfIDs\n",
              "countOfAssists             \n",
              "10                      120\n",
              "2                       118\n",
              "4                       112\n",
              "3                       108\n",
              "8                       104\n",
              "5                       100\n",
              "9                        99\n",
              "1                        98\n",
              "7                        98\n",
              "6                        84"
            ],
            "text/html": [
              "\n",
              "  <div id=\"df-49f6c4e6-8225-4fc2-933f-63aa4232dba7\">\n",
              "    <div class=\"colab-df-container\">\n",
              "      <div>\n",
              "<style scoped>\n",
              "    .dataframe tbody tr th:only-of-type {\n",
              "        vertical-align: middle;\n",
              "    }\n",
              "\n",
              "    .dataframe tbody tr th {\n",
              "        vertical-align: top;\n",
              "    }\n",
              "\n",
              "    .dataframe thead th {\n",
              "        text-align: right;\n",
              "    }\n",
              "</style>\n",
              "<table border=\"1\" class=\"dataframe\">\n",
              "  <thead>\n",
              "    <tr style=\"text-align: right;\">\n",
              "      <th></th>\n",
              "      <th>numberOfIDs</th>\n",
              "    </tr>\n",
              "    <tr>\n",
              "      <th>countOfAssists</th>\n",
              "      <th></th>\n",
              "    </tr>\n",
              "  </thead>\n",
              "  <tbody>\n",
              "    <tr>\n",
              "      <th>10</th>\n",
              "      <td>120</td>\n",
              "    </tr>\n",
              "    <tr>\n",
              "      <th>2</th>\n",
              "      <td>118</td>\n",
              "    </tr>\n",
              "    <tr>\n",
              "      <th>4</th>\n",
              "      <td>112</td>\n",
              "    </tr>\n",
              "    <tr>\n",
              "      <th>3</th>\n",
              "      <td>108</td>\n",
              "    </tr>\n",
              "    <tr>\n",
              "      <th>8</th>\n",
              "      <td>104</td>\n",
              "    </tr>\n",
              "    <tr>\n",
              "      <th>5</th>\n",
              "      <td>100</td>\n",
              "    </tr>\n",
              "    <tr>\n",
              "      <th>9</th>\n",
              "      <td>99</td>\n",
              "    </tr>\n",
              "    <tr>\n",
              "      <th>1</th>\n",
              "      <td>98</td>\n",
              "    </tr>\n",
              "    <tr>\n",
              "      <th>7</th>\n",
              "      <td>98</td>\n",
              "    </tr>\n",
              "    <tr>\n",
              "      <th>6</th>\n",
              "      <td>84</td>\n",
              "    </tr>\n",
              "  </tbody>\n",
              "</table>\n",
              "</div>\n",
              "      <button class=\"colab-df-convert\" onclick=\"convertToInteractive('df-49f6c4e6-8225-4fc2-933f-63aa4232dba7')\"\n",
              "              title=\"Convert this dataframe to an interactive table.\"\n",
              "              style=\"display:none;\">\n",
              "        \n",
              "  <svg xmlns=\"http://www.w3.org/2000/svg\" height=\"24px\"viewBox=\"0 0 24 24\"\n",
              "       width=\"24px\">\n",
              "    <path d=\"M0 0h24v24H0V0z\" fill=\"none\"/>\n",
              "    <path d=\"M18.56 5.44l.94 2.06.94-2.06 2.06-.94-2.06-.94-.94-2.06-.94 2.06-2.06.94zm-11 1L8.5 8.5l.94-2.06 2.06-.94-2.06-.94L8.5 2.5l-.94 2.06-2.06.94zm10 10l.94 2.06.94-2.06 2.06-.94-2.06-.94-.94-2.06-.94 2.06-2.06.94z\"/><path d=\"M17.41 7.96l-1.37-1.37c-.4-.4-.92-.59-1.43-.59-.52 0-1.04.2-1.43.59L10.3 9.45l-7.72 7.72c-.78.78-.78 2.05 0 2.83L4 21.41c.39.39.9.59 1.41.59.51 0 1.02-.2 1.41-.59l7.78-7.78 2.81-2.81c.8-.78.8-2.07 0-2.86zM5.41 20L4 18.59l7.72-7.72 1.47 1.35L5.41 20z\"/>\n",
              "  </svg>\n",
              "      </button>\n",
              "      \n",
              "  <style>\n",
              "    .colab-df-container {\n",
              "      display:flex;\n",
              "      flex-wrap:wrap;\n",
              "      gap: 12px;\n",
              "    }\n",
              "\n",
              "    .colab-df-convert {\n",
              "      background-color: #E8F0FE;\n",
              "      border: none;\n",
              "      border-radius: 50%;\n",
              "      cursor: pointer;\n",
              "      display: none;\n",
              "      fill: #1967D2;\n",
              "      height: 32px;\n",
              "      padding: 0 0 0 0;\n",
              "      width: 32px;\n",
              "    }\n",
              "\n",
              "    .colab-df-convert:hover {\n",
              "      background-color: #E2EBFA;\n",
              "      box-shadow: 0px 1px 2px rgba(60, 64, 67, 0.3), 0px 1px 3px 1px rgba(60, 64, 67, 0.15);\n",
              "      fill: #174EA6;\n",
              "    }\n",
              "\n",
              "    [theme=dark] .colab-df-convert {\n",
              "      background-color: #3B4455;\n",
              "      fill: #D2E3FC;\n",
              "    }\n",
              "\n",
              "    [theme=dark] .colab-df-convert:hover {\n",
              "      background-color: #434B5C;\n",
              "      box-shadow: 0px 1px 3px 1px rgba(0, 0, 0, 0.15);\n",
              "      filter: drop-shadow(0px 1px 2px rgba(0, 0, 0, 0.3));\n",
              "      fill: #FFFFFF;\n",
              "    }\n",
              "  </style>\n",
              "\n",
              "      <script>\n",
              "        const buttonEl =\n",
              "          document.querySelector('#df-49f6c4e6-8225-4fc2-933f-63aa4232dba7 button.colab-df-convert');\n",
              "        buttonEl.style.display =\n",
              "          google.colab.kernel.accessAllowed ? 'block' : 'none';\n",
              "\n",
              "        async function convertToInteractive(key) {\n",
              "          const element = document.querySelector('#df-49f6c4e6-8225-4fc2-933f-63aa4232dba7');\n",
              "          const dataTable =\n",
              "            await google.colab.kernel.invokeFunction('convertToInteractive',\n",
              "                                                     [key], {});\n",
              "          if (!dataTable) return;\n",
              "\n",
              "          const docLinkHtml = 'Like what you see? Visit the ' +\n",
              "            '<a target=\"_blank\" href=https://colab.research.google.com/notebooks/data_table.ipynb>data table notebook</a>'\n",
              "            + ' to learn more about interactive tables.';\n",
              "          element.innerHTML = '';\n",
              "          dataTable['output_type'] = 'display_data';\n",
              "          await google.colab.output.renderOutput(dataTable, element);\n",
              "          const docLink = document.createElement('div');\n",
              "          docLink.innerHTML = docLinkHtml;\n",
              "          element.appendChild(docLink);\n",
              "        }\n",
              "      </script>\n",
              "    </div>\n",
              "  </div>\n",
              "  "
            ]
          },
          "metadata": {},
          "execution_count": 31
        }
      ]
    },
    {
      "cell_type": "markdown",
      "source": [
        "How can I graph that?"
      ],
      "metadata": {
        "id": "zqDQaoxZ6ETR"
      }
    },
    {
      "cell_type": "code",
      "source": [
        "plt.figure(figsize=(12,4))\n",
        "plt.title('Number of People vs Their Usage of Services')\n",
        "plt.xticks([25,50,75,100,125,150,175,200])\n",
        "chart=sns.barplot(x=care_count_df.index,y='numberOfIDs',data=care_count_df)\n",
        "#chart.set_xticklabels(chart.get_xticklabels(), rotation=90)"
      ],
      "metadata": {
        "colab": {
          "base_uri": "https://localhost:8080/",
          "height": 295
        },
        "id": "HQN7cR_f5rTE",
        "outputId": "ba8c3ac5-c3b0-48fd-ef6a-9607330ec6a1"
      },
      "execution_count": 29,
      "outputs": [
        {
          "output_type": "display_data",
          "data": {
            "text/plain": [
              "<Figure size 864x288 with 1 Axes>"
            ],
            "image/png": "[encoded data removed]"
          },
          "metadata": {
            "needs_background": "light"
          }
        }
      ]
    },
    {
      "cell_type": "code",
      "source": [
        "sns.distplot(care_count_df['numberOfIDs'],kde=False,color='darkred')"
      ],
      "metadata": {
        "colab": {
          "base_uri": "https://localhost:8080/",
          "height": 353
        },
        "id": "v_xN9KYlsto3",
        "outputId": "bf13fc73-bea0-4499-c9ba-cf4eea939c6e"
      },
      "execution_count": null,
      "outputs": [
        {
          "output_type": "stream",
          "name": "stderr",
          "text": [
            "/usr/local/lib/python3.7/dist-packages/seaborn/distributions.py:2619: FutureWarning: `distplot` is a deprecated function and will be removed in a future version. Please adapt your code to use either `displot` (a figure-level function with similar flexibility) or `histplot` (an axes-level function for histograms).\n",
            "  warnings.warn(msg, FutureWarning)\n"
          ]
        },
        {
          "output_type": "execute_result",
          "data": {
            "text/plain": [
              "<matplotlib.axes._subplots.AxesSubplot at 0x7f23a0907f50>"
            ]
          },
          "metadata": {},
          "execution_count": 46
        },
        {
          "output_type": "display_data",
          "data": {
            "image/png": "[encoded data removed]",
            "text/plain": [
              "<Figure size 432x288 with 1 Axes>"
            ]
          },
          "metadata": {
            "needs_background": "light"
          }
        }
      ]
    },
    {
      "cell_type": "code",
      "source": [
        "sns.heatmap(caremgt.corr(),annot=True)"
      ],
      "metadata": {
        "colab": {
          "base_uri": "https://localhost:8080/",
          "height": 372
        },
        "id": "vbaCC-mrsrxw",
        "outputId": "1818cdc1-d83d-447a-f37f-881ccd8d199c"
      },
      "execution_count": null,
      "outputs": [
        {
          "output_type": "execute_result",
          "data": {
            "text/plain": [
              "<matplotlib.axes._subplots.AxesSubplot at 0x7f430ad8c0d0>"
            ]
          },
          "metadata": {},
          "execution_count": 23
        },
        {
          "output_type": "display_data",
          "data": {
            "image/png": "[encoded data removed]",
            "text/plain": [
              "<Figure size 432x288 with 2 Axes>"
            ]
          },
          "metadata": {
            "needs_background": "light"
          }
        }
      ]
    },
    {
      "cell_type": "code",
      "source": [
        "caremgt.describe().transpose()"
      ],
      "metadata": {
        "id": "KkuOie3esXKy",
        "colab": {
          "base_uri": "https://localhost:8080/",
          "height": 299
        },
        "outputId": "b38bb636-3f40-4823-b05f-7d0e48e01d90"
      },
      "execution_count": null,
      "outputs": [
        {
          "output_type": "execute_result",
          "data": {
            "text/html": [
              "\n",
              "  <div id=\"df-545fdec2-e1c3-415a-965e-4e1e3afb2596\">\n",
              "    <div class=\"colab-df-container\">\n",
              "      <div>\n",
              "<style scoped>\n",
              "    .dataframe tbody tr th:only-of-type {\n",
              "        vertical-align: middle;\n",
              "    }\n",
              "\n",
              "    .dataframe tbody tr th {\n",
              "        vertical-align: top;\n",
              "    }\n",
              "\n",
              "    .dataframe thead th {\n",
              "        text-align: right;\n",
              "    }\n",
              "</style>\n",
              "<table border=\"1\" class=\"dataframe\">\n",
              "  <thead>\n",
              "    <tr style=\"text-align: right;\">\n",
              "      <th></th>\n",
              "      <th>count</th>\n",
              "      <th>mean</th>\n",
              "      <th>std</th>\n",
              "      <th>min</th>\n",
              "      <th>25%</th>\n",
              "      <th>50%</th>\n",
              "      <th>75%</th>\n",
              "      <th>max</th>\n",
              "    </tr>\n",
              "  </thead>\n",
              "  <tbody>\n",
              "    <tr>\n",
              "      <th>anon_ID</th>\n",
              "      <td>490.0</td>\n",
              "      <td>319.687755</td>\n",
              "      <td>187.13231</td>\n",
              "      <td>1.0</td>\n",
              "      <td>155.25</td>\n",
              "      <td>321.0</td>\n",
              "      <td>485.75</td>\n",
              "      <td>641.0</td>\n",
              "    </tr>\n",
              "    <tr>\n",
              "      <th>careDuration</th>\n",
              "      <td>490</td>\n",
              "      <td>271 days 19:41:23.265306124</td>\n",
              "      <td>322 days 23:16:03.024215932</td>\n",
              "      <td>0 days 00:00:00</td>\n",
              "      <td>1 days 00:00:00</td>\n",
              "      <td>106 days 12:00:00</td>\n",
              "      <td>495 days 06:00:00</td>\n",
              "      <td>981 days 00:00:00</td>\n",
              "    </tr>\n",
              "    <tr>\n",
              "      <th>countOfAssists</th>\n",
              "      <td>490.0</td>\n",
              "      <td>25.483673</td>\n",
              "      <td>50.238091</td>\n",
              "      <td>1.0</td>\n",
              "      <td>2.0</td>\n",
              "      <td>6.0</td>\n",
              "      <td>21.0</td>\n",
              "      <td>371.0</td>\n",
              "    </tr>\n",
              "    <tr>\n",
              "      <th>sumOfCareMinutes</th>\n",
              "      <td>490.0</td>\n",
              "      <td>187.966837</td>\n",
              "      <td>410.364049</td>\n",
              "      <td>1.0</td>\n",
              "      <td>13.0</td>\n",
              "      <td>40.5</td>\n",
              "      <td>131.25</td>\n",
              "      <td>4321.0</td>\n",
              "    </tr>\n",
              "    <tr>\n",
              "      <th>sumOfCareDollars</th>\n",
              "      <td>490.0</td>\n",
              "      <td>0.030612</td>\n",
              "      <td>0.280741</td>\n",
              "      <td>0.0</td>\n",
              "      <td>0.0</td>\n",
              "      <td>0.0</td>\n",
              "      <td>0.0</td>\n",
              "      <td>5.0</td>\n",
              "    </tr>\n",
              "    <tr>\n",
              "      <th>sumOfCarePounds</th>\n",
              "      <td>490.0</td>\n",
              "      <td>0.102041</td>\n",
              "      <td>1.595557</td>\n",
              "      <td>0.0</td>\n",
              "      <td>0.0</td>\n",
              "      <td>0.0</td>\n",
              "      <td>0.0</td>\n",
              "      <td>25.0</td>\n",
              "    </tr>\n",
              "  </tbody>\n",
              "</table>\n",
              "</div>\n",
              "      <button class=\"colab-df-convert\" onclick=\"convertToInteractive('df-545fdec2-e1c3-415a-965e-4e1e3afb2596')\"\n",
              "              title=\"Convert this dataframe to an interactive table.\"\n",
              "              style=\"display:none;\">\n",
              "        \n",
              "  <svg xmlns=\"http://www.w3.org/2000/svg\" height=\"24px\"viewBox=\"0 0 24 24\"\n",
              "       width=\"24px\">\n",
              "    <path d=\"M0 0h24v24H0V0z\" fill=\"none\"/>\n",
              "    <path d=\"M18.56 5.44l.94 2.06.94-2.06 2.06-.94-2.06-.94-.94-2.06-.94 2.06-2.06.94zm-11 1L8.5 8.5l.94-2.06 2.06-.94-2.06-.94L8.5 2.5l-.94 2.06-2.06.94zm10 10l.94 2.06.94-2.06 2.06-.94-2.06-.94-.94-2.06-.94 2.06-2.06.94z\"/><path d=\"M17.41 7.96l-1.37-1.37c-.4-.4-.92-.59-1.43-.59-.52 0-1.04.2-1.43.59L10.3 9.45l-7.72 7.72c-.78.78-.78 2.05 0 2.83L4 21.41c.39.39.9.59 1.41.59.51 0 1.02-.2 1.41-.59l7.78-7.78 2.81-2.81c.8-.78.8-2.07 0-2.86zM5.41 20L4 18.59l7.72-7.72 1.47 1.35L5.41 20z\"/>\n",
              "  </svg>\n",
              "      </button>\n",
              "      \n",
              "  <style>\n",
              "    .colab-df-container {\n",
              "      display:flex;\n",
              "      flex-wrap:wrap;\n",
              "      gap: 12px;\n",
              "    }\n",
              "\n",
              "    .colab-df-convert {\n",
              "      background-color: #E8F0FE;\n",
              "      border: none;\n",
              "      border-radius: 50%;\n",
              "      cursor: pointer;\n",
              "      display: none;\n",
              "      fill: #1967D2;\n",
              "      height: 32px;\n",
              "      padding: 0 0 0 0;\n",
              "      width: 32px;\n",
              "    }\n",
              "\n",
              "    .colab-df-convert:hover {\n",
              "      background-color: #E2EBFA;\n",
              "      box-shadow: 0px 1px 2px rgba(60, 64, 67, 0.3), 0px 1px 3px 1px rgba(60, 64, 67, 0.15);\n",
              "      fill: #174EA6;\n",
              "    }\n",
              "\n",
              "    [theme=dark] .colab-df-convert {\n",
              "      background-color: #3B4455;\n",
              "      fill: #D2E3FC;\n",
              "    }\n",
              "\n",
              "    [theme=dark] .colab-df-convert:hover {\n",
              "      background-color: #434B5C;\n",
              "      box-shadow: 0px 1px 3px 1px rgba(0, 0, 0, 0.15);\n",
              "      filter: drop-shadow(0px 1px 2px rgba(0, 0, 0, 0.3));\n",
              "      fill: #FFFFFF;\n",
              "    }\n",
              "  </style>\n",
              "\n",
              "      <script>\n",
              "        const buttonEl =\n",
              "          document.querySelector('#df-545fdec2-e1c3-415a-965e-4e1e3afb2596 button.colab-df-convert');\n",
              "        buttonEl.style.display =\n",
              "          google.colab.kernel.accessAllowed ? 'block' : 'none';\n",
              "\n",
              "        async function convertToInteractive(key) {\n",
              "          const element = document.querySelector('#df-545fdec2-e1c3-415a-965e-4e1e3afb2596');\n",
              "          const dataTable =\n",
              "            await google.colab.kernel.invokeFunction('convertToInteractive',\n",
              "                                                     [key], {});\n",
              "          if (!dataTable) return;\n",
              "\n",
              "          const docLinkHtml = 'Like what you see? Visit the ' +\n",
              "            '<a target=\"_blank\" href=https://colab.research.google.com/notebooks/data_table.ipynb>data table notebook</a>'\n",
              "            + ' to learn more about interactive tables.';\n",
              "          element.innerHTML = '';\n",
              "          dataTable['output_type'] = 'display_data';\n",
              "          await google.colab.output.renderOutput(dataTable, element);\n",
              "          const docLink = document.createElement('div');\n",
              "          docLink.innerHTML = docLinkHtml;\n",
              "          element.appendChild(docLink);\n",
              "        }\n",
              "      </script>\n",
              "    </div>\n",
              "  </div>\n",
              "  "
            ],
            "text/plain": [
              "                  count  ...                max\n",
              "anon_ID           490.0  ...              641.0\n",
              "careDuration        490  ...  981 days 00:00:00\n",
              "countOfAssists    490.0  ...              371.0\n",
              "sumOfCareMinutes  490.0  ...             4321.0\n",
              "sumOfCareDollars  490.0  ...                5.0\n",
              "sumOfCarePounds   490.0  ...               25.0\n",
              "\n",
              "[6 rows x 8 columns]"
            ]
          },
          "metadata": {},
          "execution_count": 26
        }
      ]
    },
    {
      "cell_type": "markdown",
      "source": [
        "After flatten, what joins make sense?"
      ],
      "metadata": {
        "id": "OE_RGIQmRfnQ"
      }
    },
    {
      "cell_type": "code",
      "source": [
        "caremgt.to_csv('/content/gdrive/MyDrive/dataPhilly_ElderNet/caremgt_flat.csv')"
      ],
      "metadata": {
        "id": "J1XEaIRyLp77"
      },
      "execution_count": null,
      "outputs": []
    }
  ]
}