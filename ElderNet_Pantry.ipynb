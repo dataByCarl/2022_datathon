{
  "nbformat": 4,
  "nbformat_minor": 0,
  "metadata": {
    "colab": {
      "name": "ElderNet-Pantry.ipynb",
      "provenance": [],
      "authorship_tag": "ABX9TyMJqeCyzhHNEEWuzStCRNkr",
      "include_colab_link": true
    },
    "kernelspec": {
      "name": "python3",
      "display_name": "Python 3"
    },
    "language_info": {
      "name": "python"
    }
  },
  "cells": [
    {
      "cell_type": "markdown",
      "metadata": {
        "id": "view-in-github",
        "colab_type": "text"
      },
      "source": [
        "<a href=\"https://colab.research.google.com/github/dataByCarl/2022_datathon/blob/main/ElderNet_Pantry.ipynb\" target=\"_parent\"><img src=\"https://colab.research.google.com/assets/colab-badge.svg\" alt=\"Open In Colab\"/></a>"
      ]
    },
    {
      "cell_type": "code",
      "execution_count": 1,
      "metadata": {
        "id": "VUzbozfSgr7a"
      },
      "outputs": [],
      "source": [
        "import pandas as pd\n",
        "import numpy as np\n",
        "import matplotlib.pyplot as plt\n",
        "import seaborn as sns\n",
        "%matplotlib inline"
      ]
    },
    {
      "cell_type": "code",
      "source": [
        "from google.colab import drive\n",
        "drive.mount('/content/gdrive')"
      ],
      "metadata": {
        "colab": {
          "base_uri": "https://localhost:8080/"
        },
        "id": "NbabkF37g3yT",
        "outputId": "53abbd1e-3c55-40bf-9003-7626b83d8979"
      },
      "execution_count": 2,
      "outputs": [
        {
          "output_type": "stream",
          "name": "stdout",
          "text": [
            "Mounted at /content/gdrive\n"
          ]
        }
      ]
    },
    {
      "cell_type": "code",
      "source": [
        "pantry=pd.read_csv('/content/gdrive/MyDrive/dataPhilly_ElderNet/pantry.csv')"
      ],
      "metadata": {
        "id": "xHxf_tz_g31u"
      },
      "execution_count": 3,
      "outputs": []
    },
    {
      "cell_type": "markdown",
      "source": [
        "**Pantry Info**\n",
        "\n",
        "    1. Look at nulls/NAs\n",
        "    2. Transpose donations to one column per type (e.g. pantry_pounds,holiday_pounds,easter_pounds,pantry_dollars,holiday_dollars,easter_dollars)\n",
        "    3. Transpose assistance_dates to first/last/count/duration, i.e. convert assistance_date to first_assistance, last_assistance, assistance_count, assistance_duration\n",
        "       a) drop original assistance\n",
        "       b) drop duplicate rows based on anon_ID\n",
        "\n"
      ],
      "metadata": {
        "id": "3-O0nSSrg8FK"
      }
    },
    {
      "cell_type": "code",
      "source": [
        "pantry.head(3)\n"
      ],
      "metadata": {
        "colab": {
          "base_uri": "https://localhost:8080/",
          "height": 143
        },
        "id": "5A2s4DMqg8ck",
        "outputId": "1a3186c9-43c1-41f5-9b1b-2c319ef99aec"
      },
      "execution_count": 4,
      "outputs": [
        {
          "output_type": "execute_result",
          "data": {
            "text/html": [
              "\n",
              "  <div id=\"df-49dd4059-7ae0-4ffc-95ec-aea86bbda63a\">\n",
              "    <div class=\"colab-df-container\">\n",
              "      <div>\n",
              "<style scoped>\n",
              "    .dataframe tbody tr th:only-of-type {\n",
              "        vertical-align: middle;\n",
              "    }\n",
              "\n",
              "    .dataframe tbody tr th {\n",
              "        vertical-align: top;\n",
              "    }\n",
              "\n",
              "    .dataframe thead th {\n",
              "        text-align: right;\n",
              "    }\n",
              "</style>\n",
              "<table border=\"1\" class=\"dataframe\">\n",
              "  <thead>\n",
              "    <tr style=\"text-align: right;\">\n",
              "      <th></th>\n",
              "      <th>anon_ID</th>\n",
              "      <th>assistance_date</th>\n",
              "      <th>assistance_category</th>\n",
              "      <th>amount</th>\n",
              "      <th>unit</th>\n",
              "    </tr>\n",
              "  </thead>\n",
              "  <tbody>\n",
              "    <tr>\n",
              "      <th>0</th>\n",
              "      <td>102</td>\n",
              "      <td>1/3/2019 10:00</td>\n",
              "      <td>Food Pantry: Food Pantry Poundage</td>\n",
              "      <td>25</td>\n",
              "      <td>Pounds</td>\n",
              "    </tr>\n",
              "    <tr>\n",
              "      <th>1</th>\n",
              "      <td>178</td>\n",
              "      <td>1/3/2019 10:00</td>\n",
              "      <td>Food Pantry: Food Pantry Poundage</td>\n",
              "      <td>25</td>\n",
              "      <td>Pounds</td>\n",
              "    </tr>\n",
              "    <tr>\n",
              "      <th>2</th>\n",
              "      <td>588</td>\n",
              "      <td>1/3/2019 10:30</td>\n",
              "      <td>Food Pantry: Food Pantry Poundage</td>\n",
              "      <td>25</td>\n",
              "      <td>Pounds</td>\n",
              "    </tr>\n",
              "  </tbody>\n",
              "</table>\n",
              "</div>\n",
              "      <button class=\"colab-df-convert\" onclick=\"convertToInteractive('df-49dd4059-7ae0-4ffc-95ec-aea86bbda63a')\"\n",
              "              title=\"Convert this dataframe to an interactive table.\"\n",
              "              style=\"display:none;\">\n",
              "        \n",
              "  <svg xmlns=\"http://www.w3.org/2000/svg\" height=\"24px\"viewBox=\"0 0 24 24\"\n",
              "       width=\"24px\">\n",
              "    <path d=\"M0 0h24v24H0V0z\" fill=\"none\"/>\n",
              "    <path d=\"M18.56 5.44l.94 2.06.94-2.06 2.06-.94-2.06-.94-.94-2.06-.94 2.06-2.06.94zm-11 1L8.5 8.5l.94-2.06 2.06-.94-2.06-.94L8.5 2.5l-.94 2.06-2.06.94zm10 10l.94 2.06.94-2.06 2.06-.94-2.06-.94-.94-2.06-.94 2.06-2.06.94z\"/><path d=\"M17.41 7.96l-1.37-1.37c-.4-.4-.92-.59-1.43-.59-.52 0-1.04.2-1.43.59L10.3 9.45l-7.72 7.72c-.78.78-.78 2.05 0 2.83L4 21.41c.39.39.9.59 1.41.59.51 0 1.02-.2 1.41-.59l7.78-7.78 2.81-2.81c.8-.78.8-2.07 0-2.86zM5.41 20L4 18.59l7.72-7.72 1.47 1.35L5.41 20z\"/>\n",
              "  </svg>\n",
              "      </button>\n",
              "      \n",
              "  <style>\n",
              "    .colab-df-container {\n",
              "      display:flex;\n",
              "      flex-wrap:wrap;\n",
              "      gap: 12px;\n",
              "    }\n",
              "\n",
              "    .colab-df-convert {\n",
              "      background-color: #E8F0FE;\n",
              "      border: none;\n",
              "      border-radius: 50%;\n",
              "      cursor: pointer;\n",
              "      display: none;\n",
              "      fill: #1967D2;\n",
              "      height: 32px;\n",
              "      padding: 0 0 0 0;\n",
              "      width: 32px;\n",
              "    }\n",
              "\n",
              "    .colab-df-convert:hover {\n",
              "      background-color: #E2EBFA;\n",
              "      box-shadow: 0px 1px 2px rgba(60, 64, 67, 0.3), 0px 1px 3px 1px rgba(60, 64, 67, 0.15);\n",
              "      fill: #174EA6;\n",
              "    }\n",
              "\n",
              "    [theme=dark] .colab-df-convert {\n",
              "      background-color: #3B4455;\n",
              "      fill: #D2E3FC;\n",
              "    }\n",
              "\n",
              "    [theme=dark] .colab-df-convert:hover {\n",
              "      background-color: #434B5C;\n",
              "      box-shadow: 0px 1px 3px 1px rgba(0, 0, 0, 0.15);\n",
              "      filter: drop-shadow(0px 1px 2px rgba(0, 0, 0, 0.3));\n",
              "      fill: #FFFFFF;\n",
              "    }\n",
              "  </style>\n",
              "\n",
              "      <script>\n",
              "        const buttonEl =\n",
              "          document.querySelector('#df-49dd4059-7ae0-4ffc-95ec-aea86bbda63a button.colab-df-convert');\n",
              "        buttonEl.style.display =\n",
              "          google.colab.kernel.accessAllowed ? 'block' : 'none';\n",
              "\n",
              "        async function convertToInteractive(key) {\n",
              "          const element = document.querySelector('#df-49dd4059-7ae0-4ffc-95ec-aea86bbda63a');\n",
              "          const dataTable =\n",
              "            await google.colab.kernel.invokeFunction('convertToInteractive',\n",
              "                                                     [key], {});\n",
              "          if (!dataTable) return;\n",
              "\n",
              "          const docLinkHtml = 'Like what you see? Visit the ' +\n",
              "            '<a target=\"_blank\" href=https://colab.research.google.com/notebooks/data_table.ipynb>data table notebook</a>'\n",
              "            + ' to learn more about interactive tables.';\n",
              "          element.innerHTML = '';\n",
              "          dataTable['output_type'] = 'display_data';\n",
              "          await google.colab.output.renderOutput(dataTable, element);\n",
              "          const docLink = document.createElement('div');\n",
              "          docLink.innerHTML = docLinkHtml;\n",
              "          element.appendChild(docLink);\n",
              "        }\n",
              "      </script>\n",
              "    </div>\n",
              "  </div>\n",
              "  "
            ],
            "text/plain": [
              "   anon_ID assistance_date                assistance_category  amount    unit\n",
              "0      102  1/3/2019 10:00  Food Pantry: Food Pantry Poundage      25  Pounds\n",
              "1      178  1/3/2019 10:00  Food Pantry: Food Pantry Poundage      25  Pounds\n",
              "2      588  1/3/2019 10:30  Food Pantry: Food Pantry Poundage      25  Pounds"
            ]
          },
          "metadata": {},
          "execution_count": 4
        }
      ]
    },
    {
      "cell_type": "code",
      "source": [
        "pantry.info()"
      ],
      "metadata": {
        "colab": {
          "base_uri": "https://localhost:8080/"
        },
        "id": "9cB8UWUKh_VG",
        "outputId": "3bcc452c-21fc-43a8-ed3d-7dd7593ad385"
      },
      "execution_count": 6,
      "outputs": [
        {
          "output_type": "stream",
          "name": "stdout",
          "text": [
            "<class 'pandas.core.frame.DataFrame'>\n",
            "RangeIndex: 6273 entries, 0 to 6272\n",
            "Data columns (total 5 columns):\n",
            " #   Column               Non-Null Count  Dtype \n",
            "---  ------               --------------  ----- \n",
            " 0   anon_ID              6273 non-null   int64 \n",
            " 1   assistance_date      6273 non-null   object\n",
            " 2   assistance_category  6273 non-null   object\n",
            " 3   amount               6273 non-null   int64 \n",
            " 4   unit                 6273 non-null   object\n",
            "dtypes: int64(2), object(3)\n",
            "memory usage: 245.2+ KB\n"
          ]
        }
      ]
    },
    {
      "cell_type": "code",
      "source": [
        "# Check for missing values\n",
        "pantry.isnull().sum()"
      ],
      "metadata": {
        "colab": {
          "base_uri": "https://localhost:8080/"
        },
        "id": "X0hnblH9iEiv",
        "outputId": "b879ffc3-1b61-4cd4-96a1-22161f917955"
      },
      "execution_count": 5,
      "outputs": [
        {
          "output_type": "execute_result",
          "data": {
            "text/plain": [
              "anon_ID                0\n",
              "assistance_date        0\n",
              "assistance_category    0\n",
              "amount                 0\n",
              "unit                   0\n",
              "dtype: int64"
            ]
          },
          "metadata": {},
          "execution_count": 5
        }
      ]
    },
    {
      "cell_type": "code",
      "source": [
        "# identify categories\n",
        "pantry['assistance_category'].unique()"
      ],
      "metadata": {
        "colab": {
          "base_uri": "https://localhost:8080/"
        },
        "id": "LrD-h65NiElZ",
        "outputId": "8b111e9e-fe5c-4ce0-f908-a44730f2874e"
      },
      "execution_count": 7,
      "outputs": [
        {
          "output_type": "execute_result",
          "data": {
            "text/plain": [
              "array(['Food Pantry: Food Pantry Poundage',\n",
              "       'Food Pantry: Easter Outreach', 'Food Pantry: Holiday Baskets'],\n",
              "      dtype=object)"
            ]
          },
          "metadata": {},
          "execution_count": 7
        }
      ]
    },
    {
      "cell_type": "code",
      "source": [
        "pantry['unit'].unique()"
      ],
      "metadata": {
        "colab": {
          "base_uri": "https://localhost:8080/"
        },
        "id": "A5zIVlqhs1Be",
        "outputId": "434d9892-16cc-4a3a-e8ce-1e49cfe0fa1e"
      },
      "execution_count": 8,
      "outputs": [
        {
          "output_type": "execute_result",
          "data": {
            "text/plain": [
              "array(['Pounds', 'Boxes/Bags', 'Dollars'], dtype=object)"
            ]
          },
          "metadata": {},
          "execution_count": 8
        }
      ]
    },
    {
      "cell_type": "markdown",
      "source": [
        "Get Counts of Assistance"
      ],
      "metadata": {
        "id": "G5q3xhNq-gIY"
      }
    },
    {
      "cell_type": "code",
      "source": [
        "# Append countOfAssists\n",
        "countOfAssists=pantry.groupby(['anon_ID'])['assistance_date'].count()\n",
        "countOfAssists_df=pd.DataFrame(countOfAssists)\n",
        "countOfAssists_df.rename(columns={'assistance_date':'countPantryAssists'},inplace=True)\n",
        "pantry=pd.merge(pantry,countOfAssists_df, on=['anon_ID'])"
      ],
      "metadata": {
        "id": "SRVgV3Lz-sky"
      },
      "execution_count": 9,
      "outputs": []
    },
    {
      "cell_type": "markdown",
      "source": [
        "Identify First and Last Dates of Pantry Assistance.\n",
        "<p>Calculate Duration (LastDate-FirstDate)"
      ],
      "metadata": {
        "id": "nQ1nzrR9_Xhp"
      }
    },
    {
      "cell_type": "code",
      "source": [
        "# convert assistance_date \"object\" to \"date\" format\n",
        "pantry['assistance_date']=pd.to_datetime(pantry['assistance_date']).dt.date\n",
        "\n",
        "# *** Double Check min/max; This doesn't seem 100% correct ***\n",
        "# Append a column 'first_assist' based on minimum date per anon_ID\n",
        "first_assist=pantry.groupby(['anon_ID'])['assistance_date'].min()\n",
        "cm_min_df=pd.DataFrame(first_assist)\n",
        "cm_min_df.rename(columns={'assistance_date':'pantry_first_assist'},inplace=True)\n",
        "pantry=pd.merge(pantry,cm_min_df, on=['anon_ID'])\n",
        "\n",
        "# Append a column 'last_assist' based on maximum date per anon_ID\n",
        "last_assist=pantry.groupby(['anon_ID'])['assistance_date'].max()\n",
        "cm_max_df=pd.DataFrame(last_assist)\n",
        "cm_max_df.rename(columns={'assistance_date':'pantry_last_assist'},inplace=True)\n",
        "pantry=pd.merge(pantry,cm_max_df, on=['anon_ID'])\n",
        "\n",
        "# Convert date fields from objects to dates so can calculate\n",
        "pantry['pantry_first_assist']=pd.to_datetime(pantry['pantry_first_assist'])\n",
        "pantry['pantry_last_assist']=pd.to_datetime(pantry['pantry_last_assist'])\n",
        "# durationOfAssist = lastAssist - firstAssist\n",
        "pantry['pantry_duration'] =pantry['pantry_last_assist']-pantry['pantry_first_assist']"
      ],
      "metadata": {
        "id": "FvbNO9Kn-tCu"
      },
      "execution_count": 10,
      "outputs": []
    },
    {
      "cell_type": "code",
      "source": [
        "pantry.tail()"
      ],
      "metadata": {
        "colab": {
          "base_uri": "https://localhost:8080/",
          "height": 270
        },
        "id": "bCv0f1HuIoBR",
        "outputId": "8dfc8d4d-df47-4644-971a-4e5118ca53d9"
      },
      "execution_count": 26,
      "outputs": [
        {
          "output_type": "execute_result",
          "data": {
            "text/html": [
              "\n",
              "  <div id=\"df-2d81b113-f9e6-4ddf-990a-3524dbc9ec9a\">\n",
              "    <div class=\"colab-df-container\">\n",
              "      <div>\n",
              "<style scoped>\n",
              "    .dataframe tbody tr th:only-of-type {\n",
              "        vertical-align: middle;\n",
              "    }\n",
              "\n",
              "    .dataframe tbody tr th {\n",
              "        vertical-align: top;\n",
              "    }\n",
              "\n",
              "    .dataframe thead th {\n",
              "        text-align: right;\n",
              "    }\n",
              "</style>\n",
              "<table border=\"1\" class=\"dataframe\">\n",
              "  <thead>\n",
              "    <tr style=\"text-align: right;\">\n",
              "      <th></th>\n",
              "      <th>anon_ID</th>\n",
              "      <th>countPantryAssists</th>\n",
              "      <th>pantry_first_assist</th>\n",
              "      <th>pantry_last_assist</th>\n",
              "      <th>pantry_duration</th>\n",
              "      <th>sumPantryPounds</th>\n",
              "      <th>sumPantryDollars</th>\n",
              "      <th>sumEasterPounds</th>\n",
              "      <th>sumEasterBags</th>\n",
              "      <th>sumHolidayPounds</th>\n",
              "      <th>sumHolidayDollars</th>\n",
              "    </tr>\n",
              "  </thead>\n",
              "  <tbody>\n",
              "    <tr>\n",
              "      <th>6262</th>\n",
              "      <td>397</td>\n",
              "      <td>3</td>\n",
              "      <td>2021-08-03</td>\n",
              "      <td>2021-09-02</td>\n",
              "      <td>30 days</td>\n",
              "      <td>75</td>\n",
              "      <td>0</td>\n",
              "      <td>0</td>\n",
              "      <td>0</td>\n",
              "      <td>0</td>\n",
              "      <td>0</td>\n",
              "    </tr>\n",
              "    <tr>\n",
              "      <th>6265</th>\n",
              "      <td>269</td>\n",
              "      <td>3</td>\n",
              "      <td>2021-08-03</td>\n",
              "      <td>2021-08-31</td>\n",
              "      <td>28 days</td>\n",
              "      <td>75</td>\n",
              "      <td>0</td>\n",
              "      <td>0</td>\n",
              "      <td>0</td>\n",
              "      <td>0</td>\n",
              "      <td>0</td>\n",
              "    </tr>\n",
              "    <tr>\n",
              "      <th>6268</th>\n",
              "      <td>497</td>\n",
              "      <td>3</td>\n",
              "      <td>2021-08-03</td>\n",
              "      <td>2021-09-02</td>\n",
              "      <td>30 days</td>\n",
              "      <td>75</td>\n",
              "      <td>0</td>\n",
              "      <td>0</td>\n",
              "      <td>0</td>\n",
              "      <td>0</td>\n",
              "      <td>0</td>\n",
              "    </tr>\n",
              "    <tr>\n",
              "      <th>6271</th>\n",
              "      <td>398</td>\n",
              "      <td>1</td>\n",
              "      <td>2021-08-05</td>\n",
              "      <td>2021-08-05</td>\n",
              "      <td>0 days</td>\n",
              "      <td>25</td>\n",
              "      <td>0</td>\n",
              "      <td>0</td>\n",
              "      <td>0</td>\n",
              "      <td>0</td>\n",
              "      <td>0</td>\n",
              "    </tr>\n",
              "    <tr>\n",
              "      <th>6272</th>\n",
              "      <td>528</td>\n",
              "      <td>1</td>\n",
              "      <td>2021-08-26</td>\n",
              "      <td>2021-08-26</td>\n",
              "      <td>0 days</td>\n",
              "      <td>25</td>\n",
              "      <td>0</td>\n",
              "      <td>0</td>\n",
              "      <td>0</td>\n",
              "      <td>0</td>\n",
              "      <td>0</td>\n",
              "    </tr>\n",
              "  </tbody>\n",
              "</table>\n",
              "</div>\n",
              "      <button class=\"colab-df-convert\" onclick=\"convertToInteractive('df-2d81b113-f9e6-4ddf-990a-3524dbc9ec9a')\"\n",
              "              title=\"Convert this dataframe to an interactive table.\"\n",
              "              style=\"display:none;\">\n",
              "        \n",
              "  <svg xmlns=\"http://www.w3.org/2000/svg\" height=\"24px\"viewBox=\"0 0 24 24\"\n",
              "       width=\"24px\">\n",
              "    <path d=\"M0 0h24v24H0V0z\" fill=\"none\"/>\n",
              "    <path d=\"M18.56 5.44l.94 2.06.94-2.06 2.06-.94-2.06-.94-.94-2.06-.94 2.06-2.06.94zm-11 1L8.5 8.5l.94-2.06 2.06-.94-2.06-.94L8.5 2.5l-.94 2.06-2.06.94zm10 10l.94 2.06.94-2.06 2.06-.94-2.06-.94-.94-2.06-.94 2.06-2.06.94z\"/><path d=\"M17.41 7.96l-1.37-1.37c-.4-.4-.92-.59-1.43-.59-.52 0-1.04.2-1.43.59L10.3 9.45l-7.72 7.72c-.78.78-.78 2.05 0 2.83L4 21.41c.39.39.9.59 1.41.59.51 0 1.02-.2 1.41-.59l7.78-7.78 2.81-2.81c.8-.78.8-2.07 0-2.86zM5.41 20L4 18.59l7.72-7.72 1.47 1.35L5.41 20z\"/>\n",
              "  </svg>\n",
              "      </button>\n",
              "      \n",
              "  <style>\n",
              "    .colab-df-container {\n",
              "      display:flex;\n",
              "      flex-wrap:wrap;\n",
              "      gap: 12px;\n",
              "    }\n",
              "\n",
              "    .colab-df-convert {\n",
              "      background-color: #E8F0FE;\n",
              "      border: none;\n",
              "      border-radius: 50%;\n",
              "      cursor: pointer;\n",
              "      display: none;\n",
              "      fill: #1967D2;\n",
              "      height: 32px;\n",
              "      padding: 0 0 0 0;\n",
              "      width: 32px;\n",
              "    }\n",
              "\n",
              "    .colab-df-convert:hover {\n",
              "      background-color: #E2EBFA;\n",
              "      box-shadow: 0px 1px 2px rgba(60, 64, 67, 0.3), 0px 1px 3px 1px rgba(60, 64, 67, 0.15);\n",
              "      fill: #174EA6;\n",
              "    }\n",
              "\n",
              "    [theme=dark] .colab-df-convert {\n",
              "      background-color: #3B4455;\n",
              "      fill: #D2E3FC;\n",
              "    }\n",
              "\n",
              "    [theme=dark] .colab-df-convert:hover {\n",
              "      background-color: #434B5C;\n",
              "      box-shadow: 0px 1px 3px 1px rgba(0, 0, 0, 0.15);\n",
              "      filter: drop-shadow(0px 1px 2px rgba(0, 0, 0, 0.3));\n",
              "      fill: #FFFFFF;\n",
              "    }\n",
              "  </style>\n",
              "\n",
              "      <script>\n",
              "        const buttonEl =\n",
              "          document.querySelector('#df-2d81b113-f9e6-4ddf-990a-3524dbc9ec9a button.colab-df-convert');\n",
              "        buttonEl.style.display =\n",
              "          google.colab.kernel.accessAllowed ? 'block' : 'none';\n",
              "\n",
              "        async function convertToInteractive(key) {\n",
              "          const element = document.querySelector('#df-2d81b113-f9e6-4ddf-990a-3524dbc9ec9a');\n",
              "          const dataTable =\n",
              "            await google.colab.kernel.invokeFunction('convertToInteractive',\n",
              "                                                     [key], {});\n",
              "          if (!dataTable) return;\n",
              "\n",
              "          const docLinkHtml = 'Like what you see? Visit the ' +\n",
              "            '<a target=\"_blank\" href=https://colab.research.google.com/notebooks/data_table.ipynb>data table notebook</a>'\n",
              "            + ' to learn more about interactive tables.';\n",
              "          element.innerHTML = '';\n",
              "          dataTable['output_type'] = 'display_data';\n",
              "          await google.colab.output.renderOutput(dataTable, element);\n",
              "          const docLink = document.createElement('div');\n",
              "          docLink.innerHTML = docLinkHtml;\n",
              "          element.appendChild(docLink);\n",
              "        }\n",
              "      </script>\n",
              "    </div>\n",
              "  </div>\n",
              "  "
            ],
            "text/plain": [
              "      anon_ID  countPantryAssists  ... sumHolidayPounds sumHolidayDollars\n",
              "6262      397                   3  ...                0                 0\n",
              "6265      269                   3  ...                0                 0\n",
              "6268      497                   3  ...                0                 0\n",
              "6271      398                   1  ...                0                 0\n",
              "6272      528                   1  ...                0                 0\n",
              "\n",
              "[5 rows x 11 columns]"
            ]
          },
          "metadata": {},
          "execution_count": 26
        }
      ]
    },
    {
      "cell_type": "markdown",
      "source": [
        "Iterate over each row\n",
        "<p>If assistance_category \"Food Pantry: Food Pantry Poundage\" && Pounds, then populate column pantry_pounds\n",
        "repeat for each category type and unit combination\n",
        "<p>Goal:  convert to columns with uniform units\n",
        "<p><p>  Then will sum each new column per AnonID and give count per AnonID \n"
      ],
      "metadata": {
        "id": "63iZKHd-jExo"
      }
    },
    {
      "cell_type": "code",
      "source": [
        "pantryPounds_L=[]\n",
        "pantryDollars_L=[]\n",
        "easterPounds_L=[]\n",
        "easterBags_L=[]\n",
        "holidayPounds_L=[]\n",
        "holidayDollars_L=[]\n",
        "# Loop through all rows in dataframe.  Depending on combination of category and unit, store amount in new column\n",
        "# eg Food Pantry Poundage AND Pounds --> pantry_pounds\n",
        "#    Food Pantry Poundage AND dollars -> pantry_dollars\n",
        "for ind in pantry.index:\n",
        "\t# category=Food Pantry: Food Pantry Poundage\n",
        "\tif (pantry['assistance_category'][ind]=='Food Pantry: Food Pantry Poundage') and (pantry['unit'][ind]=='Pounds'):\n",
        "\t\tpantryPounds_L.append(pantry['amount'][ind])\n",
        "\t\tpantryDollars_L.append('0')\n",
        "\t\teasterPounds_L.append('0')\n",
        "\t\teasterBags_L.append('0')\n",
        "\t\tholidayPounds_L.append('0')\n",
        "\t\tholidayDollars_L.append('0')\n",
        "\telif (pantry['assistance_category'][ind]=='Food Pantry: Food Pantry Poundage') and (pantry['unit'][ind]=='Dollars'):\n",
        "\t\tpantryPounds_L.append('0')\n",
        "\t\tpantryDollars_L.append(pantry['amount'][ind])\n",
        "\t\teasterPounds_L.append('0')\n",
        "\t\teasterBags_L.append('0')\n",
        "\t\tholidayPounds_L.append('0')\n",
        "\t\tholidayDollars_L.append('0')\n",
        "\telif (pantry['assistance_category'][ind]=='Food Pantry: Easter Outreach') and (pantry['unit'][ind]=='Pounds'):\n",
        "\t\tpantryPounds_L.append('0')\n",
        "\t\tpantryDollars_L.append(0)\n",
        "\t\teasterPounds_L.append(pantry['amount'][ind])\n",
        "\t\teasterBags_L.append('0')\n",
        "\t\tholidayPounds_L.append('0')\n",
        "\t\tholidayDollars_L.append('0')\n",
        "\telif (pantry['assistance_category'][ind]=='Food Pantry: Easter Outreach') and (pantry['unit'][ind]=='Boxes/Bags'):\n",
        "\t\tpantryPounds_L.append('0')\n",
        "\t\tpantryDollars_L.append(0)\n",
        "\t\teasterPounds_L.append('0')\n",
        "\t\teasterBags_L.append(pantry['amount'][ind])\n",
        "\t\tholidayPounds_L.append('0')\n",
        "\t\tholidayDollars_L.append('0')\n",
        "\telif (pantry['assistance_category'][ind]=='Food Pantry: Holiday Baskets') and (pantry['unit'][ind]=='Pounds'):\n",
        "\t\tpantryPounds_L.append('0')\n",
        "\t\tpantryDollars_L.append(0)\n",
        "\t\teasterPounds_L.append('0')\n",
        "\t\teasterBags_L.append('0')\n",
        "\t\tholidayPounds_L.append(pantry['amount'][ind])\n",
        "\t\tholidayDollars_L.append('0')\n",
        "\telif(pantry['assistance_category'][ind]=='Food Pantry: Holiday Baskets') and (pantry['unit'][ind]=='Dollars'):\n",
        "\t\tpantryPounds_L.append('0')\n",
        "\t\tpantryDollars_L.append('0')\n",
        "\t\teasterPounds_L.append('0')\n",
        "\t\teasterBags_L.append('0')\n",
        "\t\tholidayPounds_L.append('0')\n",
        "\t\tholidayDollars_L.append(pantry['amount'][ind])\n",
        "\telse:\n",
        "\t\tpantryPounds_L.append('0')\n",
        "\t\tpantryDollars_L.append('0')\n",
        "\t\teasterPounds_L.append('0')\n",
        "\t\teasterBags_L.append('0')\n",
        "\t\tholidayPounds_L.append('0')\n",
        "\t\tholidayDollars_L.append('0')\n",
        "\n",
        "# Append new category/unit columns\n",
        "pantry['pantry_pounds']=pd.DataFrame(pantryPounds_L).astype(int)\n",
        "pantry['pantry_dollars']=pd.DataFrame(pantryDollars_L).astype(int)\n",
        "pantry['easter_pounds']=pd.DataFrame(easterPounds_L).astype(int)\n",
        "pantry['easter_bags']=pd.DataFrame(easterBags_L).astype(int)\n",
        "pantry['holiday_pounds']=pd.DataFrame(holidayPounds_L).astype(int)\n",
        "pantry['holiday_dollars']=pd.DataFrame(holidayDollars_L).astype(int)"
      ],
      "metadata": {
        "id": "sqX6HETljsVw"
      },
      "execution_count": 12,
      "outputs": []
    },
    {
      "cell_type": "code",
      "source": [
        "pantry.head()"
      ],
      "metadata": {
        "colab": {
          "base_uri": "https://localhost:8080/",
          "height": 270
        },
        "id": "Am0klrJbHRxx",
        "outputId": "e211c89f-4eff-4770-f480-eb46c3f07216"
      },
      "execution_count": 27,
      "outputs": [
        {
          "output_type": "execute_result",
          "data": {
            "text/html": [
              "\n",
              "  <div id=\"df-59c42e58-d4df-4cc5-b12b-58666e4f5779\">\n",
              "    <div class=\"colab-df-container\">\n",
              "      <div>\n",
              "<style scoped>\n",
              "    .dataframe tbody tr th:only-of-type {\n",
              "        vertical-align: middle;\n",
              "    }\n",
              "\n",
              "    .dataframe tbody tr th {\n",
              "        vertical-align: top;\n",
              "    }\n",
              "\n",
              "    .dataframe thead th {\n",
              "        text-align: right;\n",
              "    }\n",
              "</style>\n",
              "<table border=\"1\" class=\"dataframe\">\n",
              "  <thead>\n",
              "    <tr style=\"text-align: right;\">\n",
              "      <th></th>\n",
              "      <th>anon_ID</th>\n",
              "      <th>countPantryAssists</th>\n",
              "      <th>pantry_first_assist</th>\n",
              "      <th>pantry_last_assist</th>\n",
              "      <th>pantry_duration</th>\n",
              "      <th>sumPantryPounds</th>\n",
              "      <th>sumPantryDollars</th>\n",
              "      <th>sumEasterPounds</th>\n",
              "      <th>sumEasterBags</th>\n",
              "      <th>sumHolidayPounds</th>\n",
              "      <th>sumHolidayDollars</th>\n",
              "    </tr>\n",
              "  </thead>\n",
              "  <tbody>\n",
              "    <tr>\n",
              "      <th>0</th>\n",
              "      <td>102</td>\n",
              "      <td>64</td>\n",
              "      <td>2019-01-03</td>\n",
              "      <td>2021-08-26</td>\n",
              "      <td>966 days</td>\n",
              "      <td>1575</td>\n",
              "      <td>0</td>\n",
              "      <td>0</td>\n",
              "      <td>0</td>\n",
              "      <td>30</td>\n",
              "      <td>0</td>\n",
              "    </tr>\n",
              "    <tr>\n",
              "      <th>64</th>\n",
              "      <td>178</td>\n",
              "      <td>68</td>\n",
              "      <td>2019-01-03</td>\n",
              "      <td>2021-09-07</td>\n",
              "      <td>978 days</td>\n",
              "      <td>1625</td>\n",
              "      <td>0</td>\n",
              "      <td>0</td>\n",
              "      <td>0</td>\n",
              "      <td>90</td>\n",
              "      <td>0</td>\n",
              "    </tr>\n",
              "    <tr>\n",
              "      <th>132</th>\n",
              "      <td>588</td>\n",
              "      <td>65</td>\n",
              "      <td>2019-01-03</td>\n",
              "      <td>2021-09-02</td>\n",
              "      <td>973 days</td>\n",
              "      <td>1500</td>\n",
              "      <td>0</td>\n",
              "      <td>0</td>\n",
              "      <td>0</td>\n",
              "      <td>90</td>\n",
              "      <td>100</td>\n",
              "    </tr>\n",
              "    <tr>\n",
              "      <th>197</th>\n",
              "      <td>502</td>\n",
              "      <td>55</td>\n",
              "      <td>2019-01-03</td>\n",
              "      <td>2021-08-24</td>\n",
              "      <td>964 days</td>\n",
              "      <td>1300</td>\n",
              "      <td>0</td>\n",
              "      <td>0</td>\n",
              "      <td>0</td>\n",
              "      <td>30</td>\n",
              "      <td>50</td>\n",
              "    </tr>\n",
              "    <tr>\n",
              "      <th>252</th>\n",
              "      <td>232</td>\n",
              "      <td>27</td>\n",
              "      <td>2019-01-03</td>\n",
              "      <td>2021-04-06</td>\n",
              "      <td>824 days</td>\n",
              "      <td>650</td>\n",
              "      <td>0</td>\n",
              "      <td>0</td>\n",
              "      <td>0</td>\n",
              "      <td>30</td>\n",
              "      <td>0</td>\n",
              "    </tr>\n",
              "  </tbody>\n",
              "</table>\n",
              "</div>\n",
              "      <button class=\"colab-df-convert\" onclick=\"convertToInteractive('df-59c42e58-d4df-4cc5-b12b-58666e4f5779')\"\n",
              "              title=\"Convert this dataframe to an interactive table.\"\n",
              "              style=\"display:none;\">\n",
              "        \n",
              "  <svg xmlns=\"http://www.w3.org/2000/svg\" height=\"24px\"viewBox=\"0 0 24 24\"\n",
              "       width=\"24px\">\n",
              "    <path d=\"M0 0h24v24H0V0z\" fill=\"none\"/>\n",
              "    <path d=\"M18.56 5.44l.94 2.06.94-2.06 2.06-.94-2.06-.94-.94-2.06-.94 2.06-2.06.94zm-11 1L8.5 8.5l.94-2.06 2.06-.94-2.06-.94L8.5 2.5l-.94 2.06-2.06.94zm10 10l.94 2.06.94-2.06 2.06-.94-2.06-.94-.94-2.06-.94 2.06-2.06.94z\"/><path d=\"M17.41 7.96l-1.37-1.37c-.4-.4-.92-.59-1.43-.59-.52 0-1.04.2-1.43.59L10.3 9.45l-7.72 7.72c-.78.78-.78 2.05 0 2.83L4 21.41c.39.39.9.59 1.41.59.51 0 1.02-.2 1.41-.59l7.78-7.78 2.81-2.81c.8-.78.8-2.07 0-2.86zM5.41 20L4 18.59l7.72-7.72 1.47 1.35L5.41 20z\"/>\n",
              "  </svg>\n",
              "      </button>\n",
              "      \n",
              "  <style>\n",
              "    .colab-df-container {\n",
              "      display:flex;\n",
              "      flex-wrap:wrap;\n",
              "      gap: 12px;\n",
              "    }\n",
              "\n",
              "    .colab-df-convert {\n",
              "      background-color: #E8F0FE;\n",
              "      border: none;\n",
              "      border-radius: 50%;\n",
              "      cursor: pointer;\n",
              "      display: none;\n",
              "      fill: #1967D2;\n",
              "      height: 32px;\n",
              "      padding: 0 0 0 0;\n",
              "      width: 32px;\n",
              "    }\n",
              "\n",
              "    .colab-df-convert:hover {\n",
              "      background-color: #E2EBFA;\n",
              "      box-shadow: 0px 1px 2px rgba(60, 64, 67, 0.3), 0px 1px 3px 1px rgba(60, 64, 67, 0.15);\n",
              "      fill: #174EA6;\n",
              "    }\n",
              "\n",
              "    [theme=dark] .colab-df-convert {\n",
              "      background-color: #3B4455;\n",
              "      fill: #D2E3FC;\n",
              "    }\n",
              "\n",
              "    [theme=dark] .colab-df-convert:hover {\n",
              "      background-color: #434B5C;\n",
              "      box-shadow: 0px 1px 3px 1px rgba(0, 0, 0, 0.15);\n",
              "      filter: drop-shadow(0px 1px 2px rgba(0, 0, 0, 0.3));\n",
              "      fill: #FFFFFF;\n",
              "    }\n",
              "  </style>\n",
              "\n",
              "      <script>\n",
              "        const buttonEl =\n",
              "          document.querySelector('#df-59c42e58-d4df-4cc5-b12b-58666e4f5779 button.colab-df-convert');\n",
              "        buttonEl.style.display =\n",
              "          google.colab.kernel.accessAllowed ? 'block' : 'none';\n",
              "\n",
              "        async function convertToInteractive(key) {\n",
              "          const element = document.querySelector('#df-59c42e58-d4df-4cc5-b12b-58666e4f5779');\n",
              "          const dataTable =\n",
              "            await google.colab.kernel.invokeFunction('convertToInteractive',\n",
              "                                                     [key], {});\n",
              "          if (!dataTable) return;\n",
              "\n",
              "          const docLinkHtml = 'Like what you see? Visit the ' +\n",
              "            '<a target=\"_blank\" href=https://colab.research.google.com/notebooks/data_table.ipynb>data table notebook</a>'\n",
              "            + ' to learn more about interactive tables.';\n",
              "          element.innerHTML = '';\n",
              "          dataTable['output_type'] = 'display_data';\n",
              "          await google.colab.output.renderOutput(dataTable, element);\n",
              "          const docLink = document.createElement('div');\n",
              "          docLink.innerHTML = docLinkHtml;\n",
              "          element.appendChild(docLink);\n",
              "        }\n",
              "      </script>\n",
              "    </div>\n",
              "  </div>\n",
              "  "
            ],
            "text/plain": [
              "     anon_ID  countPantryAssists  ... sumHolidayPounds sumHolidayDollars\n",
              "0        102                  64  ...               30                 0\n",
              "64       178                  68  ...               90                 0\n",
              "132      588                  65  ...               90               100\n",
              "197      502                  55  ...               30                50\n",
              "252      232                  27  ...               30                 0\n",
              "\n",
              "[5 rows x 11 columns]"
            ]
          },
          "metadata": {},
          "execution_count": 27
        }
      ]
    },
    {
      "cell_type": "code",
      "source": [
        "# Calculate sum by each new column (pantry_pounds, pantry_dollars, etc.)\n",
        "# pantry pounds\n",
        "#  Create a list of sums by ID\n",
        "#  Create temporary dataframe with that list\n",
        "#  Rename the new column to reflect it is a sum\n",
        "#  Merge that dataframe with the main one\n",
        "mySums=pantry.groupby(['anon_ID'])['pantry_pounds'].sum()\n",
        "mySums_df=pd.DataFrame(mySums)\n",
        "mySums_df.rename(columns={'pantry_pounds':'sumPantryPounds'},inplace=True)\n",
        "pantry=pd.merge(pantry,mySums_df, on=['anon_ID'])\n",
        "\n",
        "# pantry dollars\n",
        "pantry['pantry_dollars'].astype(str) # can only build list of strings?\n",
        "mySums=pantry.groupby(['anon_ID'])['pantry_dollars'].sum()\n",
        "mySums_df=pd.DataFrame(mySums)\n",
        "mySums_df.rename(columns={'pantry_dollars':'sumPantryDollars'},inplace=True)\n",
        "pantry=pd.merge(pantry,mySums_df, on=['anon_ID'])\n",
        "\n",
        "# easter pounds\n",
        "mySums=pantry.groupby(['anon_ID'])['easter_pounds'].sum()\n",
        "mySums_df=pd.DataFrame(mySums)\n",
        "mySums_df.rename(columns={'easter_pounds':'sumEasterPounds'},inplace=True)\n",
        "pantry=pd.merge(pantry,mySums_df, on=['anon_ID'])\n",
        "\n",
        "# easter bags\n",
        "mySums=pantry.groupby(['anon_ID'])['easter_bags'].sum()\n",
        "mySums_df=pd.DataFrame(mySums)\n",
        "mySums_df.rename(columns={'easter_bags':'sumEasterBags'},inplace=True)\n",
        "pantry=pd.merge(pantry,mySums_df, on=['anon_ID'])\n",
        "\n",
        "# holiday pounds\n",
        "mySums=pantry.groupby(['anon_ID'])['holiday_pounds'].sum()\n",
        "mySums_df=pd.DataFrame(mySums)\n",
        "mySums_df.rename(columns={'holiday_pounds':'sumHolidayPounds'},inplace=True)\n",
        "pantry=pd.merge(pantry,mySums_df, on=['anon_ID'])\n",
        "\n",
        "# holiday dollars\n",
        "mySums=pantry.groupby(['anon_ID'])['holiday_dollars'].sum()\n",
        "mySums_df=pd.DataFrame(mySums)\n",
        "mySums_df.rename(columns={'holiday_dollars':'sumHolidayDollars'},inplace=True)\n",
        "pantry=pd.merge(pantry,mySums_df, on=['anon_ID'])\n"
      ],
      "metadata": {
        "id": "_epSQLtZodYb"
      },
      "execution_count": 14,
      "outputs": []
    },
    {
      "cell_type": "code",
      "source": [
        "# Calculate sums per anon_ID\n",
        "pantry.info()"
      ],
      "metadata": {
        "colab": {
          "base_uri": "https://localhost:8080/"
        },
        "id": "sO1Hxz6lwV8p",
        "outputId": "0630c48c-d600-47a6-d4a4-8e35f8b732b5"
      },
      "execution_count": 15,
      "outputs": [
        {
          "output_type": "stream",
          "name": "stdout",
          "text": [
            "<class 'pandas.core.frame.DataFrame'>\n",
            "Int64Index: 6273 entries, 0 to 6272\n",
            "Data columns (total 21 columns):\n",
            " #   Column               Non-Null Count  Dtype          \n",
            "---  ------               --------------  -----          \n",
            " 0   anon_ID              6273 non-null   int64          \n",
            " 1   assistance_date      6273 non-null   object         \n",
            " 2   assistance_category  6273 non-null   object         \n",
            " 3   amount               6273 non-null   int64          \n",
            " 4   unit                 6273 non-null   object         \n",
            " 5   countPantryAssists   6273 non-null   int64          \n",
            " 6   pantry_first_assist  6273 non-null   datetime64[ns] \n",
            " 7   pantry_last_assist   6273 non-null   datetime64[ns] \n",
            " 8   pantry_duration      6273 non-null   timedelta64[ns]\n",
            " 9   pantry_pounds        6273 non-null   int64          \n",
            " 10  pantry_dollars       6273 non-null   int64          \n",
            " 11  easter_pounds        6273 non-null   int64          \n",
            " 12  easter_bags          6273 non-null   int64          \n",
            " 13  holiday_pounds       6273 non-null   int64          \n",
            " 14  holiday_dollars      6273 non-null   int64          \n",
            " 15  sumPantryPounds      6273 non-null   int64          \n",
            " 16  sumPantryDollars     6273 non-null   int64          \n",
            " 17  sumEasterPounds      6273 non-null   int64          \n",
            " 18  sumEasterBags        6273 non-null   int64          \n",
            " 19  sumHolidayPounds     6273 non-null   int64          \n",
            " 20  sumHolidayDollars    6273 non-null   int64          \n",
            "dtypes: datetime64[ns](2), int64(15), object(3), timedelta64[ns](1)\n",
            "memory usage: 1.1+ MB\n"
          ]
        }
      ]
    },
    {
      "cell_type": "code",
      "source": [
        "# Drop duplicate rows\n",
        "pantry.drop_duplicates(subset='anon_ID',inplace=True)"
      ],
      "metadata": {
        "id": "Fr7qTWj0_WyH"
      },
      "execution_count": 16,
      "outputs": []
    },
    {
      "cell_type": "code",
      "source": [
        "# Drop columns: assistance_date, assistance_category, amount, unit\n",
        "pantry=pantry.drop('assistance_date',axis=1)\n",
        "pantry=pantry.drop('assistance_category',axis=1)\n",
        "pantry=pantry.drop('amount',axis=1)\n",
        "pantry=pantry.drop('unit',axis=1)\n",
        "\n",
        "# Now that summed up, no longer need Pantry_Pounds & Dollars/EasterPounds&Dollars/HolidayPounds&Dollars\n",
        "pantry=pantry.drop('pantry_pounds',axis=1)\n",
        "pantry=pantry.drop('pantry_dollars',axis=1)\n",
        "pantry=pantry.drop('easter_pounds',axis=1)\n",
        "pantry=pantry.drop('easter_bags',axis=1)\n",
        "pantry=pantry.drop('holiday_pounds',axis=1)\n",
        "pantry=pantry.drop('holiday_dollars',axis=1)\n",
        "\n"
      ],
      "metadata": {
        "id": "15DzlVOV_oJa"
      },
      "execution_count": 17,
      "outputs": []
    },
    {
      "cell_type": "code",
      "source": [
        "pantry.describe().transpose()"
      ],
      "metadata": {
        "colab": {
          "base_uri": "https://localhost:8080/",
          "height": 393
        },
        "id": "bfwjTgZyGA3o",
        "outputId": "4eec8ab8-e1c0-429b-81d7-4ec30ecd791e"
      },
      "execution_count": 18,
      "outputs": [
        {
          "output_type": "execute_result",
          "data": {
            "text/html": [
              "\n",
              "  <div id=\"df-5c33c865-2988-4f5b-a5b2-91e1d3826a82\">\n",
              "    <div class=\"colab-df-container\">\n",
              "      <div>\n",
              "<style scoped>\n",
              "    .dataframe tbody tr th:only-of-type {\n",
              "        vertical-align: middle;\n",
              "    }\n",
              "\n",
              "    .dataframe tbody tr th {\n",
              "        vertical-align: top;\n",
              "    }\n",
              "\n",
              "    .dataframe thead th {\n",
              "        text-align: right;\n",
              "    }\n",
              "</style>\n",
              "<table border=\"1\" class=\"dataframe\">\n",
              "  <thead>\n",
              "    <tr style=\"text-align: right;\">\n",
              "      <th></th>\n",
              "      <th>count</th>\n",
              "      <th>mean</th>\n",
              "      <th>std</th>\n",
              "      <th>min</th>\n",
              "      <th>25%</th>\n",
              "      <th>50%</th>\n",
              "      <th>75%</th>\n",
              "      <th>max</th>\n",
              "    </tr>\n",
              "  </thead>\n",
              "  <tbody>\n",
              "    <tr>\n",
              "      <th>anon_ID</th>\n",
              "      <td>414.0</td>\n",
              "      <td>319.297101</td>\n",
              "      <td>187.389783</td>\n",
              "      <td>2.0</td>\n",
              "      <td>152.25</td>\n",
              "      <td>315.5</td>\n",
              "      <td>483.5</td>\n",
              "      <td>639.0</td>\n",
              "    </tr>\n",
              "    <tr>\n",
              "      <th>countPantryAssists</th>\n",
              "      <td>414.0</td>\n",
              "      <td>15.152174</td>\n",
              "      <td>18.499356</td>\n",
              "      <td>1.0</td>\n",
              "      <td>2.0</td>\n",
              "      <td>7.0</td>\n",
              "      <td>23.0</td>\n",
              "      <td>98.0</td>\n",
              "    </tr>\n",
              "    <tr>\n",
              "      <th>pantry_duration</th>\n",
              "      <td>414</td>\n",
              "      <td>373 days 13:02:36.521739132</td>\n",
              "      <td>342 days 23:18:25.864954012</td>\n",
              "      <td>0 days 00:00:00</td>\n",
              "      <td>29 days 06:00:00</td>\n",
              "      <td>332 days 12:00:00</td>\n",
              "      <td>657 days 18:00:00</td>\n",
              "      <td>978 days 00:00:00</td>\n",
              "    </tr>\n",
              "    <tr>\n",
              "      <th>sumPantryPounds</th>\n",
              "      <td>414.0</td>\n",
              "      <td>350.966184</td>\n",
              "      <td>442.795061</td>\n",
              "      <td>0.0</td>\n",
              "      <td>25.0</td>\n",
              "      <td>150.0</td>\n",
              "      <td>543.75</td>\n",
              "      <td>2350.0</td>\n",
              "    </tr>\n",
              "    <tr>\n",
              "      <th>sumPantryDollars</th>\n",
              "      <td>414.0</td>\n",
              "      <td>0.169082</td>\n",
              "      <td>1.466465</td>\n",
              "      <td>0.0</td>\n",
              "      <td>0.0</td>\n",
              "      <td>0.0</td>\n",
              "      <td>0.0</td>\n",
              "      <td>20.0</td>\n",
              "    </tr>\n",
              "    <tr>\n",
              "      <th>sumEasterPounds</th>\n",
              "      <td>414.0</td>\n",
              "      <td>0.144928</td>\n",
              "      <td>1.196549</td>\n",
              "      <td>0.0</td>\n",
              "      <td>0.0</td>\n",
              "      <td>0.0</td>\n",
              "      <td>0.0</td>\n",
              "      <td>10.0</td>\n",
              "    </tr>\n",
              "    <tr>\n",
              "      <th>sumEasterBags</th>\n",
              "      <td>414.0</td>\n",
              "      <td>0.118357</td>\n",
              "      <td>1.301145</td>\n",
              "      <td>0.0</td>\n",
              "      <td>0.0</td>\n",
              "      <td>0.0</td>\n",
              "      <td>0.0</td>\n",
              "      <td>24.0</td>\n",
              "    </tr>\n",
              "    <tr>\n",
              "      <th>sumHolidayPounds</th>\n",
              "      <td>414.0</td>\n",
              "      <td>24.746377</td>\n",
              "      <td>33.534644</td>\n",
              "      <td>0.0</td>\n",
              "      <td>0.0</td>\n",
              "      <td>0.0</td>\n",
              "      <td>30.0</td>\n",
              "      <td>180.0</td>\n",
              "    </tr>\n",
              "    <tr>\n",
              "      <th>sumHolidayDollars</th>\n",
              "      <td>414.0</td>\n",
              "      <td>7.18599</td>\n",
              "      <td>17.659455</td>\n",
              "      <td>0.0</td>\n",
              "      <td>0.0</td>\n",
              "      <td>0.0</td>\n",
              "      <td>0.0</td>\n",
              "      <td>125.0</td>\n",
              "    </tr>\n",
              "  </tbody>\n",
              "</table>\n",
              "</div>\n",
              "      <button class=\"colab-df-convert\" onclick=\"convertToInteractive('df-5c33c865-2988-4f5b-a5b2-91e1d3826a82')\"\n",
              "              title=\"Convert this dataframe to an interactive table.\"\n",
              "              style=\"display:none;\">\n",
              "        \n",
              "  <svg xmlns=\"http://www.w3.org/2000/svg\" height=\"24px\"viewBox=\"0 0 24 24\"\n",
              "       width=\"24px\">\n",
              "    <path d=\"M0 0h24v24H0V0z\" fill=\"none\"/>\n",
              "    <path d=\"M18.56 5.44l.94 2.06.94-2.06 2.06-.94-2.06-.94-.94-2.06-.94 2.06-2.06.94zm-11 1L8.5 8.5l.94-2.06 2.06-.94-2.06-.94L8.5 2.5l-.94 2.06-2.06.94zm10 10l.94 2.06.94-2.06 2.06-.94-2.06-.94-.94-2.06-.94 2.06-2.06.94z\"/><path d=\"M17.41 7.96l-1.37-1.37c-.4-.4-.92-.59-1.43-.59-.52 0-1.04.2-1.43.59L10.3 9.45l-7.72 7.72c-.78.78-.78 2.05 0 2.83L4 21.41c.39.39.9.59 1.41.59.51 0 1.02-.2 1.41-.59l7.78-7.78 2.81-2.81c.8-.78.8-2.07 0-2.86zM5.41 20L4 18.59l7.72-7.72 1.47 1.35L5.41 20z\"/>\n",
              "  </svg>\n",
              "      </button>\n",
              "      \n",
              "  <style>\n",
              "    .colab-df-container {\n",
              "      display:flex;\n",
              "      flex-wrap:wrap;\n",
              "      gap: 12px;\n",
              "    }\n",
              "\n",
              "    .colab-df-convert {\n",
              "      background-color: #E8F0FE;\n",
              "      border: none;\n",
              "      border-radius: 50%;\n",
              "      cursor: pointer;\n",
              "      display: none;\n",
              "      fill: #1967D2;\n",
              "      height: 32px;\n",
              "      padding: 0 0 0 0;\n",
              "      width: 32px;\n",
              "    }\n",
              "\n",
              "    .colab-df-convert:hover {\n",
              "      background-color: #E2EBFA;\n",
              "      box-shadow: 0px 1px 2px rgba(60, 64, 67, 0.3), 0px 1px 3px 1px rgba(60, 64, 67, 0.15);\n",
              "      fill: #174EA6;\n",
              "    }\n",
              "\n",
              "    [theme=dark] .colab-df-convert {\n",
              "      background-color: #3B4455;\n",
              "      fill: #D2E3FC;\n",
              "    }\n",
              "\n",
              "    [theme=dark] .colab-df-convert:hover {\n",
              "      background-color: #434B5C;\n",
              "      box-shadow: 0px 1px 3px 1px rgba(0, 0, 0, 0.15);\n",
              "      filter: drop-shadow(0px 1px 2px rgba(0, 0, 0, 0.3));\n",
              "      fill: #FFFFFF;\n",
              "    }\n",
              "  </style>\n",
              "\n",
              "      <script>\n",
              "        const buttonEl =\n",
              "          document.querySelector('#df-5c33c865-2988-4f5b-a5b2-91e1d3826a82 button.colab-df-convert');\n",
              "        buttonEl.style.display =\n",
              "          google.colab.kernel.accessAllowed ? 'block' : 'none';\n",
              "\n",
              "        async function convertToInteractive(key) {\n",
              "          const element = document.querySelector('#df-5c33c865-2988-4f5b-a5b2-91e1d3826a82');\n",
              "          const dataTable =\n",
              "            await google.colab.kernel.invokeFunction('convertToInteractive',\n",
              "                                                     [key], {});\n",
              "          if (!dataTable) return;\n",
              "\n",
              "          const docLinkHtml = 'Like what you see? Visit the ' +\n",
              "            '<a target=\"_blank\" href=https://colab.research.google.com/notebooks/data_table.ipynb>data table notebook</a>'\n",
              "            + ' to learn more about interactive tables.';\n",
              "          element.innerHTML = '';\n",
              "          dataTable['output_type'] = 'display_data';\n",
              "          await google.colab.output.renderOutput(dataTable, element);\n",
              "          const docLink = document.createElement('div');\n",
              "          docLink.innerHTML = docLinkHtml;\n",
              "          element.appendChild(docLink);\n",
              "        }\n",
              "      </script>\n",
              "    </div>\n",
              "  </div>\n",
              "  "
            ],
            "text/plain": [
              "                    count  ...                max\n",
              "anon_ID             414.0  ...              639.0\n",
              "countPantryAssists  414.0  ...               98.0\n",
              "pantry_duration       414  ...  978 days 00:00:00\n",
              "sumPantryPounds     414.0  ...             2350.0\n",
              "sumPantryDollars    414.0  ...               20.0\n",
              "sumEasterPounds     414.0  ...               10.0\n",
              "sumEasterBags       414.0  ...               24.0\n",
              "sumHolidayPounds    414.0  ...              180.0\n",
              "sumHolidayDollars   414.0  ...              125.0\n",
              "\n",
              "[9 rows x 8 columns]"
            ]
          },
          "metadata": {},
          "execution_count": 18
        }
      ]
    },
    {
      "cell_type": "code",
      "source": [
        "pantryNoID_DF=pantry[['countPantryAssists','pantry_first_assist','pantry_last_assist','pantry_duration',\n",
        "                    'sumPantryPounds','sumPantryDollars',\n",
        "                    'sumEasterPounds','sumEasterBags','sumHolidayPounds','sumHolidayDollars']]\n",
        "sns.pairplot(pantryNoID_DF)"
      ],
      "metadata": {
        "colab": {
          "base_uri": "https://localhost:8080/",
          "height": 922
        },
        "id": "mOLMy4prBcWd",
        "outputId": "490b7064-989e-4c77-a9b2-5dec0d390953"
      },
      "execution_count": 19,
      "outputs": [
        {
          "output_type": "execute_result",
          "data": {
            "text/plain": [
              "<seaborn.axisgrid.PairGrid at 0x7f9762e31710>"
            ]
          },
          "metadata": {},
          "execution_count": 19
        },
        {
          "output_type": "display_data",
          "data": {
            "image/png": "[encoded data removed]",
            "text/plain": [
              "<Figure size 1260x1260 with 56 Axes>"
            ]
          },
          "metadata": {
            "needs_background": "light"
          }
        }
      ]
    },
    {
      "cell_type": "code",
      "source": [
        "sns.heatmap(pantryNoID_DF.corr(),annot=True)"
      ],
      "metadata": {
        "colab": {
          "base_uri": "https://localhost:8080/",
          "height": 372
        },
        "id": "TNy5eV6sCntH",
        "outputId": "c8a0e8c0-71d4-4d42-f614-5a1e954d132f"
      },
      "execution_count": null,
      "outputs": [
        {
          "output_type": "execute_result",
          "data": {
            "text/plain": [
              "<matplotlib.axes._subplots.AxesSubplot at 0x7f4c40496850>"
            ]
          },
          "metadata": {},
          "execution_count": 17
        },
        {
          "output_type": "display_data",
          "data": {
            "image/png": "[encoded data removed]",
            "text/plain": [
              "<Figure size 432x288 with 2 Axes>"
            ]
          },
          "metadata": {
            "needs_background": "light"
          }
        }
      ]
    },
    {
      "cell_type": "code",
      "source": [
        "pantry.to_csv('/content/gdrive/MyDrive/dataPhilly_ElderNet/pantry_flat.csv')"
      ],
      "metadata": {
        "id": "BCUet3hWJ4Ec"
      },
      "execution_count": 29,
      "outputs": []
    }
  ]
}