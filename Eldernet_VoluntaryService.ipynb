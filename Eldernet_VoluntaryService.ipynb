{
  "nbformat": 4,
  "nbformat_minor": 0,
  "metadata": {
    "colab": {
      "name": "Eldernet-VoluntaryService.ipynb",
      "provenance": []
    },
    "kernelspec": {
      "name": "python3",
      "display_name": "Python 3"
    },
    "language_info": {
      "name": "python"
    }
  },
  "cells": [
    {
      "cell_type": "code",
      "execution_count": 1,
      "metadata": {
        "id": "ax-IC-mTPWXB"
      },
      "outputs": [],
      "source": [
        "import pandas as pd\n",
        "import numpy as np\n",
        "import matplotlib.pyplot as plt\n",
        "import seaborn as sns\n",
        "%matplotlib inline"
      ]
    },
    {
      "cell_type": "code",
      "source": [
        "from google.colab import drive\n",
        "drive.mount('/content/gdrive')"
      ],
      "metadata": {
        "colab": {
          "base_uri": "https://localhost:8080/"
        },
        "id": "8aik2XEJPYuM",
        "outputId": "e0e56e64-e8d4-4dcc-ad28-f8f0379fae22"
      },
      "execution_count": 2,
      "outputs": [
        {
          "output_type": "stream",
          "name": "stdout",
          "text": [
            "Mounted at /content/gdrive\n"
          ]
        }
      ]
    },
    {
      "cell_type": "code",
      "source": [
        "volsvc=pd.read_csv('/content/gdrive/MyDrive/dataPhilly_ElderNet/volunteer_services.csv',parse_dates=['appt_date'])\n",
        "clientinfo=pd.read_csv('/content/gdrive/MyDrive/dataPhilly_ElderNet/Client_data2.csv')"
      ],
      "metadata": {
        "id": "n5xK_qpSPYxF"
      },
      "execution_count": 3,
      "outputs": []
    },
    {
      "cell_type": "code",
      "source": [
        "volsvc.head(3)"
      ],
      "metadata": {
        "colab": {
          "base_uri": "https://localhost:8080/",
          "height": 260
        },
        "id": "zU7A8s7SPY0T",
        "outputId": "8896cdee-ca69-4db2-d807-5cc6ab6d91af"
      },
      "execution_count": 4,
      "outputs": [
        {
          "output_type": "execute_result",
          "data": {
            "text/plain": [
              "   anon_ID rider_first_ride_date rider_last_ride_date  rider_num_rides  \\\n",
              "0      276            2015-04-27           2021-11-16                0   \n",
              "1      276            2015-04-27           2021-11-16                0   \n",
              "2      276            2015-04-27           2021-11-16                0   \n",
              "\n",
              "   appt_date  appt_duration     category  \n",
              "0 2021-09-15            2.0  Doctor Appt  \n",
              "1 2021-09-01            2.0  Doctor Appt  \n",
              "2 2021-08-26            2.0  Doctor Appt  "
            ],
            "text/html": [
              "\n",
              "  <div id=\"df-bbe46037-16d9-4ba3-b714-6e35ade5d713\">\n",
              "    <div class=\"colab-df-container\">\n",
              "      <div>\n",
              "<style scoped>\n",
              "    .dataframe tbody tr th:only-of-type {\n",
              "        vertical-align: middle;\n",
              "    }\n",
              "\n",
              "    .dataframe tbody tr th {\n",
              "        vertical-align: top;\n",
              "    }\n",
              "\n",
              "    .dataframe thead th {\n",
              "        text-align: right;\n",
              "    }\n",
              "</style>\n",
              "<table border=\"1\" class=\"dataframe\">\n",
              "  <thead>\n",
              "    <tr style=\"text-align: right;\">\n",
              "      <th></th>\n",
              "      <th>anon_ID</th>\n",
              "      <th>rider_first_ride_date</th>\n",
              "      <th>rider_last_ride_date</th>\n",
              "      <th>rider_num_rides</th>\n",
              "      <th>appt_date</th>\n",
              "      <th>appt_duration</th>\n",
              "      <th>category</th>\n",
              "    </tr>\n",
              "  </thead>\n",
              "  <tbody>\n",
              "    <tr>\n",
              "      <th>0</th>\n",
              "      <td>276</td>\n",
              "      <td>2015-04-27</td>\n",
              "      <td>2021-11-16</td>\n",
              "      <td>0</td>\n",
              "      <td>2021-09-15</td>\n",
              "      <td>2.0</td>\n",
              "      <td>Doctor Appt</td>\n",
              "    </tr>\n",
              "    <tr>\n",
              "      <th>1</th>\n",
              "      <td>276</td>\n",
              "      <td>2015-04-27</td>\n",
              "      <td>2021-11-16</td>\n",
              "      <td>0</td>\n",
              "      <td>2021-09-01</td>\n",
              "      <td>2.0</td>\n",
              "      <td>Doctor Appt</td>\n",
              "    </tr>\n",
              "    <tr>\n",
              "      <th>2</th>\n",
              "      <td>276</td>\n",
              "      <td>2015-04-27</td>\n",
              "      <td>2021-11-16</td>\n",
              "      <td>0</td>\n",
              "      <td>2021-08-26</td>\n",
              "      <td>2.0</td>\n",
              "      <td>Doctor Appt</td>\n",
              "    </tr>\n",
              "  </tbody>\n",
              "</table>\n",
              "</div>\n",
              "      <button class=\"colab-df-convert\" onclick=\"convertToInteractive('df-bbe46037-16d9-4ba3-b714-6e35ade5d713')\"\n",
              "              title=\"Convert this dataframe to an interactive table.\"\n",
              "              style=\"display:none;\">\n",
              "        \n",
              "  <svg xmlns=\"http://www.w3.org/2000/svg\" height=\"24px\"viewBox=\"0 0 24 24\"\n",
              "       width=\"24px\">\n",
              "    <path d=\"M0 0h24v24H0V0z\" fill=\"none\"/>\n",
              "    <path d=\"M18.56 5.44l.94 2.06.94-2.06 2.06-.94-2.06-.94-.94-2.06-.94 2.06-2.06.94zm-11 1L8.5 8.5l.94-2.06 2.06-.94-2.06-.94L8.5 2.5l-.94 2.06-2.06.94zm10 10l.94 2.06.94-2.06 2.06-.94-2.06-.94-.94-2.06-.94 2.06-2.06.94z\"/><path d=\"M17.41 7.96l-1.37-1.37c-.4-.4-.92-.59-1.43-.59-.52 0-1.04.2-1.43.59L10.3 9.45l-7.72 7.72c-.78.78-.78 2.05 0 2.83L4 21.41c.39.39.9.59 1.41.59.51 0 1.02-.2 1.41-.59l7.78-7.78 2.81-2.81c.8-.78.8-2.07 0-2.86zM5.41 20L4 18.59l7.72-7.72 1.47 1.35L5.41 20z\"/>\n",
              "  </svg>\n",
              "      </button>\n",
              "      \n",
              "  <style>\n",
              "    .colab-df-container {\n",
              "      display:flex;\n",
              "      flex-wrap:wrap;\n",
              "      gap: 12px;\n",
              "    }\n",
              "\n",
              "    .colab-df-convert {\n",
              "      background-color: #E8F0FE;\n",
              "      border: none;\n",
              "      border-radius: 50%;\n",
              "      cursor: pointer;\n",
              "      display: none;\n",
              "      fill: #1967D2;\n",
              "      height: 32px;\n",
              "      padding: 0 0 0 0;\n",
              "      width: 32px;\n",
              "    }\n",
              "\n",
              "    .colab-df-convert:hover {\n",
              "      background-color: #E2EBFA;\n",
              "      box-shadow: 0px 1px 2px rgba(60, 64, 67, 0.3), 0px 1px 3px 1px rgba(60, 64, 67, 0.15);\n",
              "      fill: #174EA6;\n",
              "    }\n",
              "\n",
              "    [theme=dark] .colab-df-convert {\n",
              "      background-color: #3B4455;\n",
              "      fill: #D2E3FC;\n",
              "    }\n",
              "\n",
              "    [theme=dark] .colab-df-convert:hover {\n",
              "      background-color: #434B5C;\n",
              "      box-shadow: 0px 1px 3px 1px rgba(0, 0, 0, 0.15);\n",
              "      filter: drop-shadow(0px 1px 2px rgba(0, 0, 0, 0.3));\n",
              "      fill: #FFFFFF;\n",
              "    }\n",
              "  </style>\n",
              "\n",
              "      <script>\n",
              "        const buttonEl =\n",
              "          document.querySelector('#df-bbe46037-16d9-4ba3-b714-6e35ade5d713 button.colab-df-convert');\n",
              "        buttonEl.style.display =\n",
              "          google.colab.kernel.accessAllowed ? 'block' : 'none';\n",
              "\n",
              "        async function convertToInteractive(key) {\n",
              "          const element = document.querySelector('#df-bbe46037-16d9-4ba3-b714-6e35ade5d713');\n",
              "          const dataTable =\n",
              "            await google.colab.kernel.invokeFunction('convertToInteractive',\n",
              "                                                     [key], {});\n",
              "          if (!dataTable) return;\n",
              "\n",
              "          const docLinkHtml = 'Like what you see? Visit the ' +\n",
              "            '<a target=\"_blank\" href=https://colab.research.google.com/notebooks/data_table.ipynb>data table notebook</a>'\n",
              "            + ' to learn more about interactive tables.';\n",
              "          element.innerHTML = '';\n",
              "          dataTable['output_type'] = 'display_data';\n",
              "          await google.colab.output.renderOutput(dataTable, element);\n",
              "          const docLink = document.createElement('div');\n",
              "          docLink.innerHTML = docLinkHtml;\n",
              "          element.appendChild(docLink);\n",
              "        }\n",
              "      </script>\n",
              "    </div>\n",
              "  </div>\n",
              "  "
            ]
          },
          "metadata": {},
          "execution_count": 4
        }
      ]
    },
    {
      "cell_type": "code",
      "source": [
        "volsvc.info()"
      ],
      "metadata": {
        "colab": {
          "base_uri": "https://localhost:8080/"
        },
        "id": "Rt9XZpZCPlMd",
        "outputId": "f72537eb-207f-4d84-84a7-3aea572cab5c"
      },
      "execution_count": 5,
      "outputs": [
        {
          "output_type": "stream",
          "name": "stdout",
          "text": [
            "<class 'pandas.core.frame.DataFrame'>\n",
            "RangeIndex: 4925 entries, 0 to 4924\n",
            "Data columns (total 7 columns):\n",
            " #   Column                 Non-Null Count  Dtype         \n",
            "---  ------                 --------------  -----         \n",
            " 0   anon_ID                4925 non-null   int64         \n",
            " 1   rider_first_ride_date  4925 non-null   object        \n",
            " 2   rider_last_ride_date   4925 non-null   object        \n",
            " 3   rider_num_rides        4925 non-null   int64         \n",
            " 4   appt_date              4925 non-null   datetime64[ns]\n",
            " 5   appt_duration          4925 non-null   float64       \n",
            " 6   category               4925 non-null   object        \n",
            "dtypes: datetime64[ns](1), float64(1), int64(2), object(3)\n",
            "memory usage: 269.5+ KB\n"
          ]
        }
      ]
    },
    {
      "cell_type": "code",
      "source": [
        "volsvc['rider_num_rides'].unique()"
      ],
      "metadata": {
        "colab": {
          "base_uri": "https://localhost:8080/"
        },
        "id": "0_jCEt6pQ1zC",
        "outputId": "9401cead-4251-463d-c2a8-c63953181bde"
      },
      "execution_count": 6,
      "outputs": [
        {
          "output_type": "execute_result",
          "data": {
            "text/plain": [
              "array([0])"
            ]
          },
          "metadata": {},
          "execution_count": 6
        }
      ]
    },
    {
      "cell_type": "code",
      "source": [
        "# rider_num_rides provides no useful info (all zeros?)\n",
        "volsvc=volsvc.drop('rider_num_rides',axis=1)"
      ],
      "metadata": {
        "id": "wTTnzfxlQ8s3"
      },
      "execution_count": 7,
      "outputs": []
    },
    {
      "cell_type": "code",
      "source": [
        "# How many categories?\n",
        "volsvc['category'].unique()"
      ],
      "metadata": {
        "colab": {
          "base_uri": "https://localhost:8080/"
        },
        "id": "D_inQFu7QGWM",
        "outputId": "e862e4c1-6051-46ee-9a6b-4e118f40f49e"
      },
      "execution_count": 8,
      "outputs": [
        {
          "output_type": "execute_result",
          "data": {
            "text/plain": [
              "array(['Doctor Appt', 'Errands', 'Shopping', 'Friendly Visit',\n",
              "       'Skilled Work', 'Telephone Reassurance', 'Odd Jobs', 'Yard Work',\n",
              "       'Pantry Delivery', 'Special Projects', 'Pantry',\n",
              "       'Board or Committee Mtg'], dtype=object)"
            ]
          },
          "metadata": {},
          "execution_count": 8
        }
      ]
    },
    {
      "cell_type": "markdown",
      "source": [
        "# Look at Volunary Services based on number of uses (assistance dates)"
      ],
      "metadata": {
        "id": "5UtoDvHVqNj4"
      }
    },
    {
      "cell_type": "code",
      "source": [
        "# Create sub DF of assistance_date and counts, sorted by date\n",
        "assistsByDate_df=volsvc[['appt_date','anon_ID']].sort_values('appt_date',ascending=True)\n",
        "assistsByDate_df.dropna(inplace=True)\n",
        "\n",
        "# Create 2 column DF (date and count)\n",
        "assistsByDate=assistsByDate_df.groupby('appt_date',as_index=False).count()\n",
        "#assistsByDate.dropna(inplace=True)\n",
        "assistsByDate.rename(columns={'anon_ID':'countByDate'},inplace=True)\n",
        "\n",
        "# Calculate simple moving average\n",
        "assistsByDate['SMA30'] = assistsByDate['countByDate'].rolling(30).mean()"
      ],
      "metadata": {
        "id": "ecJD4oPUp-TJ"
      },
      "execution_count": 9,
      "outputs": []
    },
    {
      "cell_type": "code",
      "source": [
        "# Graph simple moving average over time\n",
        "plt.figure(figsize=(12,8))\n",
        "plt.title('Rolling 30 day Counts of Rides')\n",
        "sns.lineplot(x='appt_date',y='SMA30',data=assistsByDate)"
      ],
      "metadata": {
        "colab": {
          "base_uri": "https://localhost:8080/",
          "height": 533
        },
        "id": "1fMoiua8qhiz",
        "outputId": "cb1884b0-8d7f-426d-e8f2-133f609bca1e"
      },
      "execution_count": 10,
      "outputs": [
        {
          "output_type": "execute_result",
          "data": {
            "text/plain": [
              "<matplotlib.axes._subplots.AxesSubplot at 0x7f7c85aa5ad0>"
            ]
          },
          "metadata": {},
          "execution_count": 10
        },
        {
          "output_type": "display_data",
          "data": {
            "text/plain": [
              "<Figure size 864x576 with 1 Axes>"
            ],
            "image/png": "[encoded data removed]"
          },
          "metadata": {
            "needs_background": "light"
          }
        }
      ]
    },
    {
      "cell_type": "markdown",
      "source": [
        "Conclusion:  For overall population the average number of rides dropped significantly during pandemic and has been slowly growing back, but not yet recvered to pre-pandemic levels."
      ],
      "metadata": {
        "id": "rIZimkhaq0Y7"
      }
    },
    {
      "cell_type": "markdown",
      "source": [
        "Merge with Client Info and look at ride breakdown based on \n",
        "*  minority\n",
        "*  poverty\n",
        "*  age_group"
      ],
      "metadata": {
        "id": "9ScBXxBSrMCa"
      }
    },
    {
      "cell_type": "code",
      "source": [
        "# sort by anon_ID before merge\n",
        "clientinfo.sort_values('anon_ID',inplace=True)\n",
        "volsvc.sort_values('anon_ID',inplace=True)\n",
        "\n",
        "# Merge Client info and Pantry data\n",
        "combined_df=pd.merge(clientinfo, volsvc, on=['anon_ID'],how='outer') # use all keys\n",
        "\n",
        "# sort by date before group_by\n",
        "combined_df=combined_df.sort_values('appt_date',ascending=True)\n",
        "\n",
        "# Create subset DF (date and count and poverty\n",
        "combined_pov=combined_df[['appt_date', 'poverty']]"
      ],
      "metadata": {
        "id": "ZakNDwzerJ_Y"
      },
      "execution_count": 11,
      "outputs": []
    },
    {
      "cell_type": "code",
      "source": [
        "# Break into two groups (Poverty=Y/N), then plot rolling (30day) sums?\n",
        "pov_y_df=combined_pov[combined_pov['poverty']=='Yes']\n",
        "pov_n_df=combined_pov[combined_pov['poverty']=='No']\n",
        "\n",
        "# Calculate counts per date\n",
        "pov_y=pov_y_df.groupby('appt_date',as_index=False).count()\n",
        "pov_n=pov_n_df.groupby('appt_date',as_index=False).count()\n",
        "pov_y.rename(columns={'poverty':'countPovY'},inplace=True)\n",
        "pov_n.rename(columns={'poverty':'countPovN'},inplace=True)\n",
        "\n",
        "# Calculate rolline 30 day averages\n",
        "pov_y['povY30']=pov_y['countPovY'].rolling(30).mean()\n",
        "pov_n['povN30']=pov_n['countPovN'].rolling(30).mean()"
      ],
      "metadata": {
        "id": "w_ojmTdnrKCl"
      },
      "execution_count": 12,
      "outputs": []
    },
    {
      "cell_type": "code",
      "source": [
        "plt.figure(figsize=(12,8))\n",
        "plt.title('Rolling 30 day Counts of Rides vs Poverty')\n",
        "sns.lineplot(x='appt_date',y='povY30',data=pov_y, label=\"Avg. Poverty Usage\")\n",
        "sns.lineplot(x='appt_date',y='povN30',data=pov_n, label=\"Avg. non-poverty Usage\")"
      ],
      "metadata": {
        "colab": {
          "base_uri": "https://localhost:8080/",
          "height": 533
        },
        "id": "pAIPFgKyrXVw",
        "outputId": "3af6f161-2e63-4650-8f2a-6aa506df3234"
      },
      "execution_count": 13,
      "outputs": [
        {
          "output_type": "execute_result",
          "data": {
            "text/plain": [
              "<matplotlib.axes._subplots.AxesSubplot at 0x7f7c85916d90>"
            ]
          },
          "metadata": {},
          "execution_count": 13
        },
        {
          "output_type": "display_data",
          "data": {
            "text/plain": [
              "<Figure size 864x576 with 1 Axes>"
            ],
            "image/png": "[encoded data removed]"
          },
          "metadata": {
            "needs_background": "light"
          }
        }
      ]
    },
    {
      "cell_type": "markdown",
      "source": [
        "Conclusion: ???"
      ],
      "metadata": {
        "id": "SxnSMQzns3GD"
      }
    },
    {
      "cell_type": "markdown",
      "source": [
        "Breakdown by Minority"
      ],
      "metadata": {
        "id": "7YXXJm-1tA9c"
      }
    },
    {
      "cell_type": "code",
      "source": [
        "# Create subset DF (date and count and minority\n",
        "combined_min=combined_df[['appt_date', 'minority']]"
      ],
      "metadata": {
        "id": "P2szxA_crXZk"
      },
      "execution_count": 14,
      "outputs": []
    },
    {
      "cell_type": "code",
      "source": [
        "# Break into two groups (Minority=Y/N), then plot rolling (30day) averages?\n",
        "min_y_df=combined_min[combined_min['minority']=='Yes']\n",
        "min_n_df=combined_min[combined_min['minority']=='No']\n",
        "\n",
        "# Calculate counts per date\n",
        "min_y=min_y_df.groupby('appt_date',as_index=False).count()\n",
        "min_n=min_n_df.groupby('appt_date',as_index=False).count()\n",
        "min_y.rename(columns={'minority':'countMinY'},inplace=True)\n",
        "min_n.rename(columns={'minority':'countMinN'},inplace=True)\n",
        "\n",
        "# Calculate rolline 30 day averages\n",
        "min_y['minY30']=min_y['countMinY'].rolling(30).mean()\n",
        "min_n['minN30']=min_n['countMinN'].rolling(30).mean()"
      ],
      "metadata": {
        "id": "mxTYLIFrr0a-"
      },
      "execution_count": 15,
      "outputs": []
    },
    {
      "cell_type": "code",
      "source": [
        "plt.figure(figsize=(12,8))\n",
        "plt.title('Rolling 30 day Counts of Rides vs Minority')\n",
        "sns.lineplot(x='appt_date',y='minY30',data=min_y, label=\"Avg. Minority\")\n",
        "sns.lineplot(x='appt_date',y='minN30',data=min_n, label=\"Avg. non-minority\")"
      ],
      "metadata": {
        "colab": {
          "base_uri": "https://localhost:8080/",
          "height": 533
        },
        "id": "UuxzjxPMrKG3",
        "outputId": "46e45819-98ee-4a11-99f1-8a8cffd8427c"
      },
      "execution_count": 16,
      "outputs": [
        {
          "output_type": "execute_result",
          "data": {
            "text/plain": [
              "<matplotlib.axes._subplots.AxesSubplot at 0x7f7c85989890>"
            ]
          },
          "metadata": {},
          "execution_count": 16
        },
        {
          "output_type": "display_data",
          "data": {
            "text/plain": [
              "<Figure size 864x576 with 1 Axes>"
            ],
            "image/png": "[encoded data removed]"
          },
          "metadata": {
            "needs_background": "light"
          }
        }
      ]
    },
    {
      "cell_type": "markdown",
      "source": [
        "Conclusion:  non-minority usage is much higher than  minority usage."
      ],
      "metadata": {
        "id": "SgaimHaptvMr"
      }
    },
    {
      "cell_type": "markdown",
      "source": [
        "Examine ride count by age group"
      ],
      "metadata": {
        "id": "CzzlVfqIt38A"
      }
    },
    {
      "cell_type": "code",
      "source": [
        "# Create subset DF (date and count and age_group\n",
        "combined_age=combined_df[['appt_date', 'age_group']]"
      ],
      "metadata": {
        "id": "T8GHEhtzt4a4"
      },
      "execution_count": 17,
      "outputs": []
    },
    {
      "cell_type": "code",
      "source": [
        "age_G_df=combined_age[combined_age['age_group']=='G']\n",
        "age_T_df=combined_age[combined_age['age_group']=='T']\n",
        "age_P_df=combined_age[combined_age['age_group']=='P']\n",
        "age_D_df=combined_age[combined_age['age_group']=='D']\n",
        "\n",
        "# Calculate counts per date\n",
        "age_G=age_G_df.groupby('appt_date',as_index=False).count()\n",
        "age_T=age_T_df.groupby('appt_date',as_index=False).count()\n",
        "age_P=age_P_df.groupby('appt_date',as_index=False).count()\n",
        "age_D=age_D_df.groupby('appt_date',as_index=False).count()\n",
        "\n",
        "age_G.rename(columns={'age_group':'countAgeG'},inplace=True)\n",
        "age_T.rename(columns={'age_group':'countAgeT'},inplace=True)\n",
        "age_P.rename(columns={'age_group':'countAgeP'},inplace=True)\n",
        "age_D.rename(columns={'age_group':'countAgeD'},inplace=True)\n",
        "\n",
        "# Calculate rolline 30 day averages\n",
        "age_G['ageG30']=age_G['countAgeG'].rolling(30).mean()\n",
        "age_T['ageT30']=age_T['countAgeT'].rolling(30).mean()\n",
        "age_P['ageP30']=age_P['countAgeP'].rolling(30).mean()\n",
        "age_D['ageD30']=age_D['countAgeD'].rolling(30).mean()"
      ],
      "metadata": {
        "id": "IvZzbP6Ut4go"
      },
      "execution_count": 18,
      "outputs": []
    },
    {
      "cell_type": "code",
      "source": [
        "plt.figure(figsize=(12,8))\n",
        "plt.title('Rolling 30 day Counts of Rides vs Age Groups')\n",
        "sns.lineplot(x='appt_date',y='ageG30',data=age_G, label=\"Avg. Age G Usage\")\n",
        "sns.lineplot(x='appt_date',y='ageT30',data=age_T, label=\"Avg. Age T Usage\")\n",
        "sns.lineplot(x='appt_date',y='ageP30',data=age_P, label=\"Avg. Age P Usage\")\n",
        "sns.lineplot(x='appt_date',y='ageD30',data=age_D, label=\"Avg. Age D Usage\")"
      ],
      "metadata": {
        "colab": {
          "base_uri": "https://localhost:8080/",
          "height": 533
        },
        "id": "khyvGN3st4p6",
        "outputId": "8a5d5347-39c0-483a-94c8-440c0c035874"
      },
      "execution_count": 19,
      "outputs": [
        {
          "output_type": "execute_result",
          "data": {
            "text/plain": [
              "<matplotlib.axes._subplots.AxesSubplot at 0x7f7c85421410>"
            ]
          },
          "metadata": {},
          "execution_count": 19
        },
        {
          "output_type": "display_data",
          "data": {
            "text/plain": [
              "<Figure size 864x576 with 1 Axes>"
            ],
            "image/png": "[encoded data removed]"
          },
          "metadata": {
            "needs_background": "light"
          }
        }
      ]
    },
    {
      "cell_type": "markdown",
      "source": [
        "Conclusion: ???"
      ],
      "metadata": {
        "id": "0VvcSVvauar9"
      }
    },
    {
      "cell_type": "markdown",
      "source": [
        "## On a per person basis, let us find last ride date, total duration of rides, and count of appointments by category"
      ],
      "metadata": {
        "id": "vUvV6rLQP66-"
      }
    },
    {
      "cell_type": "markdown",
      "source": [
        "Calculate counts of rides by category"
      ],
      "metadata": {
        "id": "1hH34vMHroim"
      }
    },
    {
      "cell_type": "code",
      "source": [
        "# Calculate count of appointments by anon_ID & \"category\"\n",
        "countCat2=volsvc.groupby(['category'],as_index=False)['appt_date'].count().sort_values('appt_date',ascending=False)\n",
        "\n",
        "# Calculate sum of all appointment durations\n",
        "count_sum=countCat2['appt_date'].sum()\n",
        "\n",
        "# add % column\n",
        "countCat2['Percent']=(100 * countCat2['appt_date']/count_sum).map('{:.2f}'.format)\n",
        "\n",
        "# Display total time per category\n",
        "countCat2.head(12)"
      ],
      "metadata": {
        "colab": {
          "base_uri": "https://localhost:8080/",
          "height": 426
        },
        "id": "52uLfL7OqvT_",
        "outputId": "2f9a2445-926e-4302-a907-005e526bf447"
      },
      "execution_count": 29,
      "outputs": [
        {
          "output_type": "execute_result",
          "data": {
            "text/plain": [
              "                  category  appt_date Percent\n",
              "1              Doctor Appt       2102   42.68\n",
              "7                 Shopping       1158   23.51\n",
              "0   Board or Committee Mtg        586   11.90\n",
              "3           Friendly Visit        571   11.59\n",
              "5                   Pantry        273    5.54\n",
              "2                  Errands         79    1.60\n",
              "9         Special Projects         56    1.14\n",
              "4                 Odd Jobs         43    0.87\n",
              "6          Pantry Delivery         30    0.61\n",
              "8             Skilled Work         20    0.41\n",
              "11               Yard Work          4    0.08\n",
              "10   Telephone Reassurance          3    0.06"
            ],
            "text/html": [
              "\n",
              "  <div id=\"df-abd9ac0d-6422-4625-8d6a-06cac8be48cc\">\n",
              "    <div class=\"colab-df-container\">\n",
              "      <div>\n",
              "<style scoped>\n",
              "    .dataframe tbody tr th:only-of-type {\n",
              "        vertical-align: middle;\n",
              "    }\n",
              "\n",
              "    .dataframe tbody tr th {\n",
              "        vertical-align: top;\n",
              "    }\n",
              "\n",
              "    .dataframe thead th {\n",
              "        text-align: right;\n",
              "    }\n",
              "</style>\n",
              "<table border=\"1\" class=\"dataframe\">\n",
              "  <thead>\n",
              "    <tr style=\"text-align: right;\">\n",
              "      <th></th>\n",
              "      <th>category</th>\n",
              "      <th>appt_date</th>\n",
              "      <th>Percent</th>\n",
              "    </tr>\n",
              "  </thead>\n",
              "  <tbody>\n",
              "    <tr>\n",
              "      <th>1</th>\n",
              "      <td>Doctor Appt</td>\n",
              "      <td>2102</td>\n",
              "      <td>42.68</td>\n",
              "    </tr>\n",
              "    <tr>\n",
              "      <th>7</th>\n",
              "      <td>Shopping</td>\n",
              "      <td>1158</td>\n",
              "      <td>23.51</td>\n",
              "    </tr>\n",
              "    <tr>\n",
              "      <th>0</th>\n",
              "      <td>Board or Committee Mtg</td>\n",
              "      <td>586</td>\n",
              "      <td>11.90</td>\n",
              "    </tr>\n",
              "    <tr>\n",
              "      <th>3</th>\n",
              "      <td>Friendly Visit</td>\n",
              "      <td>571</td>\n",
              "      <td>11.59</td>\n",
              "    </tr>\n",
              "    <tr>\n",
              "      <th>5</th>\n",
              "      <td>Pantry</td>\n",
              "      <td>273</td>\n",
              "      <td>5.54</td>\n",
              "    </tr>\n",
              "    <tr>\n",
              "      <th>2</th>\n",
              "      <td>Errands</td>\n",
              "      <td>79</td>\n",
              "      <td>1.60</td>\n",
              "    </tr>\n",
              "    <tr>\n",
              "      <th>9</th>\n",
              "      <td>Special Projects</td>\n",
              "      <td>56</td>\n",
              "      <td>1.14</td>\n",
              "    </tr>\n",
              "    <tr>\n",
              "      <th>4</th>\n",
              "      <td>Odd Jobs</td>\n",
              "      <td>43</td>\n",
              "      <td>0.87</td>\n",
              "    </tr>\n",
              "    <tr>\n",
              "      <th>6</th>\n",
              "      <td>Pantry Delivery</td>\n",
              "      <td>30</td>\n",
              "      <td>0.61</td>\n",
              "    </tr>\n",
              "    <tr>\n",
              "      <th>8</th>\n",
              "      <td>Skilled Work</td>\n",
              "      <td>20</td>\n",
              "      <td>0.41</td>\n",
              "    </tr>\n",
              "    <tr>\n",
              "      <th>11</th>\n",
              "      <td>Yard Work</td>\n",
              "      <td>4</td>\n",
              "      <td>0.08</td>\n",
              "    </tr>\n",
              "    <tr>\n",
              "      <th>10</th>\n",
              "      <td>Telephone Reassurance</td>\n",
              "      <td>3</td>\n",
              "      <td>0.06</td>\n",
              "    </tr>\n",
              "  </tbody>\n",
              "</table>\n",
              "</div>\n",
              "      <button class=\"colab-df-convert\" onclick=\"convertToInteractive('df-abd9ac0d-6422-4625-8d6a-06cac8be48cc')\"\n",
              "              title=\"Convert this dataframe to an interactive table.\"\n",
              "              style=\"display:none;\">\n",
              "        \n",
              "  <svg xmlns=\"http://www.w3.org/2000/svg\" height=\"24px\"viewBox=\"0 0 24 24\"\n",
              "       width=\"24px\">\n",
              "    <path d=\"M0 0h24v24H0V0z\" fill=\"none\"/>\n",
              "    <path d=\"M18.56 5.44l.94 2.06.94-2.06 2.06-.94-2.06-.94-.94-2.06-.94 2.06-2.06.94zm-11 1L8.5 8.5l.94-2.06 2.06-.94-2.06-.94L8.5 2.5l-.94 2.06-2.06.94zm10 10l.94 2.06.94-2.06 2.06-.94-2.06-.94-.94-2.06-.94 2.06-2.06.94z\"/><path d=\"M17.41 7.96l-1.37-1.37c-.4-.4-.92-.59-1.43-.59-.52 0-1.04.2-1.43.59L10.3 9.45l-7.72 7.72c-.78.78-.78 2.05 0 2.83L4 21.41c.39.39.9.59 1.41.59.51 0 1.02-.2 1.41-.59l7.78-7.78 2.81-2.81c.8-.78.8-2.07 0-2.86zM5.41 20L4 18.59l7.72-7.72 1.47 1.35L5.41 20z\"/>\n",
              "  </svg>\n",
              "      </button>\n",
              "      \n",
              "  <style>\n",
              "    .colab-df-container {\n",
              "      display:flex;\n",
              "      flex-wrap:wrap;\n",
              "      gap: 12px;\n",
              "    }\n",
              "\n",
              "    .colab-df-convert {\n",
              "      background-color: #E8F0FE;\n",
              "      border: none;\n",
              "      border-radius: 50%;\n",
              "      cursor: pointer;\n",
              "      display: none;\n",
              "      fill: #1967D2;\n",
              "      height: 32px;\n",
              "      padding: 0 0 0 0;\n",
              "      width: 32px;\n",
              "    }\n",
              "\n",
              "    .colab-df-convert:hover {\n",
              "      background-color: #E2EBFA;\n",
              "      box-shadow: 0px 1px 2px rgba(60, 64, 67, 0.3), 0px 1px 3px 1px rgba(60, 64, 67, 0.15);\n",
              "      fill: #174EA6;\n",
              "    }\n",
              "\n",
              "    [theme=dark] .colab-df-convert {\n",
              "      background-color: #3B4455;\n",
              "      fill: #D2E3FC;\n",
              "    }\n",
              "\n",
              "    [theme=dark] .colab-df-convert:hover {\n",
              "      background-color: #434B5C;\n",
              "      box-shadow: 0px 1px 3px 1px rgba(0, 0, 0, 0.15);\n",
              "      filter: drop-shadow(0px 1px 2px rgba(0, 0, 0, 0.3));\n",
              "      fill: #FFFFFF;\n",
              "    }\n",
              "  </style>\n",
              "\n",
              "      <script>\n",
              "        const buttonEl =\n",
              "          document.querySelector('#df-abd9ac0d-6422-4625-8d6a-06cac8be48cc button.colab-df-convert');\n",
              "        buttonEl.style.display =\n",
              "          google.colab.kernel.accessAllowed ? 'block' : 'none';\n",
              "\n",
              "        async function convertToInteractive(key) {\n",
              "          const element = document.querySelector('#df-abd9ac0d-6422-4625-8d6a-06cac8be48cc');\n",
              "          const dataTable =\n",
              "            await google.colab.kernel.invokeFunction('convertToInteractive',\n",
              "                                                     [key], {});\n",
              "          if (!dataTable) return;\n",
              "\n",
              "          const docLinkHtml = 'Like what you see? Visit the ' +\n",
              "            '<a target=\"_blank\" href=https://colab.research.google.com/notebooks/data_table.ipynb>data table notebook</a>'\n",
              "            + ' to learn more about interactive tables.';\n",
              "          element.innerHTML = '';\n",
              "          dataTable['output_type'] = 'display_data';\n",
              "          await google.colab.output.renderOutput(dataTable, element);\n",
              "          const docLink = document.createElement('div');\n",
              "          docLink.innerHTML = docLinkHtml;\n",
              "          element.appendChild(docLink);\n",
              "        }\n",
              "      </script>\n",
              "    </div>\n",
              "  </div>\n",
              "  "
            ]
          },
          "metadata": {},
          "execution_count": 29
        }
      ]
    },
    {
      "cell_type": "code",
      "source": [
        "plt.figure(figsize=(12,4))\n",
        "plt.title('Count of Appointments vs Ride Categories')\n",
        "chart=sns.barplot(x='category',y='appt_date',data=countCat2)\n",
        "chart.set_xticklabels(chart.get_xticklabels(), rotation=45)"
      ],
      "metadata": {
        "colab": {
          "base_uri": "https://localhost:8080/",
          "height": 607
        },
        "id": "VAZPlQWJr4Ot",
        "outputId": "873eb190-e1ff-4332-d616-6d93be0a1820"
      },
      "execution_count": 31,
      "outputs": [
        {
          "output_type": "execute_result",
          "data": {
            "text/plain": [
              "[Text(0, 0, 'Doctor Appt'),\n",
              " Text(0, 0, 'Shopping'),\n",
              " Text(0, 0, 'Board or Committee Mtg'),\n",
              " Text(0, 0, 'Friendly Visit'),\n",
              " Text(0, 0, 'Pantry'),\n",
              " Text(0, 0, 'Errands'),\n",
              " Text(0, 0, 'Special Projects'),\n",
              " Text(0, 0, 'Odd Jobs'),\n",
              " Text(0, 0, 'Pantry Delivery'),\n",
              " Text(0, 0, 'Skilled Work'),\n",
              " Text(0, 0, 'Yard Work'),\n",
              " Text(0, 0, 'Telephone Reassurance')]"
            ]
          },
          "metadata": {},
          "execution_count": 31
        },
        {
          "output_type": "display_data",
          "data": {
            "text/plain": [
              "<Figure size 864x288 with 1 Axes>"
            ],
            "image/png": "[encoded data removed]"
          },
          "metadata": {
            "needs_background": "light"
          }
        }
      ]
    },
    {
      "cell_type": "markdown",
      "source": [
        "Conclusion:  Doctor's Appointments were the largest use at 43% of rides, followed by Shopping at 24% of rides.  When combined with Friendly Visit these three account for over 80% of rides.\n",
        "<p>Should we drop \"Board or Committee Mtg\"?"
      ],
      "metadata": {
        "id": "69S0D3ftuRH0"
      }
    },
    {
      "cell_type": "markdown",
      "source": [
        "Calculate duration of appointment times/rides"
      ],
      "metadata": {
        "id": "cg6WyMXwrzHJ"
      }
    },
    {
      "cell_type": "code",
      "source": [
        "# Confirm they are not all the same first date\n",
        "volsvc['rider_first_ride_date'].nunique()"
      ],
      "metadata": {
        "colab": {
          "base_uri": "https://localhost:8080/"
        },
        "id": "ZmLhOUrrCIr6",
        "outputId": "cd1f74c5-175a-473b-b64c-87273167f5e4"
      },
      "execution_count": 23,
      "outputs": [
        {
          "output_type": "execute_result",
          "data": {
            "text/plain": [
              "147"
            ]
          },
          "metadata": {},
          "execution_count": 23
        }
      ]
    },
    {
      "cell_type": "code",
      "source": [
        "# Find First & Last Appt Date\n",
        "# First Ride Date seems suspicious, what if we use first appt_date instead?\n",
        "# convert assistance_date \"object\" to \"date\" format\n",
        "#volsvc['rider_first_ride_date']=pd.to_datetime(volsvc['rider_first_ride_date']).dt.date\n",
        "volsvc['appt_date']=pd.to_datetime(volsvc['appt_date']).dt.date\n",
        "\n",
        "# Append a column 'first_assist'\n",
        "first_assist=volsvc.groupby(['anon_ID'])['appt_date'].min()\n",
        "first_date_df=pd.DataFrame(first_assist)\n",
        "first_date_df.rename(columns={'appt_date':'firstApptDate'},inplace=True)\n",
        "volsvc=pd.merge(volsvc,first_date_df, on=['anon_ID'])\n",
        "\n",
        "# Append a column 'last_assist'\n",
        "last_assist=volsvc.groupby(['anon_ID'])['appt_date'].max()\n",
        "last_date_df=pd.DataFrame(last_assist)\n",
        "last_date_df.rename(columns={'appt_date':'lastApptDate'},inplace=True)\n",
        "volsvc=pd.merge(volsvc,last_date_df, on=['anon_ID'])\n",
        "\n",
        "# durationOfAssist = lastAssist - firstAssist\n",
        "#volsvc['volDuration'] =volsvc['lastApptDate'] - volsvc['rider_first_ride_date']\n",
        "volsvc['volDuration'] =volsvc['lastApptDate'] - volsvc['firstApptDate']"
      ],
      "metadata": {
        "id": "z2YNJdXiP6YU"
      },
      "execution_count": 32,
      "outputs": []
    },
    {
      "cell_type": "code",
      "source": [
        "# Drop the columns with first date, last date, appt_date\n",
        "volsvc=volsvc.drop('rider_first_ride_date',axis=1)\n",
        "volsvc=volsvc.drop('rider_last_ride_date',axis=1)\n",
        "volsvc=volsvc.drop('appt_date',axis=1)"
      ],
      "metadata": {
        "id": "JLcegDuChen6"
      },
      "execution_count": 33,
      "outputs": []
    },
    {
      "cell_type": "markdown",
      "source": [
        "Should I break sums into one column per category, like with CareMgt\n",
        "or try to leverage \"groupby\" function?"
      ],
      "metadata": {
        "id": "QhjRymI2124l"
      }
    },
    {
      "cell_type": "code",
      "source": [
        "# Calculate sum of appointment time by anon_ID &\" category\"\n",
        "sumByCat2=volsvc.groupby(['category'],as_index=False)['appt_duration'].sum().sort_values('appt_duration',ascending=False)\n",
        "\n",
        "# Calculate sum of all appointment durations\n",
        "duration_sum=sumByCat2['appt_duration'].sum()\n",
        "\n",
        "# add % column\n",
        "sumByCat2['Percent']=(100 * sumByCat2['appt_duration']/duration_sum).map('{:.2f}'.format)\n",
        "\n",
        "# Display total time per category\n",
        "sumByCat2.head(12)"
      ],
      "metadata": {
        "colab": {
          "base_uri": "https://localhost:8080/",
          "height": 426
        },
        "id": "d0Tf00mj09-e",
        "outputId": "879fd165-2be2-4bff-9897-42d8e68bb778"
      },
      "execution_count": 34,
      "outputs": [
        {
          "output_type": "execute_result",
          "data": {
            "text/plain": [
              "                  category  appt_duration Percent\n",
              "1              Doctor Appt        4366.75   28.01\n",
              "7                 Shopping        3376.75   21.66\n",
              "5                   Pantry        2478.50   15.90\n",
              "3           Friendly Visit        2086.25   13.38\n",
              "0   Board or Committee Mtg        1353.00    8.68\n",
              "9         Special Projects         793.50    5.09\n",
              "8             Skilled Work         568.50    3.65\n",
              "4                 Odd Jobs         200.50    1.29\n",
              "6          Pantry Delivery         156.50    1.00\n",
              "2                  Errands         147.25    0.94\n",
              "11               Yard Work          59.50    0.38\n",
              "10   Telephone Reassurance           2.00    0.01"
            ],
            "text/html": [
              "\n",
              "  <div id=\"df-054dda79-bea0-4e82-ab80-6ff9a91d1dd1\">\n",
              "    <div class=\"colab-df-container\">\n",
              "      <div>\n",
              "<style scoped>\n",
              "    .dataframe tbody tr th:only-of-type {\n",
              "        vertical-align: middle;\n",
              "    }\n",
              "\n",
              "    .dataframe tbody tr th {\n",
              "        vertical-align: top;\n",
              "    }\n",
              "\n",
              "    .dataframe thead th {\n",
              "        text-align: right;\n",
              "    }\n",
              "</style>\n",
              "<table border=\"1\" class=\"dataframe\">\n",
              "  <thead>\n",
              "    <tr style=\"text-align: right;\">\n",
              "      <th></th>\n",
              "      <th>category</th>\n",
              "      <th>appt_duration</th>\n",
              "      <th>Percent</th>\n",
              "    </tr>\n",
              "  </thead>\n",
              "  <tbody>\n",
              "    <tr>\n",
              "      <th>1</th>\n",
              "      <td>Doctor Appt</td>\n",
              "      <td>4366.75</td>\n",
              "      <td>28.01</td>\n",
              "    </tr>\n",
              "    <tr>\n",
              "      <th>7</th>\n",
              "      <td>Shopping</td>\n",
              "      <td>3376.75</td>\n",
              "      <td>21.66</td>\n",
              "    </tr>\n",
              "    <tr>\n",
              "      <th>5</th>\n",
              "      <td>Pantry</td>\n",
              "      <td>2478.50</td>\n",
              "      <td>15.90</td>\n",
              "    </tr>\n",
              "    <tr>\n",
              "      <th>3</th>\n",
              "      <td>Friendly Visit</td>\n",
              "      <td>2086.25</td>\n",
              "      <td>13.38</td>\n",
              "    </tr>\n",
              "    <tr>\n",
              "      <th>0</th>\n",
              "      <td>Board or Committee Mtg</td>\n",
              "      <td>1353.00</td>\n",
              "      <td>8.68</td>\n",
              "    </tr>\n",
              "    <tr>\n",
              "      <th>9</th>\n",
              "      <td>Special Projects</td>\n",
              "      <td>793.50</td>\n",
              "      <td>5.09</td>\n",
              "    </tr>\n",
              "    <tr>\n",
              "      <th>8</th>\n",
              "      <td>Skilled Work</td>\n",
              "      <td>568.50</td>\n",
              "      <td>3.65</td>\n",
              "    </tr>\n",
              "    <tr>\n",
              "      <th>4</th>\n",
              "      <td>Odd Jobs</td>\n",
              "      <td>200.50</td>\n",
              "      <td>1.29</td>\n",
              "    </tr>\n",
              "    <tr>\n",
              "      <th>6</th>\n",
              "      <td>Pantry Delivery</td>\n",
              "      <td>156.50</td>\n",
              "      <td>1.00</td>\n",
              "    </tr>\n",
              "    <tr>\n",
              "      <th>2</th>\n",
              "      <td>Errands</td>\n",
              "      <td>147.25</td>\n",
              "      <td>0.94</td>\n",
              "    </tr>\n",
              "    <tr>\n",
              "      <th>11</th>\n",
              "      <td>Yard Work</td>\n",
              "      <td>59.50</td>\n",
              "      <td>0.38</td>\n",
              "    </tr>\n",
              "    <tr>\n",
              "      <th>10</th>\n",
              "      <td>Telephone Reassurance</td>\n",
              "      <td>2.00</td>\n",
              "      <td>0.01</td>\n",
              "    </tr>\n",
              "  </tbody>\n",
              "</table>\n",
              "</div>\n",
              "      <button class=\"colab-df-convert\" onclick=\"convertToInteractive('df-054dda79-bea0-4e82-ab80-6ff9a91d1dd1')\"\n",
              "              title=\"Convert this dataframe to an interactive table.\"\n",
              "              style=\"display:none;\">\n",
              "        \n",
              "  <svg xmlns=\"http://www.w3.org/2000/svg\" height=\"24px\"viewBox=\"0 0 24 24\"\n",
              "       width=\"24px\">\n",
              "    <path d=\"M0 0h24v24H0V0z\" fill=\"none\"/>\n",
              "    <path d=\"M18.56 5.44l.94 2.06.94-2.06 2.06-.94-2.06-.94-.94-2.06-.94 2.06-2.06.94zm-11 1L8.5 8.5l.94-2.06 2.06-.94-2.06-.94L8.5 2.5l-.94 2.06-2.06.94zm10 10l.94 2.06.94-2.06 2.06-.94-2.06-.94-.94-2.06-.94 2.06-2.06.94z\"/><path d=\"M17.41 7.96l-1.37-1.37c-.4-.4-.92-.59-1.43-.59-.52 0-1.04.2-1.43.59L10.3 9.45l-7.72 7.72c-.78.78-.78 2.05 0 2.83L4 21.41c.39.39.9.59 1.41.59.51 0 1.02-.2 1.41-.59l7.78-7.78 2.81-2.81c.8-.78.8-2.07 0-2.86zM5.41 20L4 18.59l7.72-7.72 1.47 1.35L5.41 20z\"/>\n",
              "  </svg>\n",
              "      </button>\n",
              "      \n",
              "  <style>\n",
              "    .colab-df-container {\n",
              "      display:flex;\n",
              "      flex-wrap:wrap;\n",
              "      gap: 12px;\n",
              "    }\n",
              "\n",
              "    .colab-df-convert {\n",
              "      background-color: #E8F0FE;\n",
              "      border: none;\n",
              "      border-radius: 50%;\n",
              "      cursor: pointer;\n",
              "      display: none;\n",
              "      fill: #1967D2;\n",
              "      height: 32px;\n",
              "      padding: 0 0 0 0;\n",
              "      width: 32px;\n",
              "    }\n",
              "\n",
              "    .colab-df-convert:hover {\n",
              "      background-color: #E2EBFA;\n",
              "      box-shadow: 0px 1px 2px rgba(60, 64, 67, 0.3), 0px 1px 3px 1px rgba(60, 64, 67, 0.15);\n",
              "      fill: #174EA6;\n",
              "    }\n",
              "\n",
              "    [theme=dark] .colab-df-convert {\n",
              "      background-color: #3B4455;\n",
              "      fill: #D2E3FC;\n",
              "    }\n",
              "\n",
              "    [theme=dark] .colab-df-convert:hover {\n",
              "      background-color: #434B5C;\n",
              "      box-shadow: 0px 1px 3px 1px rgba(0, 0, 0, 0.15);\n",
              "      filter: drop-shadow(0px 1px 2px rgba(0, 0, 0, 0.3));\n",
              "      fill: #FFFFFF;\n",
              "    }\n",
              "  </style>\n",
              "\n",
              "      <script>\n",
              "        const buttonEl =\n",
              "          document.querySelector('#df-054dda79-bea0-4e82-ab80-6ff9a91d1dd1 button.colab-df-convert');\n",
              "        buttonEl.style.display =\n",
              "          google.colab.kernel.accessAllowed ? 'block' : 'none';\n",
              "\n",
              "        async function convertToInteractive(key) {\n",
              "          const element = document.querySelector('#df-054dda79-bea0-4e82-ab80-6ff9a91d1dd1');\n",
              "          const dataTable =\n",
              "            await google.colab.kernel.invokeFunction('convertToInteractive',\n",
              "                                                     [key], {});\n",
              "          if (!dataTable) return;\n",
              "\n",
              "          const docLinkHtml = 'Like what you see? Visit the ' +\n",
              "            '<a target=\"_blank\" href=https://colab.research.google.com/notebooks/data_table.ipynb>data table notebook</a>'\n",
              "            + ' to learn more about interactive tables.';\n",
              "          element.innerHTML = '';\n",
              "          dataTable['output_type'] = 'display_data';\n",
              "          await google.colab.output.renderOutput(dataTable, element);\n",
              "          const docLink = document.createElement('div');\n",
              "          docLink.innerHTML = docLinkHtml;\n",
              "          element.appendChild(docLink);\n",
              "        }\n",
              "      </script>\n",
              "    </div>\n",
              "  </div>\n",
              "  "
            ]
          },
          "metadata": {},
          "execution_count": 34
        }
      ]
    },
    {
      "cell_type": "code",
      "source": [
        "plt.figure(figsize=(12,4))\n",
        "plt.title('Sum of Appointment Duration vs Ride Categories')\n",
        "chart=sns.barplot(x='category',y='appt_duration',data=sumByCat2)\n",
        "chart.set_xticklabels(chart.get_xticklabels(), rotation=45)"
      ],
      "metadata": {
        "colab": {
          "base_uri": "https://localhost:8080/",
          "height": 607
        },
        "id": "YqvmZXRk0Oyh",
        "outputId": "bdc65421-28cc-49ea-ee9c-4b1473cd841f"
      },
      "execution_count": 35,
      "outputs": [
        {
          "output_type": "execute_result",
          "data": {
            "text/plain": [
              "[Text(0, 0, 'Doctor Appt'),\n",
              " Text(0, 0, 'Shopping'),\n",
              " Text(0, 0, 'Pantry'),\n",
              " Text(0, 0, 'Friendly Visit'),\n",
              " Text(0, 0, 'Board or Committee Mtg'),\n",
              " Text(0, 0, 'Special Projects'),\n",
              " Text(0, 0, 'Skilled Work'),\n",
              " Text(0, 0, 'Odd Jobs'),\n",
              " Text(0, 0, 'Pantry Delivery'),\n",
              " Text(0, 0, 'Errands'),\n",
              " Text(0, 0, 'Yard Work'),\n",
              " Text(0, 0, 'Telephone Reassurance')]"
            ]
          },
          "metadata": {},
          "execution_count": 35
        },
        {
          "output_type": "display_data",
          "data": {
            "text/plain": [
              "<Figure size 864x288 with 1 Axes>"
            ],
            "image/png": "[encoded data removed]"
          },
          "metadata": {
            "needs_background": "light"
          }
        }
      ]
    },
    {
      "cell_type": "markdown",
      "source": [
        "Conclusion:  By far most time spent on Doctor's Appointments, Shopping, Pantry and Friendly Visits\n",
        "<p> Should \"Board or Committee Mtg\" be dropped from this?"
      ],
      "metadata": {
        "id": "zlfWPJuFsI_s"
      }
    },
    {
      "cell_type": "code",
      "source": [
        "# How many categories?\n",
        "volsvc['category'].unique()"
      ],
      "metadata": {
        "colab": {
          "base_uri": "https://localhost:8080/"
        },
        "id": "DP1qoeGDXU-u",
        "outputId": "2ec36cf2-5291-44e6-a25b-78863da40ee4"
      },
      "execution_count": 36,
      "outputs": [
        {
          "output_type": "execute_result",
          "data": {
            "text/plain": [
              "array(['Doctor Appt', 'Friendly Visit', 'Shopping', 'Errands', 'Odd Jobs',\n",
              "       'Yard Work', 'Skilled Work', 'Special Projects',\n",
              "       'Board or Committee Mtg', 'Pantry Delivery',\n",
              "       'Telephone Reassurance', 'Pantry'], dtype=object)"
            ]
          },
          "metadata": {},
          "execution_count": 36
        }
      ]
    },
    {
      "cell_type": "code",
      "source": [
        "# Need to separate into columns per category\n",
        "# While not strictly needed for adding, will make it simpler to explain.\n",
        "doctor_L=[]\n",
        "errands_L=[]\n",
        "shopping_L=[]\n",
        "friendly_L=[]\n",
        "skilled_L=[]\n",
        "telephone_L=[]\n",
        "oddJobs_L=[]\n",
        "yardWork_L=[]\n",
        "pantryDelivery_L=[]\n",
        "special_L=[]\n",
        "pantry_L=[]\n",
        "mtg_L=[]\n",
        "\n",
        "for ind in volsvc.index:\n",
        "  if (volsvc['category'][ind] == 'Doctor Appt'):\n",
        "    doctor_L.append(volsvc['appt_duration'][ind])\n",
        "    errands_L.append('0')\n",
        "    shopping_L.append('0')\n",
        "    friendly_L.append('0')\n",
        "    skilled_L.append('0')\n",
        "    telephone_L.append('0')\n",
        "    oddJobs_L.append('0')\n",
        "    yardWork_L.append('0')\n",
        "    pantryDelivery_L.append('0')\n",
        "    special_L.append('0')\n",
        "    pantry_L.append('0')\n",
        "    mtg_L.append('0')\n",
        "  elif (volsvc['category'][ind] == 'Errands'):\n",
        "    doctor_L.append('0')\n",
        "    errands_L.append(volsvc['appt_duration'][ind])\n",
        "    shopping_L.append('0')\n",
        "    friendly_L.append('0')\n",
        "    skilled_L.append('0')\n",
        "    telephone_L.append('0')\n",
        "    oddJobs_L.append('0')\n",
        "    yardWork_L.append('0')\n",
        "    pantryDelivery_L.append('0')\n",
        "    special_L.append('0')\n",
        "    pantry_L.append('0')\n",
        "    mtg_L.append('0')\n",
        "  elif (volsvc['category'][ind] == 'Shopping'):\n",
        "    doctor_L.append('0')\n",
        "    errands_L.append('0')\n",
        "    shopping_L.append(volsvc['appt_duration'][ind])\n",
        "    friendly_L.append('0')\n",
        "    skilled_L.append('0')\n",
        "    telephone_L.append('0')\n",
        "    oddJobs_L.append('0')\n",
        "    yardWork_L.append('0')\n",
        "    pantryDelivery_L.append('0')\n",
        "    special_L.append('0')\n",
        "    pantry_L.append('0')\n",
        "    mtg_L.append('0')\n",
        "  elif (volsvc['category'][ind] == 'Friendly Visit'):\n",
        "    doctor_L.append('0')\n",
        "    errands_L.append('0')\n",
        "    shopping_L.append('0')\n",
        "    friendly_L.append(volsvc['appt_duration'][ind])\n",
        "    skilled_L.append('0')\n",
        "    telephone_L.append('0')\n",
        "    oddJobs_L.append('0')\n",
        "    yardWork_L.append('0')\n",
        "    pantryDelivery_L.append('0')\n",
        "    special_L.append('0')\n",
        "    pantry_L.append('0')\n",
        "    mtg_L.append('0')\n",
        "  elif (volsvc['category'][ind] == 'Skilled Work'):\n",
        "    doctor_L.append('0')\n",
        "    errands_L.append('0')\n",
        "    shopping_L.append('0')\n",
        "    friendly_L.append('0')\n",
        "    skilled_L.append(volsvc['appt_duration'][ind])\n",
        "    telephone_L.append('0')\n",
        "    oddJobs_L.append('0')\n",
        "    yardWork_L.append('0')\n",
        "    pantryDelivery_L.append('0')\n",
        "    special_L.append('0')\n",
        "    pantry_L.append('0')\n",
        "    mtg_L.append('0')\n",
        "  elif (volsvc['category'][ind] == 'Telephone Reassurance'):\n",
        "    doctor_L.append('0')\n",
        "    errands_L.append('0')\n",
        "    shopping_L.append('0')\n",
        "    friendly_L.append('0')\n",
        "    skilled_L.append('0')\n",
        "    telephone_L.append(volsvc['appt_duration'][ind])\n",
        "    oddJobs_L.append('0')\n",
        "    yardWork_L.append('0')\n",
        "    pantryDelivery_L.append('0')\n",
        "    special_L.append('0')\n",
        "    pantry_L.append('0')\n",
        "    mtg_L.append('0')\n",
        "  elif (volsvc['category'][ind] == 'Odd Jobs'):\n",
        "    doctor_L.append('0')\n",
        "    errands_L.append('0')\n",
        "    shopping_L.append('0')\n",
        "    friendly_L.append('0')\n",
        "    skilled_L.append('0')\n",
        "    telephone_L.append('0')\n",
        "    oddJobs_L.append(volsvc['appt_duration'][ind])\n",
        "    yardWork_L.append('0')\n",
        "    pantryDelivery_L.append('0')\n",
        "    special_L.append('0')\n",
        "    pantry_L.append('0')\n",
        "    mtg_L.append('0')\n",
        "  elif (volsvc['category'][ind] == 'Yard Work'):\n",
        "    doctor_L.append('0')\n",
        "    errands_L.append('0')\n",
        "    shopping_L.append('0')\n",
        "    friendly_L.append('0')\n",
        "    skilled_L.append('0')\n",
        "    telephone_L.append('0')\n",
        "    oddJobs_L.append('0')\n",
        "    yardWork_L.append(volsvc['appt_duration'][ind])\n",
        "    pantryDelivery_L.append('0')\n",
        "    special_L.append('0')\n",
        "    pantry_L.append('0')\n",
        "    mtg_L.append('0')\n",
        "  elif (volsvc['category'][ind] == 'Pantry Delivery'):\n",
        "    doctor_L.append('0')\n",
        "    errands_L.append('0')\n",
        "    shopping_L.append('0')\n",
        "    friendly_L.append('0')\n",
        "    skilled_L.append('0')\n",
        "    telephone_L.append('0')\n",
        "    oddJobs_L.append('0')\n",
        "    yardWork_L.append('0')\n",
        "    pantryDelivery_L.append(volsvc['appt_duration'][ind])\n",
        "    special_L.append('0')\n",
        "    pantry_L.append('0')\n",
        "    mtg_L.append('0')\n",
        "  elif (volsvc['category'][ind] == 'Special Projects'):\n",
        "    doctor_L.append('0')\n",
        "    errands_L.append('0')\n",
        "    shopping_L.append('0')\n",
        "    friendly_L.append('0')\n",
        "    skilled_L.append('0')\n",
        "    telephone_L.append('0')\n",
        "    oddJobs_L.append('0')\n",
        "    yardWork_L.append('0')\n",
        "    pantryDelivery_L.append('0')\n",
        "    special_L.append(volsvc['appt_duration'][ind])\n",
        "    pantry_L.append('0')\n",
        "    mtg_L.append('0')\n",
        "  elif (volsvc['category'][ind] == 'Pantry'):\n",
        "    doctor_L.append('0')\n",
        "    errands_L.append('0')\n",
        "    shopping_L.append('0')\n",
        "    friendly_L.append('0')\n",
        "    skilled_L.append('0')\n",
        "    telephone_L.append('0')\n",
        "    oddJobs_L.append('0')\n",
        "    yardWork_L.append('0')\n",
        "    pantryDelivery_L.append('0')\n",
        "    special_L.append('0')\n",
        "    pantry_L.append(volsvc['appt_duration'][ind])\n",
        "    mtg_L.append('0')\n",
        "  elif (volsvc['category'][ind] == 'Board or Committee Mtg'):\n",
        "    doctor_L.append('0')\n",
        "    errands_L.append('0')\n",
        "    shopping_L.append('0')\n",
        "    friendly_L.append('0')\n",
        "    skilled_L.append('0')\n",
        "    telephone_L.append('0')\n",
        "    oddJobs_L.append('0')\n",
        "    yardWork_L.append('0')\n",
        "    pantryDelivery_L.append('0')\n",
        "    special_L.append('0')\n",
        "    pantry_L.append('0')\n",
        "    mtg_L.append(volsvc['appt_duration'][ind])\n",
        "  else:\n",
        "    doctor_L.append('0')\n",
        "    errands_L.append('0')\n",
        "    shopping_L.append('0')\n",
        "    friendly_L.append('0')\n",
        "    skilled_L.append('0')\n",
        "    telephone_L.append('0')\n",
        "    oddJobs_L.append('0')\n",
        "    yardWork_L.append('0')\n",
        "    pantryDelivery_L.append('0')\n",
        "    special_L.append('0')\n",
        "    pantry_L.append('0')\n",
        "    mtg_L.append('0')"
      ],
      "metadata": {
        "id": "qIkTQ55bXhoE"
      },
      "execution_count": 37,
      "outputs": []
    },
    {
      "cell_type": "code",
      "source": [
        "# Append new category/unit columns\n",
        "volsvc['doctorMinutes']=pd.DataFrame(doctor_L).astype(float)\n",
        "volsvc['errandMinutes']=pd.DataFrame(errands_L).astype(float)\n",
        "volsvc['shoppingMinutes']=pd.DataFrame(shopping_L).astype(float)\n",
        "volsvc['friendlyMinutes']=pd.DataFrame(friendly_L).astype(float)\n",
        "volsvc['skilledMinutes']=pd.DataFrame(skilled_L).astype(float)\n",
        "volsvc['telephoneMinutes']=pd.DataFrame(telephone_L).astype(float)\n",
        "volsvc['oddJobMinutes']=pd.DataFrame(oddJobs_L).astype(float)\n",
        "volsvc['yardworkMinutes']=pd.DataFrame(yardWork_L).astype(float)\n",
        "volsvc['pantryDeliveryMinutes']=pd.DataFrame(pantryDelivery_L).astype(float)\n",
        "volsvc['specialMinutes']=pd.DataFrame(special_L).astype(float)\n",
        "volsvc['pantryMinutes']=pd.DataFrame(pantry_L).astype(float)\n",
        "volsvc['mtgMinutes']=pd.DataFrame(mtg_L).astype(float)"
      ],
      "metadata": {
        "id": "f1IVlwZ1hCVu"
      },
      "execution_count": 39,
      "outputs": []
    },
    {
      "cell_type": "code",
      "source": [
        "# Append countOfAssists (total count, not subdivided by type)\n",
        "# How to do this via one subroutine?\n",
        "countOfAssists=volsvc.groupby(['anon_ID'])['doctorMinutes'].count()\n",
        "countOfAssists_df=pd.DataFrame(countOfAssists)\n",
        "countOfAssists_df.rename(columns={'doctorMinutes':'countOfDoctor'},inplace=True)\n",
        "volsvc=pd.merge(volsvc,countOfAssists_df, on=['anon_ID'])\n",
        "\n",
        "countOfAssists=volsvc.groupby(['anon_ID'])['errandMinutes'].count()\n",
        "countOfAssists_df=pd.DataFrame(countOfAssists)\n",
        "countOfAssists_df.rename(columns={'errandMinutes':'countOfErrand'},inplace=True)\n",
        "volsvc=pd.merge(volsvc,countOfAssists_df, on=['anon_ID'])\n",
        "\n",
        "countOfAssists=volsvc.groupby(['anon_ID'])['shoppingMinutes'].count()\n",
        "countOfAssists_df=pd.DataFrame(countOfAssists)\n",
        "countOfAssists_df.rename(columns={'shoppingMinutes':'countOfShopping'},inplace=True)\n",
        "volsvc=pd.merge(volsvc,countOfAssists_df, on=['anon_ID'])\n",
        "\n",
        "countOfAssists=volsvc.groupby(['anon_ID'])['friendlyMinutes'].count()\n",
        "countOfAssists_df=pd.DataFrame(countOfAssists)\n",
        "countOfAssists_df.rename(columns={'friendlyMinutes':'countOfFriendly'},inplace=True)\n",
        "volsvc=pd.merge(volsvc,countOfAssists_df, on=['anon_ID'])\n",
        "\n",
        "countOfAssists=volsvc.groupby(['anon_ID'])['skilledMinutes'].count()\n",
        "countOfAssists_df=pd.DataFrame(countOfAssists)\n",
        "countOfAssists_df.rename(columns={'skilledMinutes':'countOfSkilled'},inplace=True)\n",
        "volsvc=pd.merge(volsvc,countOfAssists_df, on=['anon_ID'])\n",
        "\n",
        "countOfAssists=volsvc.groupby(['anon_ID'])['telephoneMinutes'].count()\n",
        "countOfAssists_df=pd.DataFrame(countOfAssists)\n",
        "countOfAssists_df.rename(columns={'telephoneMinutes':'countOfTelephone'},inplace=True)\n",
        "volsvc=pd.merge(volsvc,countOfAssists_df, on=['anon_ID'])\n",
        "\n",
        "countOfAssists=volsvc.groupby(['anon_ID'])['oddJobMinutes'].count()\n",
        "countOfAssists_df=pd.DataFrame(countOfAssists)\n",
        "countOfAssists_df.rename(columns={'oddJobMinutes':'countOfOddJob'},inplace=True)\n",
        "volsvc=pd.merge(volsvc,countOfAssists_df, on=['anon_ID'])\n",
        "\n",
        "countOfAssists=volsvc.groupby(['anon_ID'])['yardworkMinutes'].count()\n",
        "countOfAssists_df=pd.DataFrame(countOfAssists)\n",
        "countOfAssists_df.rename(columns={'yardworkMinutes':'countOfYardwork'},inplace=True)\n",
        "volsvc=pd.merge(volsvc,countOfAssists_df, on=['anon_ID'])\n",
        "\n",
        "countOfAssists=volsvc.groupby(['anon_ID'])['pantryDeliveryMinutes'].count()\n",
        "countOfAssists_df=pd.DataFrame(countOfAssists)\n",
        "countOfAssists_df.rename(columns={'pantryDeliveryMinutes':'countOfPantryDlvy'},inplace=True)\n",
        "volsvc=pd.merge(volsvc,countOfAssists_df, on=['anon_ID'])\n",
        "\n",
        "countOfAssists=volsvc.groupby(['anon_ID'])['specialMinutes'].count()\n",
        "countOfAssists_df=pd.DataFrame(countOfAssists)\n",
        "countOfAssists_df.rename(columns={'specialMinutes':'countOfSpecial'},inplace=True)\n",
        "volsvc=pd.merge(volsvc,countOfAssists_df, on=['anon_ID'])\n",
        "\n",
        "countOfAssists=volsvc.groupby(['anon_ID'])['pantryMinutes'].count()\n",
        "countOfAssists_df=pd.DataFrame(countOfAssists)\n",
        "countOfAssists_df.rename(columns={'pantryMinutes':'countOfPantry'},inplace=True)\n",
        "volsvc=pd.merge(volsvc,countOfAssists_df, on=['anon_ID'])\n",
        "\n",
        "countOfAssists=volsvc.groupby(['anon_ID'])['mtgMinutes'].count()\n",
        "countOfAssists_df=pd.DataFrame(countOfAssists)\n",
        "countOfAssists_df.rename(columns={'mtgMinutes':'countOfMtg'},inplace=True)\n",
        "volsvc=pd.merge(volsvc,countOfAssists_df, on=['anon_ID'])\n"
      ],
      "metadata": {
        "id": "_nqrwWyOjH4z"
      },
      "execution_count": 41,
      "outputs": []
    },
    {
      "cell_type": "code",
      "source": [
        "# Drop category\n",
        "volsvc=volsvc.drop('category',axis=1)"
      ],
      "metadata": {
        "id": "s2sevTrPJPio"
      },
      "execution_count": 42,
      "outputs": []
    },
    {
      "cell_type": "code",
      "source": [
        "# Calculate sum by each new column (doctorMinutes, errandMinutes,  etc.)\n",
        "# pantry pounds\n",
        "#  Create a list of sums by ID\n",
        "#  Create temporary dataframe with that list\n",
        "#  Rename the new column to reflect it is a sum\n",
        "#  Merge that dataframe with the main one\n",
        "\n",
        "#ERROR:  This does not work, it creates every column each loop.\n",
        "\n",
        "myList=('doctorMinutes','errandMinutes','shoppingMinutes','friendlyMinutes','skilledMinutes','telephoneMinutes','oddJobMinutes','yardworkMinutes','pantryDeliveryMinutes','specialMinutes','pantryMinutes','mtgMinutes')\n",
        "#myList=('doctorMinutes','errandMinutes')\n",
        "for item in myList:\n",
        "  print(item)\n",
        "  #mySums=volsvc.groupby([['anon_ID',df['category']==cat])[\"{0}\".format(cat)].sum()\n",
        "  #mySums=volsvc.groupby(['anon_ID'])['@item'].sum()\n",
        "  mySums=volsvc.groupby(['anon_ID'])[item].sum()\n",
        "  newLabel= 'SUM' + item\n",
        "  mySums_df=pd.DataFrame(mySums)\n",
        "  mySums_df.rename(columns={item:newLabel},inplace=True)\n",
        "  volsvc=pd.merge(volsvc,mySums_df, on=['anon_ID'])"
      ],
      "metadata": {
        "colab": {
          "base_uri": "https://localhost:8080/"
        },
        "id": "y4DSANMKYiuZ",
        "outputId": "a8794c6b-f486-4447-9cfb-59169a691e47"
      },
      "execution_count": 43,
      "outputs": [
        {
          "output_type": "stream",
          "name": "stdout",
          "text": [
            "doctorMinutes\n",
            "errandMinutes\n",
            "shoppingMinutes\n",
            "friendlyMinutes\n",
            "skilledMinutes\n",
            "telephoneMinutes\n",
            "oddJobMinutes\n",
            "yardworkMinutes\n",
            "pantryDeliveryMinutes\n",
            "specialMinutes\n",
            "pantryMinutes\n",
            "mtgMinutes\n"
          ]
        }
      ]
    },
    {
      "cell_type": "code",
      "source": [
        "# Calculate sum by each new column (doctorMinutes, errandMinutes,  etc.)\n",
        "# pantry pounds\n",
        "#  Create a list of sums by ID\n",
        "#  Create temporary dataframe with that list\n",
        "#  Rename the new column to reflect it is a sum\n",
        "#  Merge that dataframe with the main one\n",
        "#  There should be a better way to write subroutine and loop through list of categories\n",
        "#mySums=volsvc.groupby(['anon_ID'])['doctorMinutes'].sum()\n",
        "#mySums_df=pd.DataFrame(mySums)\n",
        "#mySums_df.rename(columns={'doctorMinutes':'sumDoctorMinutes'},inplace=True)\n",
        "#volsvc=pd.merge(volsvc,mySums_df, on=['anon_ID'])"
      ],
      "metadata": {
        "id": "VSB62armWPF1"
      },
      "execution_count": 75,
      "outputs": []
    },
    {
      "cell_type": "code",
      "source": [
        "# Drop duplicate rows\n",
        "volsvc.drop_duplicates(subset='anon_ID',inplace=True)"
      ],
      "metadata": {
        "id": "ex-Qn945JeZm"
      },
      "execution_count": 44,
      "outputs": []
    },
    {
      "cell_type": "code",
      "source": [
        "# Drop \"Mintues\" columns now that they are summed up\n",
        "myList=('doctorMinutes','errandMinutes','shoppingMinutes','friendlyMinutes','skilledMinutes','telephoneMinutes','oddJobMinutes','yardworkMinutes','pantryDeliveryMinutes','specialMinutes','pantryMinutes','mtgMinutes')\n",
        "#myList=('doctorMinutes','errandMinutes')\n",
        "for item in myList:\n",
        "  volsvc=volsvc.drop(item,axis=1)\n",
        "\n",
        "# Drop appd_duration\n",
        "volsvc=volsvc.drop('appt_duration',axis=1)"
      ],
      "metadata": {
        "id": "svuTVOko_JNQ"
      },
      "execution_count": 45,
      "outputs": []
    },
    {
      "cell_type": "code",
      "source": [
        "volsvc.head(6)"
      ],
      "metadata": {
        "colab": {
          "base_uri": "https://localhost:8080/",
          "height": 331
        },
        "id": "DztUNloBJwTO",
        "outputId": "50e4a760-bd24-43e0-8541-59effb587f5b"
      },
      "execution_count": 46,
      "outputs": [
        {
          "output_type": "execute_result",
          "data": {
            "text/plain": [
              "     anon_ID firstApptDate lastApptDate volDuration  countOfDoctor  \\\n",
              "0          2    2020-02-18   2021-05-11    448 days             28   \n",
              "28         3    2019-08-29   2020-09-10    378 days              6   \n",
              "34         4    2019-01-14   2019-12-16    336 days             34   \n",
              "68         7    2019-03-28   2021-09-13    900 days             14   \n",
              "82         8    2019-01-23   2021-09-15    966 days             86   \n",
              "168        9    2019-05-02   2020-05-16    380 days              2   \n",
              "\n",
              "     countOfErrand  countOfShopping  countOfFriendly  countOfSkilled  \\\n",
              "0               28               28               28              28   \n",
              "28               6                6                6               6   \n",
              "34              34               34               34              34   \n",
              "68              14               14               14              14   \n",
              "82              86               86               86              86   \n",
              "168              2                2                2               2   \n",
              "\n",
              "     countOfTelephone  ...  SUMshoppingMinutes  SUMfriendlyMinutes  \\\n",
              "0                  28  ...                 0.0                 0.0   \n",
              "28                  6  ...                 0.0                 0.0   \n",
              "34                 34  ...                 0.0                41.0   \n",
              "68                 14  ...                 0.0                 0.0   \n",
              "82                 86  ...                 0.0                20.5   \n",
              "168                 2  ...                 0.0                 1.0   \n",
              "\n",
              "     SUMskilledMinutes  SUMtelephoneMinutes  SUModdJobMinutes  \\\n",
              "0                  0.0                  0.0               0.0   \n",
              "28                 0.0                  0.0               0.0   \n",
              "34                 0.0                  0.0               0.0   \n",
              "68                 0.0                  0.0               0.0   \n",
              "82                 0.0                  0.0               0.0   \n",
              "168                0.0                  0.0               0.0   \n",
              "\n",
              "     SUMyardworkMinutes  SUMpantryDeliveryMinutes  SUMspecialMinutes  \\\n",
              "0                   0.0                       0.0                0.0   \n",
              "28                  0.0                       0.0                0.0   \n",
              "34                  0.0                       0.0                0.0   \n",
              "68                  0.0                       0.0                0.0   \n",
              "82                  0.0                       0.0                0.0   \n",
              "168                 0.0                       0.0                0.0   \n",
              "\n",
              "     SUMpantryMinutes  SUMmtgMinutes  \n",
              "0                 0.0            0.0  \n",
              "28                0.0            0.0  \n",
              "34                0.0            0.0  \n",
              "68                0.0            0.0  \n",
              "82                0.0            0.0  \n",
              "168               0.0            0.0  \n",
              "\n",
              "[6 rows x 28 columns]"
            ],
            "text/html": [
              "\n",
              "  <div id=\"df-cbb7cedb-c899-4a11-8c5a-c85cb9481bef\">\n",
              "    <div class=\"colab-df-container\">\n",
              "      <div>\n",
              "<style scoped>\n",
              "    .dataframe tbody tr th:only-of-type {\n",
              "        vertical-align: middle;\n",
              "    }\n",
              "\n",
              "    .dataframe tbody tr th {\n",
              "        vertical-align: top;\n",
              "    }\n",
              "\n",
              "    .dataframe thead th {\n",
              "        text-align: right;\n",
              "    }\n",
              "</style>\n",
              "<table border=\"1\" class=\"dataframe\">\n",
              "  <thead>\n",
              "    <tr style=\"text-align: right;\">\n",
              "      <th></th>\n",
              "      <th>anon_ID</th>\n",
              "      <th>firstApptDate</th>\n",
              "      <th>lastApptDate</th>\n",
              "      <th>volDuration</th>\n",
              "      <th>countOfDoctor</th>\n",
              "      <th>countOfErrand</th>\n",
              "      <th>countOfShopping</th>\n",
              "      <th>countOfFriendly</th>\n",
              "      <th>countOfSkilled</th>\n",
              "      <th>countOfTelephone</th>\n",
              "      <th>...</th>\n",
              "      <th>SUMshoppingMinutes</th>\n",
              "      <th>SUMfriendlyMinutes</th>\n",
              "      <th>SUMskilledMinutes</th>\n",
              "      <th>SUMtelephoneMinutes</th>\n",
              "      <th>SUModdJobMinutes</th>\n",
              "      <th>SUMyardworkMinutes</th>\n",
              "      <th>SUMpantryDeliveryMinutes</th>\n",
              "      <th>SUMspecialMinutes</th>\n",
              "      <th>SUMpantryMinutes</th>\n",
              "      <th>SUMmtgMinutes</th>\n",
              "    </tr>\n",
              "  </thead>\n",
              "  <tbody>\n",
              "    <tr>\n",
              "      <th>0</th>\n",
              "      <td>2</td>\n",
              "      <td>2020-02-18</td>\n",
              "      <td>2021-05-11</td>\n",
              "      <td>448 days</td>\n",
              "      <td>28</td>\n",
              "      <td>28</td>\n",
              "      <td>28</td>\n",
              "      <td>28</td>\n",
              "      <td>28</td>\n",
              "      <td>28</td>\n",
              "      <td>...</td>\n",
              "      <td>0.0</td>\n",
              "      <td>0.0</td>\n",
              "      <td>0.0</td>\n",
              "      <td>0.0</td>\n",
              "      <td>0.0</td>\n",
              "      <td>0.0</td>\n",
              "      <td>0.0</td>\n",
              "      <td>0.0</td>\n",
              "      <td>0.0</td>\n",
              "      <td>0.0</td>\n",
              "    </tr>\n",
              "    <tr>\n",
              "      <th>28</th>\n",
              "      <td>3</td>\n",
              "      <td>2019-08-29</td>\n",
              "      <td>2020-09-10</td>\n",
              "      <td>378 days</td>\n",
              "      <td>6</td>\n",
              "      <td>6</td>\n",
              "      <td>6</td>\n",
              "      <td>6</td>\n",
              "      <td>6</td>\n",
              "      <td>6</td>\n",
              "      <td>...</td>\n",
              "      <td>0.0</td>\n",
              "      <td>0.0</td>\n",
              "      <td>0.0</td>\n",
              "      <td>0.0</td>\n",
              "      <td>0.0</td>\n",
              "      <td>0.0</td>\n",
              "      <td>0.0</td>\n",
              "      <td>0.0</td>\n",
              "      <td>0.0</td>\n",
              "      <td>0.0</td>\n",
              "    </tr>\n",
              "    <tr>\n",
              "      <th>34</th>\n",
              "      <td>4</td>\n",
              "      <td>2019-01-14</td>\n",
              "      <td>2019-12-16</td>\n",
              "      <td>336 days</td>\n",
              "      <td>34</td>\n",
              "      <td>34</td>\n",
              "      <td>34</td>\n",
              "      <td>34</td>\n",
              "      <td>34</td>\n",
              "      <td>34</td>\n",
              "      <td>...</td>\n",
              "      <td>0.0</td>\n",
              "      <td>41.0</td>\n",
              "      <td>0.0</td>\n",
              "      <td>0.0</td>\n",
              "      <td>0.0</td>\n",
              "      <td>0.0</td>\n",
              "      <td>0.0</td>\n",
              "      <td>0.0</td>\n",
              "      <td>0.0</td>\n",
              "      <td>0.0</td>\n",
              "    </tr>\n",
              "    <tr>\n",
              "      <th>68</th>\n",
              "      <td>7</td>\n",
              "      <td>2019-03-28</td>\n",
              "      <td>2021-09-13</td>\n",
              "      <td>900 days</td>\n",
              "      <td>14</td>\n",
              "      <td>14</td>\n",
              "      <td>14</td>\n",
              "      <td>14</td>\n",
              "      <td>14</td>\n",
              "      <td>14</td>\n",
              "      <td>...</td>\n",
              "      <td>0.0</td>\n",
              "      <td>0.0</td>\n",
              "      <td>0.0</td>\n",
              "      <td>0.0</td>\n",
              "      <td>0.0</td>\n",
              "      <td>0.0</td>\n",
              "      <td>0.0</td>\n",
              "      <td>0.0</td>\n",
              "      <td>0.0</td>\n",
              "      <td>0.0</td>\n",
              "    </tr>\n",
              "    <tr>\n",
              "      <th>82</th>\n",
              "      <td>8</td>\n",
              "      <td>2019-01-23</td>\n",
              "      <td>2021-09-15</td>\n",
              "      <td>966 days</td>\n",
              "      <td>86</td>\n",
              "      <td>86</td>\n",
              "      <td>86</td>\n",
              "      <td>86</td>\n",
              "      <td>86</td>\n",
              "      <td>86</td>\n",
              "      <td>...</td>\n",
              "      <td>0.0</td>\n",
              "      <td>20.5</td>\n",
              "      <td>0.0</td>\n",
              "      <td>0.0</td>\n",
              "      <td>0.0</td>\n",
              "      <td>0.0</td>\n",
              "      <td>0.0</td>\n",
              "      <td>0.0</td>\n",
              "      <td>0.0</td>\n",
              "      <td>0.0</td>\n",
              "    </tr>\n",
              "    <tr>\n",
              "      <th>168</th>\n",
              "      <td>9</td>\n",
              "      <td>2019-05-02</td>\n",
              "      <td>2020-05-16</td>\n",
              "      <td>380 days</td>\n",
              "      <td>2</td>\n",
              "      <td>2</td>\n",
              "      <td>2</td>\n",
              "      <td>2</td>\n",
              "      <td>2</td>\n",
              "      <td>2</td>\n",
              "      <td>...</td>\n",
              "      <td>0.0</td>\n",
              "      <td>1.0</td>\n",
              "      <td>0.0</td>\n",
              "      <td>0.0</td>\n",
              "      <td>0.0</td>\n",
              "      <td>0.0</td>\n",
              "      <td>0.0</td>\n",
              "      <td>0.0</td>\n",
              "      <td>0.0</td>\n",
              "      <td>0.0</td>\n",
              "    </tr>\n",
              "  </tbody>\n",
              "</table>\n",
              "<p>6 rows × 28 columns</p>\n",
              "</div>\n",
              "      <button class=\"colab-df-convert\" onclick=\"convertToInteractive('df-cbb7cedb-c899-4a11-8c5a-c85cb9481bef')\"\n",
              "              title=\"Convert this dataframe to an interactive table.\"\n",
              "              style=\"display:none;\">\n",
              "        \n",
              "  <svg xmlns=\"http://www.w3.org/2000/svg\" height=\"24px\"viewBox=\"0 0 24 24\"\n",
              "       width=\"24px\">\n",
              "    <path d=\"M0 0h24v24H0V0z\" fill=\"none\"/>\n",
              "    <path d=\"M18.56 5.44l.94 2.06.94-2.06 2.06-.94-2.06-.94-.94-2.06-.94 2.06-2.06.94zm-11 1L8.5 8.5l.94-2.06 2.06-.94-2.06-.94L8.5 2.5l-.94 2.06-2.06.94zm10 10l.94 2.06.94-2.06 2.06-.94-2.06-.94-.94-2.06-.94 2.06-2.06.94z\"/><path d=\"M17.41 7.96l-1.37-1.37c-.4-.4-.92-.59-1.43-.59-.52 0-1.04.2-1.43.59L10.3 9.45l-7.72 7.72c-.78.78-.78 2.05 0 2.83L4 21.41c.39.39.9.59 1.41.59.51 0 1.02-.2 1.41-.59l7.78-7.78 2.81-2.81c.8-.78.8-2.07 0-2.86zM5.41 20L4 18.59l7.72-7.72 1.47 1.35L5.41 20z\"/>\n",
              "  </svg>\n",
              "      </button>\n",
              "      \n",
              "  <style>\n",
              "    .colab-df-container {\n",
              "      display:flex;\n",
              "      flex-wrap:wrap;\n",
              "      gap: 12px;\n",
              "    }\n",
              "\n",
              "    .colab-df-convert {\n",
              "      background-color: #E8F0FE;\n",
              "      border: none;\n",
              "      border-radius: 50%;\n",
              "      cursor: pointer;\n",
              "      display: none;\n",
              "      fill: #1967D2;\n",
              "      height: 32px;\n",
              "      padding: 0 0 0 0;\n",
              "      width: 32px;\n",
              "    }\n",
              "\n",
              "    .colab-df-convert:hover {\n",
              "      background-color: #E2EBFA;\n",
              "      box-shadow: 0px 1px 2px rgba(60, 64, 67, 0.3), 0px 1px 3px 1px rgba(60, 64, 67, 0.15);\n",
              "      fill: #174EA6;\n",
              "    }\n",
              "\n",
              "    [theme=dark] .colab-df-convert {\n",
              "      background-color: #3B4455;\n",
              "      fill: #D2E3FC;\n",
              "    }\n",
              "\n",
              "    [theme=dark] .colab-df-convert:hover {\n",
              "      background-color: #434B5C;\n",
              "      box-shadow: 0px 1px 3px 1px rgba(0, 0, 0, 0.15);\n",
              "      filter: drop-shadow(0px 1px 2px rgba(0, 0, 0, 0.3));\n",
              "      fill: #FFFFFF;\n",
              "    }\n",
              "  </style>\n",
              "\n",
              "      <script>\n",
              "        const buttonEl =\n",
              "          document.querySelector('#df-cbb7cedb-c899-4a11-8c5a-c85cb9481bef button.colab-df-convert');\n",
              "        buttonEl.style.display =\n",
              "          google.colab.kernel.accessAllowed ? 'block' : 'none';\n",
              "\n",
              "        async function convertToInteractive(key) {\n",
              "          const element = document.querySelector('#df-cbb7cedb-c899-4a11-8c5a-c85cb9481bef');\n",
              "          const dataTable =\n",
              "            await google.colab.kernel.invokeFunction('convertToInteractive',\n",
              "                                                     [key], {});\n",
              "          if (!dataTable) return;\n",
              "\n",
              "          const docLinkHtml = 'Like what you see? Visit the ' +\n",
              "            '<a target=\"_blank\" href=https://colab.research.google.com/notebooks/data_table.ipynb>data table notebook</a>'\n",
              "            + ' to learn more about interactive tables.';\n",
              "          element.innerHTML = '';\n",
              "          dataTable['output_type'] = 'display_data';\n",
              "          await google.colab.output.renderOutput(dataTable, element);\n",
              "          const docLink = document.createElement('div');\n",
              "          docLink.innerHTML = docLinkHtml;\n",
              "          element.appendChild(docLink);\n",
              "        }\n",
              "      </script>\n",
              "    </div>\n",
              "  </div>\n",
              "  "
            ]
          },
          "metadata": {},
          "execution_count": 46
        }
      ]
    },
    {
      "cell_type": "code",
      "source": [
        "volsvc.describe().transpose()"
      ],
      "metadata": {
        "colab": {
          "base_uri": "https://localhost:8080/",
          "height": 926
        },
        "id": "UuWa_uiQJ24e",
        "outputId": "1d054ade-d535-44b0-8bd4-52551749c959"
      },
      "execution_count": 47,
      "outputs": [
        {
          "output_type": "execute_result",
          "data": {
            "text/plain": [
              "                          count               mean  \\\n",
              "anon_ID                   162.0         330.820988   \n",
              "volDuration                 162  481 days 15:06:40   \n",
              "countOfDoctor             162.0          30.401235   \n",
              "countOfErrand             162.0          30.401235   \n",
              "countOfShopping           162.0          30.401235   \n",
              "countOfFriendly           162.0          30.401235   \n",
              "countOfSkilled            162.0          30.401235   \n",
              "countOfTelephone          162.0          30.401235   \n",
              "countOfOddJob             162.0          30.401235   \n",
              "countOfYardwork           162.0          30.401235   \n",
              "countOfPantryDlvy         162.0          30.401235   \n",
              "countOfSpecial            162.0          30.401235   \n",
              "countOfPantry             162.0          30.401235   \n",
              "countOfMtg                162.0          30.401235   \n",
              "SUMdoctorMinutes          162.0          26.955247   \n",
              "SUMerrandMinutes          162.0           0.908951   \n",
              "SUMshoppingMinutes        162.0          20.844136   \n",
              "SUMfriendlyMinutes        162.0          12.878086   \n",
              "SUMskilledMinutes         162.0           3.509259   \n",
              "SUMtelephoneMinutes       162.0           0.012346   \n",
              "SUModdJobMinutes          162.0           1.237654   \n",
              "SUMyardworkMinutes        162.0           0.367284   \n",
              "SUMpantryDeliveryMinutes  162.0           0.966049   \n",
              "SUMspecialMinutes         162.0           4.898148   \n",
              "SUMpantryMinutes          162.0          15.299383   \n",
              "SUMmtgMinutes             162.0           8.351852   \n",
              "\n",
              "                                                  std              min  \\\n",
              "anon_ID                                    187.263554              2.0   \n",
              "volDuration               368 days 06:26:52.968437976  0 days 00:00:00   \n",
              "countOfDoctor                               53.978424              1.0   \n",
              "countOfErrand                               53.978424              1.0   \n",
              "countOfShopping                             53.978424              1.0   \n",
              "countOfFriendly                             53.978424              1.0   \n",
              "countOfSkilled                              53.978424              1.0   \n",
              "countOfTelephone                            53.978424              1.0   \n",
              "countOfOddJob                               53.978424              1.0   \n",
              "countOfYardwork                             53.978424              1.0   \n",
              "countOfPantryDlvy                           53.978424              1.0   \n",
              "countOfSpecial                              53.978424              1.0   \n",
              "countOfPantry                               53.978424              1.0   \n",
              "countOfMtg                                  53.978424              1.0   \n",
              "SUMdoctorMinutes                            47.465989              0.0   \n",
              "SUMerrandMinutes                             3.400397              0.0   \n",
              "SUMshoppingMinutes                          38.586416              0.0   \n",
              "SUMfriendlyMinutes                          39.166463              0.0   \n",
              "SUMskilledMinutes                           44.428758              0.0   \n",
              "SUMtelephoneMinutes                          0.157135              0.0   \n",
              "SUModdJobMinutes                             7.718746              0.0   \n",
              "SUMyardworkMinutes                           3.424788              0.0   \n",
              "SUMpantryDeliveryMinutes                    12.060938              0.0   \n",
              "SUMspecialMinutes                           53.590903              0.0   \n",
              "SUMpantryMinutes                           194.729351              0.0   \n",
              "SUMmtgMinutes                               92.038506              0.0   \n",
              "\n",
              "                                        25%                50%  \\\n",
              "anon_ID                              175.75              332.5   \n",
              "volDuration               117 days 06:00:00  416 days 00:00:00   \n",
              "countOfDoctor                           5.0               14.0   \n",
              "countOfErrand                           5.0               14.0   \n",
              "countOfShopping                         5.0               14.0   \n",
              "countOfFriendly                         5.0               14.0   \n",
              "countOfSkilled                          5.0               14.0   \n",
              "countOfTelephone                        5.0               14.0   \n",
              "countOfOddJob                           5.0               14.0   \n",
              "countOfYardwork                         5.0               14.0   \n",
              "countOfPantryDlvy                       5.0               14.0   \n",
              "countOfSpecial                          5.0               14.0   \n",
              "countOfPantry                           5.0               14.0   \n",
              "countOfMtg                              5.0               14.0   \n",
              "SUMdoctorMinutes                        0.0                6.0   \n",
              "SUMerrandMinutes                        0.0                0.0   \n",
              "SUMshoppingMinutes                      0.0                0.0   \n",
              "SUMfriendlyMinutes                      0.0                0.0   \n",
              "SUMskilledMinutes                       0.0                0.0   \n",
              "SUMtelephoneMinutes                     0.0                0.0   \n",
              "SUModdJobMinutes                        0.0                0.0   \n",
              "SUMyardworkMinutes                      0.0                0.0   \n",
              "SUMpantryDeliveryMinutes                0.0                0.0   \n",
              "SUMspecialMinutes                       0.0                0.0   \n",
              "SUMpantryMinutes                        0.0                0.0   \n",
              "SUMmtgMinutes                           0.0                0.0   \n",
              "\n",
              "                                        75%                max  \n",
              "anon_ID                               493.5              641.0  \n",
              "volDuration               894 days 00:00:00  987 days 00:00:00  \n",
              "countOfDoctor                         34.75              529.0  \n",
              "countOfErrand                         34.75              529.0  \n",
              "countOfShopping                       34.75              529.0  \n",
              "countOfFriendly                       34.75              529.0  \n",
              "countOfSkilled                        34.75              529.0  \n",
              "countOfTelephone                      34.75              529.0  \n",
              "countOfOddJob                         34.75              529.0  \n",
              "countOfYardwork                       34.75              529.0  \n",
              "countOfPantryDlvy                     34.75              529.0  \n",
              "countOfSpecial                        34.75              529.0  \n",
              "countOfPantry                         34.75              529.0  \n",
              "countOfMtg                            34.75              529.0  \n",
              "SUMdoctorMinutes                     25.875              278.5  \n",
              "SUMerrandMinutes                        0.0               25.5  \n",
              "SUMshoppingMinutes                   27.375              250.5  \n",
              "SUMfriendlyMinutes                    3.375              257.0  \n",
              "SUMskilledMinutes                       0.0              565.5  \n",
              "SUMtelephoneMinutes                     0.0                2.0  \n",
              "SUModdJobMinutes                        0.0               90.0  \n",
              "SUMyardworkMinutes                      0.0               40.0  \n",
              "SUMpantryDeliveryMinutes                0.0              153.5  \n",
              "SUMspecialMinutes                       0.0              677.5  \n",
              "SUMpantryMinutes                        0.0             2478.5  \n",
              "SUMmtgMinutes                           0.0             1156.0  "
            ],
            "text/html": [
              "\n",
              "  <div id=\"df-935d9c98-534c-4539-8f63-0a9e0e86ff1b\">\n",
              "    <div class=\"colab-df-container\">\n",
              "      <div>\n",
              "<style scoped>\n",
              "    .dataframe tbody tr th:only-of-type {\n",
              "        vertical-align: middle;\n",
              "    }\n",
              "\n",
              "    .dataframe tbody tr th {\n",
              "        vertical-align: top;\n",
              "    }\n",
              "\n",
              "    .dataframe thead th {\n",
              "        text-align: right;\n",
              "    }\n",
              "</style>\n",
              "<table border=\"1\" class=\"dataframe\">\n",
              "  <thead>\n",
              "    <tr style=\"text-align: right;\">\n",
              "      <th></th>\n",
              "      <th>count</th>\n",
              "      <th>mean</th>\n",
              "      <th>std</th>\n",
              "      <th>min</th>\n",
              "      <th>25%</th>\n",
              "      <th>50%</th>\n",
              "      <th>75%</th>\n",
              "      <th>max</th>\n",
              "    </tr>\n",
              "  </thead>\n",
              "  <tbody>\n",
              "    <tr>\n",
              "      <th>anon_ID</th>\n",
              "      <td>162.0</td>\n",
              "      <td>330.820988</td>\n",
              "      <td>187.263554</td>\n",
              "      <td>2.0</td>\n",
              "      <td>175.75</td>\n",
              "      <td>332.5</td>\n",
              "      <td>493.5</td>\n",
              "      <td>641.0</td>\n",
              "    </tr>\n",
              "    <tr>\n",
              "      <th>volDuration</th>\n",
              "      <td>162</td>\n",
              "      <td>481 days 15:06:40</td>\n",
              "      <td>368 days 06:26:52.968437976</td>\n",
              "      <td>0 days 00:00:00</td>\n",
              "      <td>117 days 06:00:00</td>\n",
              "      <td>416 days 00:00:00</td>\n",
              "      <td>894 days 00:00:00</td>\n",
              "      <td>987 days 00:00:00</td>\n",
              "    </tr>\n",
              "    <tr>\n",
              "      <th>countOfDoctor</th>\n",
              "      <td>162.0</td>\n",
              "      <td>30.401235</td>\n",
              "      <td>53.978424</td>\n",
              "      <td>1.0</td>\n",
              "      <td>5.0</td>\n",
              "      <td>14.0</td>\n",
              "      <td>34.75</td>\n",
              "      <td>529.0</td>\n",
              "    </tr>\n",
              "    <tr>\n",
              "      <th>countOfErrand</th>\n",
              "      <td>162.0</td>\n",
              "      <td>30.401235</td>\n",
              "      <td>53.978424</td>\n",
              "      <td>1.0</td>\n",
              "      <td>5.0</td>\n",
              "      <td>14.0</td>\n",
              "      <td>34.75</td>\n",
              "      <td>529.0</td>\n",
              "    </tr>\n",
              "    <tr>\n",
              "      <th>countOfShopping</th>\n",
              "      <td>162.0</td>\n",
              "      <td>30.401235</td>\n",
              "      <td>53.978424</td>\n",
              "      <td>1.0</td>\n",
              "      <td>5.0</td>\n",
              "      <td>14.0</td>\n",
              "      <td>34.75</td>\n",
              "      <td>529.0</td>\n",
              "    </tr>\n",
              "    <tr>\n",
              "      <th>countOfFriendly</th>\n",
              "      <td>162.0</td>\n",
              "      <td>30.401235</td>\n",
              "      <td>53.978424</td>\n",
              "      <td>1.0</td>\n",
              "      <td>5.0</td>\n",
              "      <td>14.0</td>\n",
              "      <td>34.75</td>\n",
              "      <td>529.0</td>\n",
              "    </tr>\n",
              "    <tr>\n",
              "      <th>countOfSkilled</th>\n",
              "      <td>162.0</td>\n",
              "      <td>30.401235</td>\n",
              "      <td>53.978424</td>\n",
              "      <td>1.0</td>\n",
              "      <td>5.0</td>\n",
              "      <td>14.0</td>\n",
              "      <td>34.75</td>\n",
              "      <td>529.0</td>\n",
              "    </tr>\n",
              "    <tr>\n",
              "      <th>countOfTelephone</th>\n",
              "      <td>162.0</td>\n",
              "      <td>30.401235</td>\n",
              "      <td>53.978424</td>\n",
              "      <td>1.0</td>\n",
              "      <td>5.0</td>\n",
              "      <td>14.0</td>\n",
              "      <td>34.75</td>\n",
              "      <td>529.0</td>\n",
              "    </tr>\n",
              "    <tr>\n",
              "      <th>countOfOddJob</th>\n",
              "      <td>162.0</td>\n",
              "      <td>30.401235</td>\n",
              "      <td>53.978424</td>\n",
              "      <td>1.0</td>\n",
              "      <td>5.0</td>\n",
              "      <td>14.0</td>\n",
              "      <td>34.75</td>\n",
              "      <td>529.0</td>\n",
              "    </tr>\n",
              "    <tr>\n",
              "      <th>countOfYardwork</th>\n",
              "      <td>162.0</td>\n",
              "      <td>30.401235</td>\n",
              "      <td>53.978424</td>\n",
              "      <td>1.0</td>\n",
              "      <td>5.0</td>\n",
              "      <td>14.0</td>\n",
              "      <td>34.75</td>\n",
              "      <td>529.0</td>\n",
              "    </tr>\n",
              "    <tr>\n",
              "      <th>countOfPantryDlvy</th>\n",
              "      <td>162.0</td>\n",
              "      <td>30.401235</td>\n",
              "      <td>53.978424</td>\n",
              "      <td>1.0</td>\n",
              "      <td>5.0</td>\n",
              "      <td>14.0</td>\n",
              "      <td>34.75</td>\n",
              "      <td>529.0</td>\n",
              "    </tr>\n",
              "    <tr>\n",
              "      <th>countOfSpecial</th>\n",
              "      <td>162.0</td>\n",
              "      <td>30.401235</td>\n",
              "      <td>53.978424</td>\n",
              "      <td>1.0</td>\n",
              "      <td>5.0</td>\n",
              "      <td>14.0</td>\n",
              "      <td>34.75</td>\n",
              "      <td>529.0</td>\n",
              "    </tr>\n",
              "    <tr>\n",
              "      <th>countOfPantry</th>\n",
              "      <td>162.0</td>\n",
              "      <td>30.401235</td>\n",
              "      <td>53.978424</td>\n",
              "      <td>1.0</td>\n",
              "      <td>5.0</td>\n",
              "      <td>14.0</td>\n",
              "      <td>34.75</td>\n",
              "      <td>529.0</td>\n",
              "    </tr>\n",
              "    <tr>\n",
              "      <th>countOfMtg</th>\n",
              "      <td>162.0</td>\n",
              "      <td>30.401235</td>\n",
              "      <td>53.978424</td>\n",
              "      <td>1.0</td>\n",
              "      <td>5.0</td>\n",
              "      <td>14.0</td>\n",
              "      <td>34.75</td>\n",
              "      <td>529.0</td>\n",
              "    </tr>\n",
              "    <tr>\n",
              "      <th>SUMdoctorMinutes</th>\n",
              "      <td>162.0</td>\n",
              "      <td>26.955247</td>\n",
              "      <td>47.465989</td>\n",
              "      <td>0.0</td>\n",
              "      <td>0.0</td>\n",
              "      <td>6.0</td>\n",
              "      <td>25.875</td>\n",
              "      <td>278.5</td>\n",
              "    </tr>\n",
              "    <tr>\n",
              "      <th>SUMerrandMinutes</th>\n",
              "      <td>162.0</td>\n",
              "      <td>0.908951</td>\n",
              "      <td>3.400397</td>\n",
              "      <td>0.0</td>\n",
              "      <td>0.0</td>\n",
              "      <td>0.0</td>\n",
              "      <td>0.0</td>\n",
              "      <td>25.5</td>\n",
              "    </tr>\n",
              "    <tr>\n",
              "      <th>SUMshoppingMinutes</th>\n",
              "      <td>162.0</td>\n",
              "      <td>20.844136</td>\n",
              "      <td>38.586416</td>\n",
              "      <td>0.0</td>\n",
              "      <td>0.0</td>\n",
              "      <td>0.0</td>\n",
              "      <td>27.375</td>\n",
              "      <td>250.5</td>\n",
              "    </tr>\n",
              "    <tr>\n",
              "      <th>SUMfriendlyMinutes</th>\n",
              "      <td>162.0</td>\n",
              "      <td>12.878086</td>\n",
              "      <td>39.166463</td>\n",
              "      <td>0.0</td>\n",
              "      <td>0.0</td>\n",
              "      <td>0.0</td>\n",
              "      <td>3.375</td>\n",
              "      <td>257.0</td>\n",
              "    </tr>\n",
              "    <tr>\n",
              "      <th>SUMskilledMinutes</th>\n",
              "      <td>162.0</td>\n",
              "      <td>3.509259</td>\n",
              "      <td>44.428758</td>\n",
              "      <td>0.0</td>\n",
              "      <td>0.0</td>\n",
              "      <td>0.0</td>\n",
              "      <td>0.0</td>\n",
              "      <td>565.5</td>\n",
              "    </tr>\n",
              "    <tr>\n",
              "      <th>SUMtelephoneMinutes</th>\n",
              "      <td>162.0</td>\n",
              "      <td>0.012346</td>\n",
              "      <td>0.157135</td>\n",
              "      <td>0.0</td>\n",
              "      <td>0.0</td>\n",
              "      <td>0.0</td>\n",
              "      <td>0.0</td>\n",
              "      <td>2.0</td>\n",
              "    </tr>\n",
              "    <tr>\n",
              "      <th>SUModdJobMinutes</th>\n",
              "      <td>162.0</td>\n",
              "      <td>1.237654</td>\n",
              "      <td>7.718746</td>\n",
              "      <td>0.0</td>\n",
              "      <td>0.0</td>\n",
              "      <td>0.0</td>\n",
              "      <td>0.0</td>\n",
              "      <td>90.0</td>\n",
              "    </tr>\n",
              "    <tr>\n",
              "      <th>SUMyardworkMinutes</th>\n",
              "      <td>162.0</td>\n",
              "      <td>0.367284</td>\n",
              "      <td>3.424788</td>\n",
              "      <td>0.0</td>\n",
              "      <td>0.0</td>\n",
              "      <td>0.0</td>\n",
              "      <td>0.0</td>\n",
              "      <td>40.0</td>\n",
              "    </tr>\n",
              "    <tr>\n",
              "      <th>SUMpantryDeliveryMinutes</th>\n",
              "      <td>162.0</td>\n",
              "      <td>0.966049</td>\n",
              "      <td>12.060938</td>\n",
              "      <td>0.0</td>\n",
              "      <td>0.0</td>\n",
              "      <td>0.0</td>\n",
              "      <td>0.0</td>\n",
              "      <td>153.5</td>\n",
              "    </tr>\n",
              "    <tr>\n",
              "      <th>SUMspecialMinutes</th>\n",
              "      <td>162.0</td>\n",
              "      <td>4.898148</td>\n",
              "      <td>53.590903</td>\n",
              "      <td>0.0</td>\n",
              "      <td>0.0</td>\n",
              "      <td>0.0</td>\n",
              "      <td>0.0</td>\n",
              "      <td>677.5</td>\n",
              "    </tr>\n",
              "    <tr>\n",
              "      <th>SUMpantryMinutes</th>\n",
              "      <td>162.0</td>\n",
              "      <td>15.299383</td>\n",
              "      <td>194.729351</td>\n",
              "      <td>0.0</td>\n",
              "      <td>0.0</td>\n",
              "      <td>0.0</td>\n",
              "      <td>0.0</td>\n",
              "      <td>2478.5</td>\n",
              "    </tr>\n",
              "    <tr>\n",
              "      <th>SUMmtgMinutes</th>\n",
              "      <td>162.0</td>\n",
              "      <td>8.351852</td>\n",
              "      <td>92.038506</td>\n",
              "      <td>0.0</td>\n",
              "      <td>0.0</td>\n",
              "      <td>0.0</td>\n",
              "      <td>0.0</td>\n",
              "      <td>1156.0</td>\n",
              "    </tr>\n",
              "  </tbody>\n",
              "</table>\n",
              "</div>\n",
              "      <button class=\"colab-df-convert\" onclick=\"convertToInteractive('df-935d9c98-534c-4539-8f63-0a9e0e86ff1b')\"\n",
              "              title=\"Convert this dataframe to an interactive table.\"\n",
              "              style=\"display:none;\">\n",
              "        \n",
              "  <svg xmlns=\"http://www.w3.org/2000/svg\" height=\"24px\"viewBox=\"0 0 24 24\"\n",
              "       width=\"24px\">\n",
              "    <path d=\"M0 0h24v24H0V0z\" fill=\"none\"/>\n",
              "    <path d=\"M18.56 5.44l.94 2.06.94-2.06 2.06-.94-2.06-.94-.94-2.06-.94 2.06-2.06.94zm-11 1L8.5 8.5l.94-2.06 2.06-.94-2.06-.94L8.5 2.5l-.94 2.06-2.06.94zm10 10l.94 2.06.94-2.06 2.06-.94-2.06-.94-.94-2.06-.94 2.06-2.06.94z\"/><path d=\"M17.41 7.96l-1.37-1.37c-.4-.4-.92-.59-1.43-.59-.52 0-1.04.2-1.43.59L10.3 9.45l-7.72 7.72c-.78.78-.78 2.05 0 2.83L4 21.41c.39.39.9.59 1.41.59.51 0 1.02-.2 1.41-.59l7.78-7.78 2.81-2.81c.8-.78.8-2.07 0-2.86zM5.41 20L4 18.59l7.72-7.72 1.47 1.35L5.41 20z\"/>\n",
              "  </svg>\n",
              "      </button>\n",
              "      \n",
              "  <style>\n",
              "    .colab-df-container {\n",
              "      display:flex;\n",
              "      flex-wrap:wrap;\n",
              "      gap: 12px;\n",
              "    }\n",
              "\n",
              "    .colab-df-convert {\n",
              "      background-color: #E8F0FE;\n",
              "      border: none;\n",
              "      border-radius: 50%;\n",
              "      cursor: pointer;\n",
              "      display: none;\n",
              "      fill: #1967D2;\n",
              "      height: 32px;\n",
              "      padding: 0 0 0 0;\n",
              "      width: 32px;\n",
              "    }\n",
              "\n",
              "    .colab-df-convert:hover {\n",
              "      background-color: #E2EBFA;\n",
              "      box-shadow: 0px 1px 2px rgba(60, 64, 67, 0.3), 0px 1px 3px 1px rgba(60, 64, 67, 0.15);\n",
              "      fill: #174EA6;\n",
              "    }\n",
              "\n",
              "    [theme=dark] .colab-df-convert {\n",
              "      background-color: #3B4455;\n",
              "      fill: #D2E3FC;\n",
              "    }\n",
              "\n",
              "    [theme=dark] .colab-df-convert:hover {\n",
              "      background-color: #434B5C;\n",
              "      box-shadow: 0px 1px 3px 1px rgba(0, 0, 0, 0.15);\n",
              "      filter: drop-shadow(0px 1px 2px rgba(0, 0, 0, 0.3));\n",
              "      fill: #FFFFFF;\n",
              "    }\n",
              "  </style>\n",
              "\n",
              "      <script>\n",
              "        const buttonEl =\n",
              "          document.querySelector('#df-935d9c98-534c-4539-8f63-0a9e0e86ff1b button.colab-df-convert');\n",
              "        buttonEl.style.display =\n",
              "          google.colab.kernel.accessAllowed ? 'block' : 'none';\n",
              "\n",
              "        async function convertToInteractive(key) {\n",
              "          const element = document.querySelector('#df-935d9c98-534c-4539-8f63-0a9e0e86ff1b');\n",
              "          const dataTable =\n",
              "            await google.colab.kernel.invokeFunction('convertToInteractive',\n",
              "                                                     [key], {});\n",
              "          if (!dataTable) return;\n",
              "\n",
              "          const docLinkHtml = 'Like what you see? Visit the ' +\n",
              "            '<a target=\"_blank\" href=https://colab.research.google.com/notebooks/data_table.ipynb>data table notebook</a>'\n",
              "            + ' to learn more about interactive tables.';\n",
              "          element.innerHTML = '';\n",
              "          dataTable['output_type'] = 'display_data';\n",
              "          await google.colab.output.renderOutput(dataTable, element);\n",
              "          const docLink = document.createElement('div');\n",
              "          docLink.innerHTML = docLinkHtml;\n",
              "          element.appendChild(docLink);\n",
              "        }\n",
              "      </script>\n",
              "    </div>\n",
              "  </div>\n",
              "  "
            ]
          },
          "metadata": {},
          "execution_count": 47
        }
      ]
    },
    {
      "cell_type": "markdown",
      "source": [
        "Q. Should we analyze usage by ID per category?"
      ],
      "metadata": {
        "id": "pIf9kevyvhN5"
      }
    },
    {
      "cell_type": "code",
      "source": [
        "volsvc.to_csv('/content/gdrive/MyDrive/dataPhilly_ElderNet/volsvc_flat.csv')"
      ],
      "metadata": {
        "id": "7fF7x--Twu_k"
      },
      "execution_count": 26,
      "outputs": []
    }
  ]
}